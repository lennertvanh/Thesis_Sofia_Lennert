{
 "cells": [
  {
   "cell_type": "markdown",
   "metadata": {},
   "source": [
    "# Ensemble of 50 Model Chains"
   ]
  },
  {
   "cell_type": "markdown",
   "metadata": {},
   "source": [
    "TThis notebook compares the scores of an ensemble of 50 Model Chains where we propagate either the target predictions or the true target values. "
   ]
  },
  {
   "cell_type": "code",
   "execution_count": 1,
   "metadata": {},
   "outputs": [],
   "source": [
    "import numpy as np\n",
    "import pandas as pd\n",
    "import itertools\n",
    "import random\n",
    "\n",
    "from sklearn.ensemble import RandomForestRegressor, RandomForestClassifier\n",
    "from sklearn.metrics import r2_score, accuracy_score\n",
    "from chaining import Chain\n",
    "import os\n",
    "from scipy.stats import mode"
   ]
  },
  {
   "cell_type": "code",
   "execution_count": 2,
   "metadata": {},
   "outputs": [],
   "source": [
    "def generate_permutations_with_order(variables, pairs_or_groups, num_permutations, constrained_elements=None, shuffle_at_end=None, random_state=None):\n",
    "    random.seed(random_state)\n",
    "    permutations_list = [list(variables)]  # Add the original order only once as a list of strings\n",
    "    \n",
    "    while len(permutations_list) < num_permutations + 1: # +1 because the original order is counted too\n",
    "        perm = list(random.sample(variables, len(variables)))\n",
    "        valid = True\n",
    "        \n",
    "        for pair_or_group in pairs_or_groups:\n",
    "            idxs = [perm.index(var) for var in pair_or_group]\n",
    "            if sorted(idxs) != idxs:\n",
    "                valid = False\n",
    "                break\n",
    "        \n",
    "        if valid:\n",
    "            if constrained_elements:\n",
    "                # Check if all constrained elements are present in the first positions of the permutation\n",
    "                if all(elem in perm[:len(constrained_elements)] for elem in constrained_elements):\n",
    "                    permutations_list.append(perm)\n",
    "    \n",
    "    # Shuffle the positions of variables specified to be shuffled at the end\n",
    "    if shuffle_at_end:\n",
    "        for idx, perm in enumerate(permutations_list[1:], start=1):  # Start from index 1 because original order shouldn't be shuffled\n",
    "            for variable in shuffle_at_end:\n",
    "                if variable in perm:\n",
    "                    perm.remove(variable)\n",
    "                    perm.insert(random.randint(0, len(perm)), variable)\n",
    "    \n",
    "    return permutations_list"
   ]
  },
  {
   "cell_type": "code",
   "execution_count": 3,
   "metadata": {},
   "outputs": [],
   "source": [
    "def missingness_stratified_cv(df, N_FOLDS=5, random_state=None):\n",
    "    # Add seed for reproducibility of the predictions (to get the same scores each time we run the code)\n",
    "    np.random.seed(random_state)\n",
    "\n",
    "    # Initial complete-case test fold assignment\n",
    "    cv = pd.Series(np.nan, index=df.index)\n",
    "    i_cc = (df.isna().sum(axis=1) == 0) # Complete cases\n",
    "    cv.iloc[i_cc] = np.random.randint(low=0, high=N_FOLDS, size=i_cc.sum())\n",
    "\n",
    "    # Go over columns from most missing to least missing\n",
    "    for j in df.isna().sum().argsort()[::-1]:\n",
    "        # Instances i that are not assigned yet but for which df[i,j] is observed\n",
    "        i_tbf = (cv.isna()) & (~df.iloc[:,j].isna()) # to be filled\n",
    "        # Fill them randomly\n",
    "        cv.iloc[i_tbf] = np.random.randint(low=0, high=N_FOLDS, size=i_tbf.sum())\n",
    "\n",
    "    return cv"
   ]
  },
  {
   "cell_type": "code",
   "execution_count": 4,
   "metadata": {},
   "outputs": [],
   "source": [
    "def missingness_and_categorical_stratified_cv(df, N_FOLDS=5, random_state=None):\n",
    "    # Add seed for reproducibility of the predictions (to get the same scores each time we run the code)\n",
    "    np.random.seed(random_state)\n",
    "\n",
    "    # Initial complete-case test fold assignment\n",
    "    cv = pd.Series(np.nan, index=df.index)\n",
    "    i_cc = (df.isna().sum(axis=1) == 0) # Complete cases\n",
    "    cv.iloc[i_cc] = np.random.randint(low=0, high=N_FOLDS, size=i_cc.sum())\n",
    "\n",
    "    # Stratify categorical variables\n",
    "    for col in df.select_dtypes(include=['category']):\n",
    "        counts = df[col].value_counts(normalize=True)\n",
    "        for category in counts.index:\n",
    "            idx = df[col] == category\n",
    "            cv[idx] = cv[idx].fillna(np.random.choice(np.where(idx)[0], size=int(counts[category] * N_FOLDS), replace=False))\n",
    "\n",
    "    # Go over columns from most missing to least missing\n",
    "    for j in df.isna().sum().argsort()[::-1]:\n",
    "        # Instances i that are not assigned yet but for which df[i,j] is observed\n",
    "        i_tbf = (cv.isna()) & (~df.iloc[:,j].isna()) # to be filled\n",
    "        # Fill them randomly\n",
    "        cv.iloc[i_tbf] = np.random.randint(low=0, high=N_FOLDS, size=i_tbf.sum())\n",
    "\n",
    "    return cv"
   ]
  },
  {
   "cell_type": "code",
   "execution_count": 5,
   "metadata": {},
   "outputs": [],
   "source": [
    "# Define a function to reorder columns of dataframes\n",
    "def reorder_columns(dataframes):\n",
    "    # Get the column order from the first dataframe\n",
    "    column_order = dataframes[0].columns\n",
    "    # Reorder columns for each dataframe in the list\n",
    "    reordered_dataframes = [df[column_order] for df in dataframes]\n",
    "    return reordered_dataframes\n"
   ]
  },
  {
   "cell_type": "code",
   "execution_count": 6,
   "metadata": {},
   "outputs": [],
   "source": [
    "# Define a function to average dataframes\n",
    "def average_dataframes(dataframes):\n",
    "    # Concatenate dataframes within the list\n",
    "    concatenated_df = pd.concat(dataframes)\n",
    "    # Group by index and calculate the mode for object columns and mean for other types\n",
    "    averaged_df = concatenated_df.groupby(concatenated_df.index).agg(lambda x: x.mode()[0] if x.dtype == 'O' else x.mean())\n",
    "    return averaged_df\n"
   ]
  },
  {
   "cell_type": "markdown",
   "metadata": {},
   "source": [
    "---"
   ]
  },
  {
   "cell_type": "code",
   "execution_count": 7,
   "metadata": {},
   "outputs": [],
   "source": [
    "possible_paths = [\n",
    "    'C:/Users/lenne/OneDrive/Documenten/Master of Statistics and Data Science/2023-2024/Master thesis/Thesis_Sofia_Lennert/new_data',\n",
    "    'C:/Users/anaso/Desktop/SOFIA MENDES/KU Leuven/Master Thesis/Thesis_Sofia_Lennert/new_data'\n",
    "]\n",
    "\n",
    "# Define file names\n",
    "file = 'merged_data.csv'\n",
    "\n",
    "# Find full paths to the CSV files\n",
    "path = next((f'{path}/{file}' for path in possible_paths if os.path.exists(f'{path}/{file}')), None)\n",
    "\n",
    "data = pd.read_csv(path)\n",
    "\n",
    "# Bin the number of relapses into 0, 1, 2, 3 and 4+ \n",
    "def bin_column(value):\n",
    "    if value in [0, 1, 2, 3]:\n",
    "        return str(value)\n",
    "    else:\n",
    "        return '4+'\n",
    "data['NRELAP'] = data['NRELAP'].apply(bin_column)\n",
    "\n",
    "# Display all columns\n",
    "pd.set_option('display.max_columns', None)\n",
    "#data"
   ]
  },
  {
   "cell_type": "code",
   "execution_count": 8,
   "metadata": {},
   "outputs": [],
   "source": [
    "# Choice of target variables, and listed already in the chain order \n",
    "variables = ['KFSS_M-2y', 'KFSS_P-2y', 'EDSS-2y', 'T25FW-2y', 'NHPT-2y', 'P_R36-SF12-after', 'M_R36-SF12-after', \n",
    "             'SES_after', 'SLEC_after', 'KFSS_M-after_2y', 'KFSS_P-after_2y', 'EDSS-after_2y', 'NRELAP', 'CESEV']\n",
    "\n",
    "# Choice of input variables\n",
    "columns_to_keep = ['AGE', 'SEX', 'RACE', 'CONTINENT', 'MHDIAGN', 'CARDIO', 'URINARY', 'MUSCKELET', 'FATIGUE', \n",
    "                    'NHPT-before', 'PASAT_2s-before', 'PASAT_3s-before', 'SDMT-before', 'T25FW-before', 'SLEC_before','SES_before',\n",
    "                    'BDI-before', 'EDSS-before', 'KFSS_M-before', 'KFSS_P-before', 'M_R36-SF12-before',\n",
    "                \t'P_R36-SF12-before', 'R36-SF12-before_Ind', 'T-before','P-before','N-before']\n",
    "\n",
    "features = data[columns_to_keep]\n",
    "#features"
   ]
  },
  {
   "cell_type": "code",
   "execution_count": 9,
   "metadata": {},
   "outputs": [],
   "source": [
    "# Use one-hot encoding for categorical and binary input variables\n",
    "object_columns = features.select_dtypes(include=['object'])\n",
    "features = pd.get_dummies(features, columns=object_columns.columns, dtype=int)\n",
    "#features.head()"
   ]
  },
  {
   "cell_type": "code",
   "execution_count": 10,
   "metadata": {},
   "outputs": [
    {
     "name": "stdout",
     "output_type": "stream",
     "text": [
      "Permutation 0: KFSS_M-2y, KFSS_P-2y, EDSS-2y, T25FW-2y, NHPT-2y, P_R36-SF12-after, M_R36-SF12-after, SES_after, SLEC_after, KFSS_M-after_2y, KFSS_P-after_2y, EDSS-after_2y, NRELAP, CESEV\n",
      "Permutation 1: T25FW-2y, KFSS_M-2y, NHPT-2y, KFSS_P-2y, EDSS-2y, NRELAP, KFSS_M-after_2y, SLEC_after, M_R36-SF12-after, CESEV, P_R36-SF12-after, KFSS_P-after_2y, EDSS-after_2y, SES_after\n",
      "Permutation 2: NHPT-2y, NRELAP, KFSS_P-2y, KFSS_M-2y, T25FW-2y, CESEV, EDSS-2y, M_R36-SF12-after, SES_after, SLEC_after, KFSS_P-after_2y, P_R36-SF12-after, KFSS_M-after_2y, EDSS-after_2y\n",
      "Permutation 3: NHPT-2y, KFSS_P-2y, KFSS_M-2y, T25FW-2y, EDSS-2y, KFSS_P-after_2y, M_R36-SF12-after, CESEV, P_R36-SF12-after, SES_after, SLEC_after, KFSS_M-after_2y, EDSS-after_2y, NRELAP\n",
      "Permutation 4: KFSS_P-2y, KFSS_M-2y, NHPT-2y, T25FW-2y, EDSS-2y, NRELAP, KFSS_M-after_2y, P_R36-SF12-after, CESEV, KFSS_P-after_2y, SES_after, SLEC_after, EDSS-after_2y, M_R36-SF12-after\n",
      "Permutation 5: T25FW-2y, KFSS_M-2y, KFSS_P-2y, EDSS-2y, NHPT-2y, KFSS_P-after_2y, SLEC_after, CESEV, NRELAP, SES_after, KFSS_M-after_2y, P_R36-SF12-after, EDSS-after_2y, M_R36-SF12-after\n",
      "Permutation 6: KFSS_P-2y, CESEV, NRELAP, NHPT-2y, T25FW-2y, KFSS_M-2y, EDSS-2y, KFSS_M-after_2y, KFSS_P-after_2y, P_R36-SF12-after, SLEC_after, SES_after, EDSS-after_2y, M_R36-SF12-after\n",
      "Permutation 7: CESEV, KFSS_M-2y, T25FW-2y, NHPT-2y, NRELAP, KFSS_P-2y, EDSS-2y, KFSS_M-after_2y, SES_after, KFSS_P-after_2y, SLEC_after, M_R36-SF12-after, EDSS-after_2y, P_R36-SF12-after\n",
      "Permutation 8: KFSS_P-2y, T25FW-2y, KFSS_M-2y, NHPT-2y, NRELAP, EDSS-2y, SES_after, M_R36-SF12-after, KFSS_P-after_2y, KFSS_M-after_2y, SLEC_after, EDSS-after_2y, P_R36-SF12-after, CESEV\n",
      "Permutation 9: CESEV, KFSS_P-2y, NRELAP, T25FW-2y, KFSS_M-2y, NHPT-2y, EDSS-2y, KFSS_P-after_2y, SES_after, SLEC_after, M_R36-SF12-after, KFSS_M-after_2y, P_R36-SF12-after, EDSS-after_2y\n",
      "Permutation 10: KFSS_M-2y, KFSS_P-2y, EDSS-2y, NHPT-2y, NRELAP, T25FW-2y, KFSS_M-after_2y, SES_after, P_R36-SF12-after, M_R36-SF12-after, CESEV, SLEC_after, KFSS_P-after_2y, EDSS-after_2y\n",
      "Permutation 11: NRELAP, KFSS_P-2y, KFSS_M-2y, T25FW-2y, NHPT-2y, EDSS-2y, KFSS_P-after_2y, CESEV, M_R36-SF12-after, KFSS_M-after_2y, SLEC_after, P_R36-SF12-after, SES_after, EDSS-after_2y\n",
      "Permutation 12: NHPT-2y, KFSS_P-2y, T25FW-2y, KFSS_M-2y, EDSS-2y, M_R36-SF12-after, P_R36-SF12-after, KFSS_M-after_2y, CESEV, KFSS_P-after_2y, SLEC_after, EDSS-after_2y, SES_after, NRELAP\n",
      "Permutation 13: KFSS_M-2y, T25FW-2y, KFSS_P-2y, EDSS-2y, NHPT-2y, CESEV, P_R36-SF12-after, KFSS_M-after_2y, SES_after, NRELAP, M_R36-SF12-after, KFSS_P-after_2y, SLEC_after, EDSS-after_2y\n",
      "Permutation 14: KFSS_P-2y, T25FW-2y, NHPT-2y, KFSS_M-2y, EDSS-2y, SLEC_after, KFSS_M-after_2y, CESEV, NRELAP, SES_after, M_R36-SF12-after, KFSS_P-after_2y, P_R36-SF12-after, EDSS-after_2y\n",
      "Permutation 15: NHPT-2y, T25FW-2y, KFSS_M-2y, KFSS_P-2y, EDSS-2y, SES_after, KFSS_P-after_2y, P_R36-SF12-after, KFSS_M-after_2y, EDSS-after_2y, CESEV, SLEC_after, NRELAP, M_R36-SF12-after\n",
      "Permutation 16: KFSS_P-2y, T25FW-2y, KFSS_M-2y, EDSS-2y, NHPT-2y, CESEV, SES_after, KFSS_M-after_2y, M_R36-SF12-after, KFSS_P-after_2y, SLEC_after, NRELAP, EDSS-after_2y, P_R36-SF12-after\n",
      "Permutation 17: KFSS_M-2y, T25FW-2y, KFSS_P-2y, NRELAP, NHPT-2y, EDSS-2y, KFSS_P-after_2y, KFSS_M-after_2y, SLEC_after, M_R36-SF12-after, CESEV, SES_after, EDSS-after_2y, P_R36-SF12-after\n",
      "Permutation 18: KFSS_P-2y, KFSS_M-2y, CESEV, EDSS-2y, NHPT-2y, NRELAP, T25FW-2y, SES_after, P_R36-SF12-after, SLEC_after, KFSS_P-after_2y, KFSS_M-after_2y, EDSS-after_2y, M_R36-SF12-after\n",
      "Permutation 19: NHPT-2y, KFSS_P-2y, NRELAP, KFSS_M-2y, T25FW-2y, EDSS-2y, KFSS_P-after_2y, SLEC_after, KFSS_M-after_2y, M_R36-SF12-after, P_R36-SF12-after, SES_after, EDSS-after_2y, CESEV\n",
      "Permutation 20: KFSS_M-2y, KFSS_P-2y, EDSS-2y, T25FW-2y, NHPT-2y, NRELAP, SES_after, KFSS_P-after_2y, SLEC_after, KFSS_M-after_2y, EDSS-after_2y, CESEV, M_R36-SF12-after, P_R36-SF12-after\n",
      "Permutation 21: NHPT-2y, KFSS_P-2y, KFSS_M-2y, T25FW-2y, EDSS-2y, CESEV, SLEC_after, SES_after, NRELAP, KFSS_P-after_2y, KFSS_M-after_2y, P_R36-SF12-after, EDSS-after_2y, M_R36-SF12-after\n",
      "Permutation 22: NHPT-2y, T25FW-2y, KFSS_M-2y, KFSS_P-2y, NRELAP, EDSS-2y, KFSS_P-after_2y, SES_after, SLEC_after, KFSS_M-after_2y, CESEV, P_R36-SF12-after, EDSS-after_2y, M_R36-SF12-after\n",
      "Permutation 23: CESEV, NRELAP, KFSS_P-2y, NHPT-2y, KFSS_M-2y, T25FW-2y, EDSS-2y, P_R36-SF12-after, KFSS_P-after_2y, KFSS_M-after_2y, SLEC_after, EDSS-after_2y, SES_after, M_R36-SF12-after\n",
      "Permutation 24: KFSS_M-2y, NHPT-2y, T25FW-2y, KFSS_P-2y, EDSS-2y, KFSS_P-after_2y, SES_after, NRELAP, CESEV, KFSS_M-after_2y, SLEC_after, EDSS-after_2y, M_R36-SF12-after, P_R36-SF12-after\n",
      "Permutation 25: KFSS_P-2y, NHPT-2y, KFSS_M-2y, EDSS-2y, CESEV, T25FW-2y, KFSS_M-after_2y, M_R36-SF12-after, SES_after, SLEC_after, NRELAP, P_R36-SF12-after, KFSS_P-after_2y, EDSS-after_2y\n",
      "Permutation 26: T25FW-2y, KFSS_P-2y, KFSS_M-2y, NHPT-2y, EDSS-2y, KFSS_M-after_2y, KFSS_P-after_2y, M_R36-SF12-after, EDSS-after_2y, NRELAP, SES_after, P_R36-SF12-after, SLEC_after, CESEV\n",
      "Permutation 27: NHPT-2y, KFSS_M-2y, KFSS_P-2y, NRELAP, EDSS-2y, T25FW-2y, KFSS_P-after_2y, P_R36-SF12-after, M_R36-SF12-after, SLEC_after, KFSS_M-after_2y, EDSS-after_2y, CESEV, SES_after\n",
      "Permutation 28: T25FW-2y, KFSS_M-2y, KFSS_P-2y, NRELAP, NHPT-2y, EDSS-2y, KFSS_M-after_2y, KFSS_P-after_2y, M_R36-SF12-after, EDSS-after_2y, P_R36-SF12-after, SLEC_after, CESEV, SES_after\n",
      "Permutation 29: KFSS_M-2y, KFSS_P-2y, T25FW-2y, EDSS-2y, NHPT-2y, KFSS_P-after_2y, SLEC_after, M_R36-SF12-after, P_R36-SF12-after, SES_after, KFSS_M-after_2y, CESEV, NRELAP, EDSS-after_2y\n",
      "Permutation 30: KFSS_P-2y, T25FW-2y, KFSS_M-2y, NHPT-2y, EDSS-2y, KFSS_M-after_2y, KFSS_P-after_2y, M_R36-SF12-after, P_R36-SF12-after, SLEC_after, EDSS-after_2y, CESEV, SES_after, NRELAP\n",
      "Permutation 31: NHPT-2y, KFSS_M-2y, CESEV, T25FW-2y, KFSS_P-2y, EDSS-2y, P_R36-SF12-after, NRELAP, SLEC_after, KFSS_M-after_2y, SES_after, KFSS_P-after_2y, EDSS-after_2y, M_R36-SF12-after\n",
      "Permutation 32: NHPT-2y, KFSS_M-2y, KFSS_P-2y, T25FW-2y, NRELAP, EDSS-2y, KFSS_M-after_2y, M_R36-SF12-after, SLEC_after, CESEV, KFSS_P-after_2y, EDSS-after_2y, SES_after, P_R36-SF12-after\n",
      "Permutation 33: KFSS_P-2y, NHPT-2y, KFSS_M-2y, NRELAP, CESEV, EDSS-2y, T25FW-2y, SLEC_after, M_R36-SF12-after, SES_after, KFSS_P-after_2y, KFSS_M-after_2y, EDSS-after_2y, P_R36-SF12-after\n",
      "Permutation 34: CESEV, NHPT-2y, KFSS_M-2y, KFSS_P-2y, T25FW-2y, EDSS-2y, NRELAP, SES_after, P_R36-SF12-after, M_R36-SF12-after, KFSS_P-after_2y, KFSS_M-after_2y, EDSS-after_2y, SLEC_after\n",
      "Permutation 35: KFSS_P-2y, KFSS_M-2y, EDSS-2y, T25FW-2y, NHPT-2y, P_R36-SF12-after, SES_after, CESEV, M_R36-SF12-after, NRELAP, KFSS_P-after_2y, KFSS_M-after_2y, EDSS-after_2y, SLEC_after\n",
      "Permutation 36: KFSS_M-2y, T25FW-2y, KFSS_P-2y, EDSS-2y, NHPT-2y, CESEV, SLEC_after, KFSS_P-after_2y, NRELAP, KFSS_M-after_2y, EDSS-after_2y, M_R36-SF12-after, SES_after, P_R36-SF12-after\n",
      "Permutation 37: NHPT-2y, NRELAP, T25FW-2y, KFSS_M-2y, CESEV, KFSS_P-2y, EDSS-2y, SES_after, KFSS_P-after_2y, P_R36-SF12-after, SLEC_after, M_R36-SF12-after, KFSS_M-after_2y, EDSS-after_2y\n",
      "Permutation 38: NRELAP, T25FW-2y, KFSS_M-2y, KFSS_P-2y, EDSS-2y, NHPT-2y, KFSS_P-after_2y, M_R36-SF12-after, KFSS_M-after_2y, P_R36-SF12-after, EDSS-after_2y, CESEV, SES_after, SLEC_after\n",
      "Permutation 39: T25FW-2y, KFSS_P-2y, NHPT-2y, KFSS_M-2y, EDSS-2y, SES_after, M_R36-SF12-after, P_R36-SF12-after, KFSS_P-after_2y, SLEC_after, KFSS_M-after_2y, CESEV, NRELAP, EDSS-after_2y\n",
      "Permutation 40: KFSS_M-2y, KFSS_P-2y, NHPT-2y, T25FW-2y, EDSS-2y, KFSS_M-after_2y, KFSS_P-after_2y, CESEV, NRELAP, M_R36-SF12-after, P_R36-SF12-after, EDSS-after_2y, SLEC_after, SES_after\n",
      "Permutation 41: KFSS_M-2y, KFSS_P-2y, NHPT-2y, EDSS-2y, T25FW-2y, P_R36-SF12-after, KFSS_P-after_2y, SES_after, CESEV, KFSS_M-after_2y, M_R36-SF12-after, SLEC_after, NRELAP, EDSS-after_2y\n",
      "Permutation 42: KFSS_M-2y, KFSS_P-2y, EDSS-2y, NHPT-2y, T25FW-2y, SLEC_after, KFSS_P-after_2y, M_R36-SF12-after, P_R36-SF12-after, KFSS_M-after_2y, NRELAP, EDSS-after_2y, CESEV, SES_after\n",
      "Permutation 43: KFSS_M-2y, KFSS_P-2y, T25FW-2y, EDSS-2y, NHPT-2y, SES_after, CESEV, KFSS_M-after_2y, NRELAP, SLEC_after, P_R36-SF12-after, KFSS_P-after_2y, M_R36-SF12-after, EDSS-after_2y\n",
      "Permutation 44: T25FW-2y, KFSS_P-2y, NHPT-2y, KFSS_M-2y, EDSS-2y, M_R36-SF12-after, CESEV, KFSS_P-after_2y, KFSS_M-after_2y, NRELAP, P_R36-SF12-after, SES_after, EDSS-after_2y, SLEC_after\n",
      "Permutation 45: NRELAP, KFSS_M-2y, T25FW-2y, KFSS_P-2y, EDSS-2y, CESEV, NHPT-2y, KFSS_M-after_2y, M_R36-SF12-after, KFSS_P-after_2y, SLEC_after, P_R36-SF12-after, SES_after, EDSS-after_2y\n",
      "Permutation 46: NHPT-2y, KFSS_M-2y, T25FW-2y, KFSS_P-2y, EDSS-2y, P_R36-SF12-after, KFSS_M-after_2y, NRELAP, SLEC_after, CESEV, M_R36-SF12-after, KFSS_P-after_2y, SES_after, EDSS-after_2y\n",
      "Permutation 47: T25FW-2y, CESEV, KFSS_P-2y, NHPT-2y, KFSS_M-2y, EDSS-2y, KFSS_P-after_2y, M_R36-SF12-after, KFSS_M-after_2y, P_R36-SF12-after, EDSS-after_2y, SES_after, SLEC_after, NRELAP\n",
      "Permutation 48: CESEV, KFSS_M-2y, KFSS_P-2y, T25FW-2y, NHPT-2y, NRELAP, EDSS-2y, KFSS_M-after_2y, KFSS_P-after_2y, SES_after, M_R36-SF12-after, EDSS-after_2y, P_R36-SF12-after, SLEC_after\n",
      "Permutation 49: CESEV, T25FW-2y, KFSS_P-2y, KFSS_M-2y, EDSS-2y, NHPT-2y, NRELAP, P_R36-SF12-after, KFSS_M-after_2y, KFSS_P-after_2y, SLEC_after, M_R36-SF12-after, SES_after, EDSS-after_2y\n"
     ]
    }
   ],
   "source": [
    "# Generate 50 permutations of the target variables: the chain orders for the different chains in the ensemble\n",
    "pairs_or_groups = [['KFSS_M-2y', 'EDSS-2y'], ['KFSS_P-2y', 'EDSS-2y'], ['KFSS_M-after_2y', 'EDSS-after_2y'], ['KFSS_P-after_2y', 'EDSS-after_2y']]\n",
    "order_constraint = ['KFSS_M-2y', 'KFSS_P-2y', 'EDSS-2y', 'T25FW-2y', 'NHPT-2y']  # Specify the order constraint\n",
    "shuffle_at_end = ['NRELAP', 'CESEV']  # Specify variables to be shuffled at the end\n",
    "num_permutations = 49  # Specify how many random permutations you want\n",
    "random_state = 42\n",
    "random_permutations = generate_permutations_with_order(variables, pairs_or_groups, num_permutations, order_constraint, shuffle_at_end, random_state)\n",
    "\n",
    "# Print the original order followed by all the random permutations\n",
    "for idx, perm in enumerate(random_permutations, start=0):\n",
    "    print(f\"Permutation {idx}: {', '.join(perm)}\")"
   ]
  },
  {
   "cell_type": "code",
   "execution_count": 11,
   "metadata": {},
   "outputs": [],
   "source": [
    "ordered_targets = random_permutations[0]"
   ]
  },
  {
   "cell_type": "code",
   "execution_count": 12,
   "metadata": {},
   "outputs": [],
   "source": [
    "# Set random state for reproducibility\n",
    "random_state = 42\n",
    "N_FOLDS = 5"
   ]
  },
  {
   "cell_type": "code",
   "execution_count": 13,
   "metadata": {},
   "outputs": [],
   "source": [
    "# Generate CV folds\n",
    "cv=missingness_and_categorical_stratified_cv(data[variables], N_FOLDS, random_state)\n",
    "cv = cv.to_frame(name=\"CV Fold\")"
   ]
  },
  {
   "cell_type": "markdown",
   "metadata": {},
   "source": [
    "---"
   ]
  },
  {
   "cell_type": "markdown",
   "metadata": {},
   "source": [
    "## Chain with *predicted* values propagated"
   ]
  },
  {
   "cell_type": "code",
   "execution_count": 29,
   "metadata": {},
   "outputs": [
    {
     "name": "stdout",
     "output_type": "stream",
     "text": [
      "Permutation done\n",
      "Permutation done\n",
      "Permutation done\n",
      "Permutation done\n",
      "Permutation done\n",
      "Permutation done\n",
      "Permutation done\n",
      "Permutation done\n",
      "Permutation done\n",
      "Permutation done\n",
      "Permutation done\n",
      "Permutation done\n",
      "Permutation done\n",
      "Permutation done\n",
      "Permutation done\n",
      "Permutation done\n",
      "Permutation done\n",
      "Permutation done\n",
      "Permutation done\n",
      "Permutation done\n",
      "Permutation done\n",
      "Permutation done\n",
      "Permutation done\n",
      "Permutation done\n",
      "Permutation done\n",
      "Permutation done\n",
      "Permutation done\n",
      "Permutation done\n",
      "Permutation done\n",
      "Permutation done\n",
      "Permutation done\n",
      "Permutation done\n",
      "Permutation done\n",
      "Permutation done\n",
      "Permutation done\n",
      "Permutation done\n",
      "Permutation done\n",
      "Permutation done\n",
      "Permutation done\n",
      "Permutation done\n",
      "Permutation done\n",
      "Permutation done\n",
      "Permutation done\n",
      "Permutation done\n",
      "Permutation done\n",
      "Permutation done\n",
      "Permutation done\n",
      "Permutation done\n",
      "Permutation done\n",
      "Permutation done\n"
     ]
    }
   ],
   "source": [
    "y_pred_chains = []\n",
    "y_test_list = [[] for _ in range(N_FOLDS)]  # Initialize y_test_list with empty lists for each fold index\n",
    "\n",
    "# Iterate over each chain ordering\n",
    "for ordered_targets_chain in random_permutations:\n",
    "    y_pred_list_chain = []  # List to store predictions for this chain\n",
    "    \n",
    "    features_cv = pd.merge(features, pd.DataFrame(cv), left_index=True, right_index=True)\n",
    "    targets_cv = pd.merge(data[ordered_targets_chain], pd.DataFrame(cv), left_index=True, right_index=True)\n",
    "\n",
    "    # Fit and predict for each fold for this chain\n",
    "    for i in range(0, N_FOLDS): \n",
    "        Xi_train = features_cv[features_cv['CV Fold'] != i].drop([\"CV Fold\"], axis=1)\n",
    "        Xi_test = features_cv[features_cv['CV Fold'] == i].drop([\"CV Fold\"], axis=1)\n",
    "        yi_train = targets_cv[targets_cv['CV Fold'] != i].drop([\"CV Fold\"], axis=1)\n",
    "        yi_test = targets_cv[targets_cv['CV Fold'] == i].drop([\"CV Fold\"], axis=1)\n",
    "        y_test_list_chain = []  # List to store y_test for this fold\n",
    "\n",
    "        chain = Chain(\n",
    "            model_reg=RandomForestRegressor(random_state=random_state),\n",
    "            model_clf=RandomForestClassifier(random_state=random_state),\n",
    "            propagate=\"pred\",\n",
    "        )\n",
    "        chain.fit(Xi_train, yi_train, target_types=None)\n",
    "        y_pred = chain.predict(Xi_test)\n",
    "        y_pred_list_chain.append(pd.DataFrame(y_pred, columns=yi_test.columns, index=yi_test.index))\n",
    "\n",
    "        # Append yi_test to the corresponding fold index in y_test_list\n",
    "        y_test_list[i].append(yi_test)  # Append yi_test for fold i\n",
    "\n",
    "    y_pred_chains.append(y_pred_list_chain)\n",
    "    print(\"Permutation done\")"
   ]
  },
  {
   "cell_type": "code",
   "execution_count": 30,
   "metadata": {},
   "outputs": [],
   "source": [
    "transposed_list = list(zip(*y_pred_chains))\n",
    "\n",
    "# Each element of transposed_list is a tuple containing dataframes from the same position in each inner list. From these tuples, we create a list of lists.\n",
    "reorganized_list = [list(df_tuple) for df_tuple in transposed_list]"
   ]
  },
  {
   "cell_type": "code",
   "execution_count": 31,
   "metadata": {},
   "outputs": [],
   "source": [
    "transposed_test_list = list(zip(*y_test_list))\n",
    "\n",
    "# Each element of transposed_list is a tuple containing dataframes from the same position in each inner list. From these tuples, we create a list of lists.\n",
    "reorganized_test_list = [list(df_tuple) for df_tuple in transposed_test_list]"
   ]
  },
  {
   "cell_type": "code",
   "execution_count": 32,
   "metadata": {},
   "outputs": [],
   "source": [
    "# Apply the function to each list in reorganized_list: same column ordering for each dataframe\n",
    "reordered_reorganized_list = [reorder_columns(dataframes) for dataframes in reorganized_list]"
   ]
  },
  {
   "cell_type": "code",
   "execution_count": 33,
   "metadata": {},
   "outputs": [],
   "source": [
    "# Apply the function to each list in reordered_reorganized_list: average the (reordered) dataframes\n",
    "averaged_dataframes_list = [average_dataframes(dataframes) for dataframes in reordered_reorganized_list]"
   ]
  },
  {
   "cell_type": "code",
   "execution_count": 34,
   "metadata": {},
   "outputs": [],
   "source": [
    "# Remove rows in y_test and y_pred where the variable in question is missing in y_test (since without it, it is not possible to calculate the score)\n",
    "y_pred_list = averaged_dataframes_list.copy()\n",
    "y_test_list = reorganized_test_list[0]\n",
    "\n",
    "y_test_cv = []\n",
    "y_pred_cv = []\n",
    "\n",
    "for j in range(len(y_test_list)):  \n",
    "    y_test_targ = []\n",
    "    y_pred_targ = []\n",
    "    nvar=y_test_list[0].shape[1]\n",
    "\n",
    "    for i in range(0, nvar):  \n",
    "        missing_rows_mask = y_test_list[j].iloc[:, i].isna()\n",
    "        y_test = y_test_list[j].iloc[:, i][~missing_rows_mask]\n",
    "        y_pred = y_pred_list[j].iloc[:, i][~missing_rows_mask]\n",
    "        \n",
    "        y_test_targ.append(y_test)\n",
    "        y_pred_targ.append(y_pred)\n",
    "    \n",
    "    y_test_cv.append(y_test_targ)\n",
    "    y_pred_cv.append(y_pred_targ)"
   ]
  },
  {
   "cell_type": "code",
   "execution_count": 35,
   "metadata": {},
   "outputs": [
    {
     "name": "stdout",
     "output_type": "stream",
     "text": [
      "Scores for each outcome (ensemble with 50 chains - propagate predicted values)\n",
      "KFSS_M-2y: 0.81 (± 0.03)\n",
      "KFSS_P-2y: 0.75 (± 0.04)\n",
      "EDSS-2y: 0.88 (± 0.01)\n",
      "T25FW-2y: 0.73 (± 0.09)\n",
      "NHPT-2y: 0.51 (± 0.10)\n",
      "P_R36-SF12-after: 0.70 (± 0.01)\n",
      "M_R36-SF12-after: 0.57 (± 0.03)\n",
      "SES_after: 0.69 (± 0.06)\n",
      "SLEC_after: 0.66 (± 0.05)\n",
      "KFSS_M-after_2y: 0.65 (± 0.05)\n",
      "KFSS_P-after_2y: 0.51 (± 0.06)\n",
      "EDSS-after_2y: 0.76 (± 0.02)\n",
      "NRELAP: 0.64 (± 0.01)\n",
      "CESEV: 0.50 (± 0.04)\n"
     ]
    }
   ],
   "source": [
    "# Initialize a list to store scores\n",
    "scores = []\n",
    "scores_with_std = []\n",
    "\n",
    "# Iterate over each outcome variable in the folds\n",
    "for variable_name in variables: \n",
    "    variable_scores = []\n",
    "    \n",
    "    # Compute scores for the variable across all folds\n",
    "    for fold_index in range(len(y_test_cv)):\n",
    "        y_test = y_test_cv[fold_index][variables.index(variable_name)] \n",
    "        y_pred = y_pred_cv[fold_index][variables.index(variable_name)] \n",
    "        \n",
    "        # Check if the target variable is numerical or categorical\n",
    "        if y_test.dtype.kind in 'bifc':\n",
    "            score = r2_score(y_test, y_pred)\n",
    "        else:\n",
    "            score = accuracy_score(y_test, y_pred)\n",
    "                  \n",
    "        variable_scores.append(score)\n",
    "    \n",
    "    # Compute the average score for the variable across all folds\n",
    "    variable_avg_score = np.mean(variable_scores)\n",
    "    # Compute the standard deviation for the variable across all folds\n",
    "    variable_std_score = np.std(variable_scores)\n",
    "    scores_with_std.append((variable_name, variable_avg_score, variable_std_score))\n",
    "\n",
    "# Print the scores with average and standard deviation along with variable names\n",
    "print(f\"Scores for each outcome (ensemble with {int(len(random_permutations))} chains - propagate predicted values)\")\n",
    "for variable_name, avg_score, std_score in scores_with_std:\n",
    "    print(f\"{variable_name}: {avg_score:.6f} (± {std_score:.6f})\")"
   ]
  },
  {
   "cell_type": "markdown",
   "metadata": {},
   "source": [
    "---"
   ]
  },
  {
   "cell_type": "markdown",
   "metadata": {},
   "source": [
    "## Chain with *true* values propagated"
   ]
  },
  {
   "cell_type": "code",
   "execution_count": 14,
   "metadata": {},
   "outputs": [
    {
     "name": "stdout",
     "output_type": "stream",
     "text": [
      "Permutation done\n",
      "Permutation done\n",
      "Permutation done\n",
      "Permutation done\n",
      "Permutation done\n",
      "Permutation done\n",
      "Permutation done\n",
      "Permutation done\n",
      "Permutation done\n",
      "Permutation done\n",
      "Permutation done\n",
      "Permutation done\n",
      "Permutation done\n",
      "Permutation done\n",
      "Permutation done\n",
      "Permutation done\n",
      "Permutation done\n",
      "Permutation done\n",
      "Permutation done\n",
      "Permutation done\n",
      "Permutation done\n",
      "Permutation done\n",
      "Permutation done\n",
      "Permutation done\n",
      "Permutation done\n",
      "Permutation done\n",
      "Permutation done\n",
      "Permutation done\n",
      "Permutation done\n",
      "Permutation done\n",
      "Permutation done\n",
      "Permutation done\n",
      "Permutation done\n",
      "Permutation done\n",
      "Permutation done\n",
      "Permutation done\n",
      "Permutation done\n",
      "Permutation done\n",
      "Permutation done\n",
      "Permutation done\n",
      "Permutation done\n",
      "Permutation done\n",
      "Permutation done\n",
      "Permutation done\n",
      "Permutation done\n",
      "Permutation done\n",
      "Permutation done\n",
      "Permutation done\n",
      "Permutation done\n",
      "Permutation done\n"
     ]
    }
   ],
   "source": [
    "y_pred_chains = []\n",
    "y_test_list = [[] for _ in range(N_FOLDS)]  # Initialize y_test_list with empty lists for each fold index\n",
    "\n",
    "# Iterate over each chain ordering\n",
    "for ordered_targets_chain in random_permutations:\n",
    "    y_pred_list_chain = []  # List to store predictions for this chain\n",
    "    \n",
    "    features_cv = pd.merge(features, pd.DataFrame(cv), left_index=True, right_index=True)\n",
    "    targets_cv = pd.merge(data[ordered_targets_chain], pd.DataFrame(cv), left_index=True, right_index=True)\n",
    "\n",
    "    # Fit and predict for each fold for this chain\n",
    "    for i in range(0, N_FOLDS): \n",
    "        Xi_train = features_cv[features_cv['CV Fold'] != i].drop([\"CV Fold\"], axis=1)\n",
    "        Xi_test = features_cv[features_cv['CV Fold'] == i].drop([\"CV Fold\"], axis=1)\n",
    "        yi_train = targets_cv[targets_cv['CV Fold'] != i].drop([\"CV Fold\"], axis=1)\n",
    "        yi_test = targets_cv[targets_cv['CV Fold'] == i].drop([\"CV Fold\"], axis=1)\n",
    "        y_test_list_chain = []  # List to store y_test for this fold\n",
    "\n",
    "        chain = Chain(\n",
    "            model_reg=RandomForestRegressor(random_state=random_state),\n",
    "            model_clf=RandomForestClassifier(random_state=random_state),\n",
    "            propagate=\"true\",\n",
    "        )\n",
    "        chain.fit(Xi_train, yi_train, target_types=None)\n",
    "        y_pred = chain.predict(Xi_test)\n",
    "        y_pred_list_chain.append(pd.DataFrame(y_pred, columns=yi_test.columns, index=yi_test.index))\n",
    "\n",
    "        # Append yi_test to the corresponding fold index in y_test_list\n",
    "        y_test_list[i].append(yi_test)  # Append yi_test for fold i\n",
    "\n",
    "    y_pred_chains.append(y_pred_list_chain)\n",
    "    print(\"Permutation done\")"
   ]
  },
  {
   "cell_type": "code",
   "execution_count": 15,
   "metadata": {},
   "outputs": [],
   "source": [
    "transposed_list = list(zip(*y_pred_chains))\n",
    "\n",
    "# Each element of transposed_list is a tuple containing dataframes from the same position in each inner list. From these tuples, we create a list of lists.\n",
    "reorganized_list = [list(df_tuple) for df_tuple in transposed_list]"
   ]
  },
  {
   "cell_type": "code",
   "execution_count": 16,
   "metadata": {},
   "outputs": [],
   "source": [
    "transposed_test_list = list(zip(*y_test_list))\n",
    "\n",
    "# Each element of transposed_list is a tuple containing dataframes from the same position in each inner list. From these tuples, we create a list of lists.\n",
    "reorganized_test_list = [list(df_tuple) for df_tuple in transposed_test_list]"
   ]
  },
  {
   "cell_type": "code",
   "execution_count": 20,
   "metadata": {},
   "outputs": [],
   "source": [
    "# Apply the function to each list in reorganized_list: same column ordering for each dataframe\n",
    "reordered_reorganized_list = [reorder_columns(dataframes) for dataframes in reorganized_list]"
   ]
  },
  {
   "cell_type": "code",
   "execution_count": 21,
   "metadata": {},
   "outputs": [],
   "source": [
    "# Apply the function to each list in reordered_reorganized_list: average the (reordered) dataframes\n",
    "averaged_dataframes_list = [average_dataframes(dataframes) for dataframes in reordered_reorganized_list]"
   ]
  },
  {
   "cell_type": "code",
   "execution_count": 22,
   "metadata": {},
   "outputs": [],
   "source": [
    "# Remove rows in y_test and y_pred where the variable in question is missing in y_test (since without it, it is not possible to calculate the score)\n",
    "y_pred_list = averaged_dataframes_list.copy()\n",
    "y_test_list = reorganized_test_list[0]\n",
    "\n",
    "y_test_cv = []\n",
    "y_pred_cv = []\n",
    "\n",
    "for j in range(len(y_test_list)):  \n",
    "    y_test_targ = []\n",
    "    y_pred_targ = []\n",
    "    nvar=y_test_list[0].shape[1]\n",
    "\n",
    "    for i in range(0, nvar):  \n",
    "        missing_rows_mask = y_test_list[j].iloc[:, i].isna()\n",
    "        y_test = y_test_list[j].iloc[:, i][~missing_rows_mask]\n",
    "        y_pred = y_pred_list[j].iloc[:, i][~missing_rows_mask]\n",
    "        \n",
    "        y_test_targ.append(y_test)\n",
    "        y_pred_targ.append(y_pred)\n",
    "    \n",
    "    y_test_cv.append(y_test_targ)\n",
    "    y_pred_cv.append(y_pred_targ)\n",
    "# y_test_cv[fold][outcome]"
   ]
  },
  {
   "cell_type": "code",
   "execution_count": 23,
   "metadata": {},
   "outputs": [
    {
     "name": "stdout",
     "output_type": "stream",
     "text": [
      "Scores for each outcome (ensemble with 50 chains - propagate true values)\n",
      "KFSS_M-2y: 0.807907 (± 0.025321)\n",
      "KFSS_P-2y: 0.750440 (± 0.035443)\n",
      "EDSS-2y: 0.883660 (± 0.008828)\n",
      "T25FW-2y: 0.730929 (± 0.086771)\n",
      "NHPT-2y: 0.533410 (± 0.106331)\n",
      "P_R36-SF12-after: 0.703185 (± 0.012984)\n",
      "M_R36-SF12-after: 0.572973 (± 0.033236)\n",
      "SES_after: 0.681308 (± 0.058940)\n",
      "SLEC_after: 0.649600 (± 0.043132)\n",
      "KFSS_M-after_2y: 0.660131 (± 0.057459)\n",
      "KFSS_P-after_2y: 0.512346 (± 0.066684)\n",
      "EDSS-after_2y: 0.761977 (± 0.024816)\n",
      "NRELAP: 0.643790 (± 0.012098)\n",
      "CESEV: 0.559332 (± 0.043531)\n"
     ]
    }
   ],
   "source": [
    "# Initialize a list to store scores\n",
    "scores = []\n",
    "scores_with_std = []\n",
    "\n",
    "# Iterate over each outcome variable in the folds\n",
    "for variable_name in variables: \n",
    "    variable_scores = []\n",
    "    \n",
    "    # Compute scores for the variable across all folds\n",
    "    for fold_index in range(len(y_test_cv)):\n",
    "        y_test = y_test_cv[fold_index][variables.index(variable_name)] \n",
    "        y_pred = y_pred_cv[fold_index][variables.index(variable_name)] \n",
    "        \n",
    "        # Check if the target variable is numerical or categorical\n",
    "        if y_test.dtype.kind in 'bifc':\n",
    "            score = r2_score(y_test, y_pred)\n",
    "        else:\n",
    "            score = accuracy_score(y_test, y_pred)\n",
    "                  \n",
    "        variable_scores.append(score)\n",
    "    \n",
    "    # Compute the average score for the variable across all folds\n",
    "    variable_avg_score = np.mean(variable_scores)\n",
    "    # Compute the standard deviation for the variable across all folds\n",
    "    variable_std_score = np.std(variable_scores)\n",
    "    scores_with_std.append((variable_name, variable_avg_score, variable_std_score))\n",
    "\n",
    "# Print the scores with average and standard deviation along with variable names\n",
    "print(f\"Scores for each outcome (ensemble with {int(len(random_permutations))} chains - propagate true values)\")\n",
    "for variable_name, avg_score, std_score in scores_with_std:\n",
    "    print(f\"{variable_name}: {avg_score:.6f} (± {std_score:.6f})\")"
   ]
  }
 ],
 "metadata": {
  "kernelspec": {
   "display_name": "thesisenv",
   "language": "python",
   "name": "python3"
  },
  "language_info": {
   "codemirror_mode": {
    "name": "ipython",
    "version": 3
   },
   "file_extension": ".py",
   "mimetype": "text/x-python",
   "name": "python",
   "nbconvert_exporter": "python",
   "pygments_lexer": "ipython3",
   "version": "3.9.18"
  }
 },
 "nbformat": 4,
 "nbformat_minor": 2
}
