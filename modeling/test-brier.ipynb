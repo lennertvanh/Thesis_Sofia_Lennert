{
 "cells": [
  {
   "cell_type": "code",
   "execution_count": 1,
   "metadata": {},
   "outputs": [
    {
     "ename": "ValueError",
     "evalue": "Only binary classification is supported. The type of the target is continuous.",
     "output_type": "error",
     "traceback": [
      "\u001b[1;31m---------------------------------------------------------------------------\u001b[0m",
      "\u001b[1;31mValueError\u001b[0m                                Traceback (most recent call last)",
      "Cell \u001b[1;32mIn[1], line 10\u001b[0m\n\u001b[0;32m      7\u001b[0m y_prob \u001b[38;5;241m=\u001b[39m np\u001b[38;5;241m.\u001b[39marray([\u001b[38;5;241m0.2\u001b[39m, \u001b[38;5;241m0.6\u001b[39m, \u001b[38;5;241m0.7\u001b[39m])\n\u001b[0;32m      9\u001b[0m \u001b[38;5;66;03m# Calculate Brier score\u001b[39;00m\n\u001b[1;32m---> 10\u001b[0m brier_score \u001b[38;5;241m=\u001b[39m \u001b[43mbrier_score_loss\u001b[49m\u001b[43m(\u001b[49m\u001b[43my_true\u001b[49m\u001b[43m,\u001b[49m\u001b[43m \u001b[49m\u001b[43my_prob\u001b[49m\u001b[43m)\u001b[49m\n\u001b[0;32m     11\u001b[0m \u001b[38;5;28mprint\u001b[39m(\u001b[38;5;124m\"\u001b[39m\u001b[38;5;124mBrier Score for numerical targets:\u001b[39m\u001b[38;5;124m\"\u001b[39m, brier_score)\n",
      "File \u001b[1;32mc:\\Users\\lenne\\anaconda3\\envs\\Thesis\\lib\\site-packages\\sklearn\\utils\\_param_validation.py:213\u001b[0m, in \u001b[0;36mvalidate_params.<locals>.decorator.<locals>.wrapper\u001b[1;34m(*args, **kwargs)\u001b[0m\n\u001b[0;32m    207\u001b[0m \u001b[38;5;28;01mtry\u001b[39;00m:\n\u001b[0;32m    208\u001b[0m     \u001b[38;5;28;01mwith\u001b[39;00m config_context(\n\u001b[0;32m    209\u001b[0m         skip_parameter_validation\u001b[38;5;241m=\u001b[39m(\n\u001b[0;32m    210\u001b[0m             prefer_skip_nested_validation \u001b[38;5;129;01mor\u001b[39;00m global_skip_validation\n\u001b[0;32m    211\u001b[0m         )\n\u001b[0;32m    212\u001b[0m     ):\n\u001b[1;32m--> 213\u001b[0m         \u001b[38;5;28;01mreturn\u001b[39;00m func(\u001b[38;5;241m*\u001b[39margs, \u001b[38;5;241m*\u001b[39m\u001b[38;5;241m*\u001b[39mkwargs)\n\u001b[0;32m    214\u001b[0m \u001b[38;5;28;01mexcept\u001b[39;00m InvalidParameterError \u001b[38;5;28;01mas\u001b[39;00m e:\n\u001b[0;32m    215\u001b[0m     \u001b[38;5;66;03m# When the function is just a wrapper around an estimator, we allow\u001b[39;00m\n\u001b[0;32m    216\u001b[0m     \u001b[38;5;66;03m# the function to delegate validation to the estimator, but we replace\u001b[39;00m\n\u001b[0;32m    217\u001b[0m     \u001b[38;5;66;03m# the name of the estimator by the name of the function in the error\u001b[39;00m\n\u001b[0;32m    218\u001b[0m     \u001b[38;5;66;03m# message to avoid confusion.\u001b[39;00m\n\u001b[0;32m    219\u001b[0m     msg \u001b[38;5;241m=\u001b[39m re\u001b[38;5;241m.\u001b[39msub(\n\u001b[0;32m    220\u001b[0m         \u001b[38;5;124mr\u001b[39m\u001b[38;5;124m\"\u001b[39m\u001b[38;5;124mparameter of \u001b[39m\u001b[38;5;124m\\\u001b[39m\u001b[38;5;124mw+ must be\u001b[39m\u001b[38;5;124m\"\u001b[39m,\n\u001b[0;32m    221\u001b[0m         \u001b[38;5;124mf\u001b[39m\u001b[38;5;124m\"\u001b[39m\u001b[38;5;124mparameter of \u001b[39m\u001b[38;5;132;01m{\u001b[39;00mfunc\u001b[38;5;241m.\u001b[39m\u001b[38;5;18m__qualname__\u001b[39m\u001b[38;5;132;01m}\u001b[39;00m\u001b[38;5;124m must be\u001b[39m\u001b[38;5;124m\"\u001b[39m,\n\u001b[0;32m    222\u001b[0m         \u001b[38;5;28mstr\u001b[39m(e),\n\u001b[0;32m    223\u001b[0m     )\n",
      "File \u001b[1;32mc:\\Users\\lenne\\anaconda3\\envs\\Thesis\\lib\\site-packages\\sklearn\\metrics\\_classification.py:3233\u001b[0m, in \u001b[0;36mbrier_score_loss\u001b[1;34m(y_true, y_prob, sample_weight, pos_label)\u001b[0m\n\u001b[0;32m   3231\u001b[0m y_type \u001b[38;5;241m=\u001b[39m type_of_target(y_true, input_name\u001b[38;5;241m=\u001b[39m\u001b[38;5;124m\"\u001b[39m\u001b[38;5;124my_true\u001b[39m\u001b[38;5;124m\"\u001b[39m)\n\u001b[0;32m   3232\u001b[0m \u001b[38;5;28;01mif\u001b[39;00m y_type \u001b[38;5;241m!=\u001b[39m \u001b[38;5;124m\"\u001b[39m\u001b[38;5;124mbinary\u001b[39m\u001b[38;5;124m\"\u001b[39m:\n\u001b[1;32m-> 3233\u001b[0m     \u001b[38;5;28;01mraise\u001b[39;00m \u001b[38;5;167;01mValueError\u001b[39;00m(\n\u001b[0;32m   3234\u001b[0m         \u001b[38;5;124m\"\u001b[39m\u001b[38;5;124mOnly binary classification is supported. The type of the target \u001b[39m\u001b[38;5;124m\"\u001b[39m\n\u001b[0;32m   3235\u001b[0m         \u001b[38;5;124mf\u001b[39m\u001b[38;5;124m\"\u001b[39m\u001b[38;5;124mis \u001b[39m\u001b[38;5;132;01m{\u001b[39;00my_type\u001b[38;5;132;01m}\u001b[39;00m\u001b[38;5;124m.\u001b[39m\u001b[38;5;124m\"\u001b[39m\n\u001b[0;32m   3236\u001b[0m     )\n\u001b[0;32m   3238\u001b[0m \u001b[38;5;28;01mif\u001b[39;00m y_prob\u001b[38;5;241m.\u001b[39mmax() \u001b[38;5;241m>\u001b[39m \u001b[38;5;241m1\u001b[39m:\n\u001b[0;32m   3239\u001b[0m     \u001b[38;5;28;01mraise\u001b[39;00m \u001b[38;5;167;01mValueError\u001b[39;00m(\u001b[38;5;124m\"\u001b[39m\u001b[38;5;124my_prob contains values greater than 1.\u001b[39m\u001b[38;5;124m\"\u001b[39m)\n",
      "\u001b[1;31mValueError\u001b[0m: Only binary classification is supported. The type of the target is continuous."
     ]
    }
   ],
   "source": [
    "from sklearn.metrics import brier_score_loss\n",
    "import numpy as np\n",
    "\n",
    "# True values\n",
    "y_true = np.array([0.1, 0.5, 0.8])\n",
    "# Predicted probabilities\n",
    "y_prob = np.array([0.2, 0.6, 0.7])\n",
    "\n",
    "# Calculate Brier score\n",
    "brier_score = brier_score_loss(y_true, y_prob)\n",
    "print(\"Brier Score for numerical targets:\", brier_score)"
   ]
  },
  {
   "cell_type": "code",
   "execution_count": 2,
   "metadata": {},
   "outputs": [
    {
     "name": "stdout",
     "output_type": "stream",
     "text": [
      "Brier Score for categorical targets: 0.029999999999999995\n"
     ]
    }
   ],
   "source": [
    "# True labels (binary)\n",
    "y_true_cat = np.array([0, 1, 1])\n",
    "# Predicted probabilities for positive class\n",
    "y_prob_cat = np.array([0.2, 0.8, 0.9])\n",
    "\n",
    "# Binarize true labels if needed\n",
    "from sklearn.preprocessing import label_binarize\n",
    "y_true_bin = label_binarize(y_true_cat, classes=[0, 1])\n",
    "\n",
    "# Calculate Brier score\n",
    "brier_score_cat = brier_score_loss(y_true_bin, y_prob_cat)\n",
    "print(\"Brier Score for categorical targets:\", brier_score_cat)"
   ]
  },
  {
   "cell_type": "code",
   "execution_count": 3,
   "metadata": {},
   "outputs": [
    {
     "name": "stdout",
     "output_type": "stream",
     "text": [
      "Average Brier Score for multiclass targets: 0.10666666666666667\n"
     ]
    }
   ],
   "source": [
    "from sklearn.metrics import brier_score_loss\n",
    "import numpy as np\n",
    "\n",
    "# True labels (multiclass)\n",
    "y_true_multiclass = np.array([0, 1, 2, 1, 0])\n",
    "# Predicted probabilities for each class\n",
    "y_prob_multiclass = np.array([[0.7, 0.2, 0.1],\n",
    "                              [0.3, 0.5, 0.2],\n",
    "                              [0.1, 0.3, 0.6],\n",
    "                              [0.4, 0.4, 0.2],\n",
    "                              [0.6, 0.3, 0.1]])\n",
    "\n",
    "# Calculate Brier score for each class\n",
    "brier_scores = []\n",
    "for class_idx in range(y_prob_multiclass.shape[1]):\n",
    "    y_true_class = (y_true_multiclass == class_idx).astype(int)\n",
    "    y_prob_class = y_prob_multiclass[:, class_idx]\n",
    "    brier_scores.append(brier_score_loss(y_true_class, y_prob_class))\n",
    "\n",
    "# Average Brier score across all classes\n",
    "average_brier_score = np.mean(brier_scores)\n",
    "print(\"Average Brier Score for multiclass targets:\", average_brier_score)"
   ]
  },
  {
   "cell_type": "code",
   "execution_count": 4,
   "metadata": {},
   "outputs": [
    {
     "name": "stdout",
     "output_type": "stream",
     "text": [
      "Predicted probabilities for the first 5 samples:\n",
      "[[0.48544099 0.51455901]\n",
      " [0.48164317 0.51835683]\n",
      " [0.4304759  0.5695241 ]\n",
      " [0.46084434 0.53915566]\n",
      " [0.5361034  0.4638966 ]]\n"
     ]
    }
   ],
   "source": [
    "from sklearn.linear_model import LogisticRegression\n",
    "import numpy as np\n",
    "\n",
    "# Generate some sample data\n",
    "X = np.random.rand(100, 2)\n",
    "y = np.random.randint(0, 2, size=100)  # Binary classification\n",
    "\n",
    "# Train a logistic regression model\n",
    "model = LogisticRegression()\n",
    "model.fit(X, y)\n",
    "\n",
    "# Obtain predicted probabilities\n",
    "y_pred_proba = model.predict_proba(X)\n",
    "\n",
    "print(\"Predicted probabilities for the first 5 samples:\")\n",
    "print(y_pred_proba[:5])"
   ]
  },
  {
   "cell_type": "code",
   "execution_count": 5,
   "metadata": {},
   "outputs": [
    {
     "name": "stdout",
     "output_type": "stream",
     "text": [
      "Predicted probabilities for the first 5 samples:\n",
      "[[0.27163879 0.35803453 0.37032668]\n",
      " [0.22005674 0.41612156 0.36382169]\n",
      " [0.29731111 0.36397261 0.33871628]\n",
      " [0.28983247 0.36147961 0.34868792]\n",
      " [0.23285168 0.41956286 0.34758547]]\n"
     ]
    }
   ],
   "source": [
    "from sklearn.linear_model import LogisticRegression\n",
    "from sklearn.preprocessing import LabelEncoder\n",
    "import numpy as np\n",
    "\n",
    "# Sample data with string labels\n",
    "X = np.random.rand(100, 2)\n",
    "y_str = np.random.choice(['class_a', 'class_b', 'class_c'], size=100)\n",
    "\n",
    "# Encode string labels to numerical values\n",
    "label_encoder = LabelEncoder()\n",
    "y = label_encoder.fit_transform(y_str)\n",
    "\n",
    "# Train a logistic regression model\n",
    "model = LogisticRegression()\n",
    "model.fit(X, y)\n",
    "\n",
    "# Obtain predicted probabilities\n",
    "y_pred_proba = model.predict_proba(X)\n",
    "\n",
    "print(\"Predicted probabilities for the first 5 samples:\")\n",
    "print(y_pred_proba[:5])"
   ]
  },
  {
   "cell_type": "code",
   "execution_count": null,
   "metadata": {},
   "outputs": [],
   "source": []
  }
 ],
 "metadata": {
  "kernelspec": {
   "display_name": "Thesis",
   "language": "python",
   "name": "python3"
  },
  "language_info": {
   "codemirror_mode": {
    "name": "ipython",
    "version": 3
   },
   "file_extension": ".py",
   "mimetype": "text/x-python",
   "name": "python",
   "nbconvert_exporter": "python",
   "pygments_lexer": "ipython3",
   "version": "3.9.18"
  }
 },
 "nbformat": 4,
 "nbformat_minor": 2
}
