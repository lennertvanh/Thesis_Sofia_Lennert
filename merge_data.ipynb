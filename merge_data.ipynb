{
 "cells": [
  {
   "cell_type": "code",
   "execution_count": 44,
   "metadata": {},
   "outputs": [],
   "source": [
    "import pandas as pd\n",
    "import os"
   ]
  },
  {
   "cell_type": "code",
   "execution_count": 45,
   "metadata": {},
   "outputs": [],
   "source": [
    "# Define possible paths where CSV files might be located\n",
    "possible_paths = [\n",
    "    'C:/Users/lenne/OneDrive/Documenten/Master of Statistics and Data Science/2023-2024/Master thesis/MSOAC Placebo Data', #change!!!\n",
    "    'C:/Users/anaso/Desktop/SOFIA MENDES/KU Leuven/Master Thesis/Thesis_Sofia_Lennert/new_data'\n",
    "]\n",
    "\n",
    "# Define file names\n",
    "file1 = 'ce_agg.csv'\n",
    "file2 = 'dm_agg.csv'\n",
    "file3 = 'mh_agg.csv'\n",
    "file4 = 'sm_agg.csv'\n",
    "\n",
    "# Find full paths to the CSV files\n",
    "path1 = next((f'{path}/{file1}' for path in possible_paths if os.path.exists(f'{path}/{file1}')), None)\n",
    "path2 = next((f'{path}/{file2}' for path in possible_paths if os.path.exists(f'{path}/{file2}')), None)\n",
    "path3 = next((f'{path}/{file3}' for path in possible_paths if os.path.exists(f'{path}/{file3}')), None)\n",
    "path4 = next((f'{path}/{file4}' for path in possible_paths if os.path.exists(f'{path}/{file4}')), None)\n",
    "\n",
    "# Check if paths are found\n",
    "if None in [path1, path2, path3, path4]:\n",
    "    print(\"Some files were not found. Please check the paths and filenames.\")\n",
    "else:\n",
    "    # Read CSV files into DataFrames\n",
    "    dataset1 = pd.read_csv(path1)\n",
    "    dataset2 = pd.read_csv(path2)\n",
    "    dataset3 = pd.read_csv(path3)\n",
    "    dataset4 = pd.read_csv(path4)\n",
    "\n",
    "    # Merge the datasets\n",
    "    merged_df = pd.merge(dataset1, dataset2, on='USUBJID', how='outer')\n",
    "    merged_df = pd.merge(merged_df, dataset3, on='USUBJID', how='outer')\n",
    "    merged_df = pd.merge(merged_df, dataset4, on='USUBJID', how='outer')\n",
    "\n",
    "    # Resulting DataFrame will have aggregated data from all four datasets based on the specific_column\n",
    "    merged_df"
   ]
  },
  {
   "cell_type": "code",
   "execution_count": 46,
   "metadata": {},
   "outputs": [],
   "source": [
    "folder_name = 'new_data'\n",
    "\n",
    "if not os.path.exists(folder_name):\n",
    "    os.makedirs(folder_name)\n",
    "\n",
    "# Specify the path for the CSV file\n",
    "csv_file_path = os.path.join(folder_name, 'merged_data.csv')\n",
    "\n",
    "# Save the DataFrame to CSV\n",
    "merged_df.to_csv(csv_file_path, index=False)"
   ]
  }
 ],
 "metadata": {
  "kernelspec": {
   "display_name": "Python 3",
   "language": "python",
   "name": "python3"
  },
  "language_info": {
   "codemirror_mode": {
    "name": "ipython",
    "version": 3
   },
   "file_extension": ".py",
   "mimetype": "text/x-python",
   "name": "python",
   "nbconvert_exporter": "python",
   "pygments_lexer": "ipython3",
   "version": "3.12.0"
  }
 },
 "nbformat": 4,
 "nbformat_minor": 2
}
