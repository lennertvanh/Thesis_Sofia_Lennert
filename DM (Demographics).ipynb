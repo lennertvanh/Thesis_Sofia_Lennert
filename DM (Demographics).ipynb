{
 "cells": [
  {
   "cell_type": "markdown",
   "metadata": {},
   "source": [
    "### 1. Demographics data (dm.csv) [one record per subject]"
   ]
  },
  {
   "cell_type": "code",
   "execution_count": null,
   "metadata": {},
   "outputs": [],
   "source": [
    "import pandas as pd\n",
    "import matplotlib.pyplot as plt\n",
    "import seaborn as sns"
   ]
  },
  {
   "cell_type": "code",
   "execution_count": null,
   "metadata": {},
   "outputs": [],
   "source": [
    "# Load demographics .csv\n",
    "file_path = 'C:/Users/anaso/Desktop/SOFIA MENDES/KU Leuven/Master Thesis/MSOAC Placebo dataset/csv files/dm.csv'\n",
    "\n",
    "# create data frame\n",
    "demographics = pd.read_csv(file_path)\n",
    "demographics"
   ]
  },
  {
   "cell_type": "code",
   "execution_count": null,
   "metadata": {},
   "outputs": [],
   "source": [
    "unique_count = demographics['USUBJID'].nunique()\n",
    "print(f\"Number of (unique) patients in this dataset: {unique_count}\") #all patients in the dataset"
   ]
  },
  {
   "cell_type": "markdown",
   "metadata": {},
   "source": [
    "Check how many missing values we have per column"
   ]
  },
  {
   "cell_type": "code",
   "execution_count": null,
   "metadata": {},
   "outputs": [],
   "source": [
    "missing_percentage = (demographics.isnull().sum() / len(demographics)) * 100\n",
    "missing_demographics = pd.DataFrame({'Column Name': missing_percentage.index, 'Missing Percentage': missing_percentage.values})\n",
    "#missing_demographics = missing_demographics.sort_values(by='Missing Percentage', ascending=False)\n",
    "print(missing_demographics)"
   ]
  },
  {
   "cell_type": "markdown",
   "metadata": {},
   "source": [
    "We will drop the columns with more than 85% missing values, namely:\n",
    "- **STUDYID**: Study Identifier (irrelevant)\n",
    "- **DOMAIN**: Domain Abbreviation (irrelevant)\n",
    "- **SUBJID**: Subject Identifier for the Study (same as USUBJID)\n",
    "- **RFSTDTC, RFENDTC, DTHDTC, DTHFL, SITEID, INVID, INVNAM, BRTHDTC, DMDTC, DMDY, DMENDY, DMDTC_TS, RFENDTC_TS, RFSTDTC_TS** (all missing and not even mentioned in the dictionary)\n",
    "- **AGEU**: Age Units (NA when AGE missing or YEARS - irrelevant)\n",
    "- **ACTARMCD**: Actual Arm Code (only NA or 1 - seems irrelevant and same info as ACTARM)\n",
    "- **ACTARM**: Description of Actual Arm (only NA or PLACEBO - seems irrelevant)\n",
    "- **ARMCD**: Planned Arm Code (only 1 - irrelevant and same info as ARM)\n",
    "- **ARM**: Description of Planned Arm (only PLACEBO - irrelevant)\n",
    "- **ETHNIC**: Ethnicity (too many missing values and *already included in RACE*) - HISPANIC OR LATINO or NOT HISPANIC OR LATINO"
   ]
  },
  {
   "cell_type": "code",
   "execution_count": null,
   "metadata": {},
   "outputs": [],
   "source": [
    "columns_to_drop = ['STUDYID','DOMAIN','SUBJID','RFSTDTC','RFENDTC','DTHDTC','DTHFL','SITEID','INVID','INVNAM','BRTHDTC','AGEU','ETHNIC','ARMCD','ARM','ACTARMCD','ACTARM','DMDTC','DMDY','DMENDY','DMDTC_TS','RFENDTC_TS','RFSTDTC_TS']\n",
    "demographics = demographics.drop(columns_to_drop, axis=1)\n",
    "demographics"
   ]
  },
  {
   "cell_type": "markdown",
   "metadata": {},
   "source": [
    "- Descriptive statistics for continuous variables (in this case, just age)"
   ]
  },
  {
   "cell_type": "code",
   "execution_count": null,
   "metadata": {},
   "outputs": [],
   "source": [
    "continuous_columns = ['AGE']\n",
    "\n",
    "descriptive_continuous = {\n",
    "    'Count': demographics[continuous_columns].count(), #cases that are not missing\n",
    "    'Missing Cases': demographics[continuous_columns].isna().sum(),\n",
    "    'Mean': demographics[continuous_columns].mean(),\n",
    "    'Standard Deviation': demographics[continuous_columns].std()\n",
    "}\n",
    "\n",
    "cont_demographics = pd.DataFrame(descriptive_continuous)\n",
    "\n",
    "print(cont_demographics)"
   ]
  },
  {
   "cell_type": "code",
   "execution_count": null,
   "metadata": {},
   "outputs": [],
   "source": [
    "age = demographics['AGE'].dropna()\n",
    "\n",
    "plt.figure(figsize=(8, 6))\n",
    "sns.histplot(age, kde=True, color='red', bins=30)\n",
    "plt.xlabel('Age')\n",
    "plt.ylabel('Density')\n",
    "plt.title('Histogram with Density Line for Age')\n",
    "plt.show() # more or less normaly distributed"
   ]
  },
  {
   "cell_type": "code",
   "execution_count": null,
   "metadata": {},
   "outputs": [],
   "source": [
    "summary_stats = age.describe()\n",
    "summary_stats"
   ]
  },
  {
   "cell_type": "code",
   "execution_count": null,
   "metadata": {},
   "outputs": [],
   "source": [
    "plt.figure(figsize=(8, 6))\n",
    "sns.boxplot(y=age, color='skyblue')\n",
    "plt.ylabel('Age')\n",
    "plt.title('Boxplot for Age')\n",
    "plt.show()"
   ]
  },
  {
   "cell_type": "markdown",
   "metadata": {},
   "source": [
    "- Descriptive statistics for categorical variables (in this case, gender, race and country)"
   ]
  },
  {
   "cell_type": "code",
   "execution_count": null,
   "metadata": {},
   "outputs": [],
   "source": [
    "categorical_columns = ['SEX', 'RACE','COUNTRY']\n",
    "\n",
    "descriptive_categorical = {}\n",
    "for col in categorical_columns:\n",
    "    descriptive_categorical[col] = {\n",
    "        'Count': demographics[col].count(),\n",
    "        'Missing Cases': demographics[col].isna().sum(),\n",
    "        'Unique Values': demographics[col].nunique(),\n",
    "        'Mode': demographics[col].mode().values[0],\n",
    "        'Mode Frequency': demographics[col].value_counts().max()\n",
    "    }\n",
    "\n",
    "cat_demographics = pd.DataFrame(descriptive_categorical).T\n",
    "print(cat_demographics)"
   ]
  },
  {
   "cell_type": "markdown",
   "metadata": {},
   "source": [
    "- Number of observations for each RACE category"
   ]
  },
  {
   "cell_type": "code",
   "execution_count": null,
   "metadata": {},
   "outputs": [],
   "source": [
    "race_counts_demographics = demographics['RACE'].value_counts().reset_index()\n",
    "race_counts_demographics.columns = ['Race', 'Count']\n",
    "total_count = race_counts_demographics['Count'].sum()\n",
    "race_counts_demographics['Percentage'] = (race_counts_demographics['Count'] / total_count) * 100\n",
    "\n",
    "print(race_counts_demographics)"
   ]
  },
  {
   "cell_type": "code",
   "execution_count": null,
   "metadata": {},
   "outputs": [],
   "source": [
    "# Pie chart - dropped NA for now\n",
    "categories = demographics['RACE'].dropna().unique()\n",
    "category_counts = demographics['RACE'].dropna().value_counts()\n",
    "\n",
    "plt.pie(category_counts, labels=categories, autopct='%1.1f%%', startangle=90)\n",
    "plt.legend(labels=categories, loc='lower right', bbox_to_anchor=(1.2, 1))\n",
    "plt.axis('equal')\n",
    "plt.show()"
   ]
  },
  {
   "cell_type": "code",
   "execution_count": null,
   "metadata": {},
   "outputs": [],
   "source": [
    "race = demographics['RACE'].dropna()\n",
    "\n",
    "plt.figure(figsize=(8, 6))\n",
    "race.value_counts().plot(kind='bar', color='green')\n",
    "plt.xlabel('Race')\n",
    "plt.ylabel('Count')\n",
    "plt.title('Bar Chart for Race')\n",
    "plt.show()"
   ]
  },
  {
   "cell_type": "markdown",
   "metadata": {},
   "source": [
    "- Number of observations for each SEX category"
   ]
  },
  {
   "cell_type": "code",
   "execution_count": null,
   "metadata": {},
   "outputs": [],
   "source": [
    "sex_counts_demographics = demographics['SEX'].value_counts().reset_index()\n",
    "sex_counts_demographics.columns = ['Gender', 'Count']\n",
    "total_count = sex_counts_demographics['Count'].sum()\n",
    "sex_counts_demographics['Percentage'] = (sex_counts_demographics['Count'] / total_count) * 100\n",
    "\n",
    "print(sex_counts_demographics)"
   ]
  },
  {
   "cell_type": "code",
   "execution_count": null,
   "metadata": {},
   "outputs": [],
   "source": [
    "# Pie chart - dropped NA for now\n",
    "categories = demographics['SEX'].dropna().unique()\n",
    "category_counts = demographics['SEX'].dropna().value_counts()\n",
    "\n",
    "plt.pie(category_counts, labels=categories, autopct='%1.1f%%', startangle=90)\n",
    "plt.legend(labels=categories, loc='lower right', bbox_to_anchor=(1.2, 1))\n",
    "plt.axis('equal')\n",
    "plt.show()"
   ]
  },
  {
   "cell_type": "code",
   "execution_count": null,
   "metadata": {},
   "outputs": [],
   "source": [
    "sex = demographics['SEX'].dropna()\n",
    "\n",
    "plt.figure(figsize=(8, 6))\n",
    "sex.value_counts().plot(kind='bar', color='green')\n",
    "plt.xlabel('Sex')\n",
    "plt.ylabel('Count')\n",
    "plt.title('Bar Chart for Sex')\n",
    "plt.show()"
   ]
  },
  {
   "cell_type": "markdown",
   "metadata": {},
   "source": [
    "- Number of observations for each COUNTRY category"
   ]
  },
  {
   "cell_type": "code",
   "execution_count": null,
   "metadata": {},
   "outputs": [],
   "source": [
    "country_counts_demographics = demographics['COUNTRY'].value_counts().reset_index()\n",
    "country_counts_demographics.columns = ['Country', 'Count']\n",
    "total_count = country_counts_demographics['Count'].sum()\n",
    "country_counts_demographics['Percentage'] = (country_counts_demographics['Count'] / total_count) * 100\n",
    "\n",
    "print(country_counts_demographics)"
   ]
  },
  {
   "cell_type": "code",
   "execution_count": null,
   "metadata": {},
   "outputs": [],
   "source": [
    "country = demographics['COUNTRY'].dropna()\n",
    "\n",
    "plt.figure(figsize=(8, 6))\n",
    "country.value_counts().plot(kind='bar', color='green')\n",
    "plt.xlabel('Country')\n",
    "plt.ylabel('Count')\n",
    "plt.title('Bar Chart for Country')\n",
    "plt.show()"
   ]
  },
  {
   "cell_type": "markdown",
   "metadata": {},
   "source": [
    "#### *Ideas*:\n",
    "- Impute age with mean (only around 3% missing)\n",
    "- Is country important for prognosis? If not, drop. If yes, what do to regarding missing values? \n",
    "- COUNTRY variable (if used): should we group by continent? - it has way too many countries\n",
    "- RACE variable is highly imbalanced - maybe use just two categories (white / non-white)?"
   ]
  }
 ],
 "metadata": {
  "kernelspec": {
   "display_name": "Python 3",
   "language": "python",
   "name": "python3"
  },
  "language_info": {
   "codemirror_mode": {
    "name": "ipython",
    "version": 3
   },
   "file_extension": ".py",
   "mimetype": "text/x-python",
   "name": "python",
   "nbconvert_exporter": "python",
   "pygments_lexer": "ipython3",
   "version": "3.12.0"
  }
 },
 "nbformat": 4,
 "nbformat_minor": 2
}
