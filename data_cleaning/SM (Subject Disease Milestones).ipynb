{
 "cells": [
  {
   "cell_type": "markdown",
   "metadata": {},
   "source": [
    "### 6. Subject Disease Milestones (sm.csv) - [One record per Disease Milestone per subject]"
   ]
  },
  {
   "cell_type": "code",
   "execution_count": 1,
   "metadata": {},
   "outputs": [],
   "source": [
    "import pandas as pd\n",
    "import matplotlib.pyplot as plt\n",
    "import seaborn as sns\n",
    "import os"
   ]
  },
  {
   "cell_type": "code",
   "execution_count": 2,
   "metadata": {},
   "outputs": [
    {
     "data": {
      "text/html": [
       "<div>\n",
       "<style scoped>\n",
       "    .dataframe tbody tr th:only-of-type {\n",
       "        vertical-align: middle;\n",
       "    }\n",
       "\n",
       "    .dataframe tbody tr th {\n",
       "        vertical-align: top;\n",
       "    }\n",
       "\n",
       "    .dataframe thead th {\n",
       "        text-align: right;\n",
       "    }\n",
       "</style>\n",
       "<table border=\"1\" class=\"dataframe\">\n",
       "  <thead>\n",
       "    <tr style=\"text-align: right;\">\n",
       "      <th></th>\n",
       "      <th>STUDYID</th>\n",
       "      <th>DOMAIN</th>\n",
       "      <th>USUBJID</th>\n",
       "      <th>SMSEQ</th>\n",
       "      <th>SMSTDY</th>\n",
       "      <th>SMENDY</th>\n",
       "      <th>SMENRF</th>\n",
       "      <th>MIDS</th>\n",
       "      <th>MIDSTYPE</th>\n",
       "    </tr>\n",
       "  </thead>\n",
       "  <tbody>\n",
       "    <tr>\n",
       "      <th>222</th>\n",
       "      <td>MSOAC</td>\n",
       "      <td>SM</td>\n",
       "      <td>MSOAC/0031</td>\n",
       "      <td>1</td>\n",
       "      <td>268.0</td>\n",
       "      <td>279.0</td>\n",
       "      <td>NaN</td>\n",
       "      <td>MS RELAPSE 1</td>\n",
       "      <td>MULTIPLE SCLEROSIS RELAPSE EVENT</td>\n",
       "    </tr>\n",
       "    <tr>\n",
       "      <th>57</th>\n",
       "      <td>MSOAC</td>\n",
       "      <td>SM</td>\n",
       "      <td>MSOAC/0031</td>\n",
       "      <td>2</td>\n",
       "      <td>814.0</td>\n",
       "      <td>NaN</td>\n",
       "      <td>NaN</td>\n",
       "      <td>MS RELAPSE 2</td>\n",
       "      <td>MULTIPLE SCLEROSIS RELAPSE EVENT</td>\n",
       "    </tr>\n",
       "    <tr>\n",
       "      <th>683</th>\n",
       "      <td>MSOAC</td>\n",
       "      <td>SM</td>\n",
       "      <td>MSOAC/0035</td>\n",
       "      <td>1</td>\n",
       "      <td>144.0</td>\n",
       "      <td>NaN</td>\n",
       "      <td>NaN</td>\n",
       "      <td>MS RELAPSE 1</td>\n",
       "      <td>MULTIPLE SCLEROSIS RELAPSE EVENT</td>\n",
       "    </tr>\n",
       "    <tr>\n",
       "      <th>421</th>\n",
       "      <td>MSOAC</td>\n",
       "      <td>SM</td>\n",
       "      <td>MSOAC/0035</td>\n",
       "      <td>2</td>\n",
       "      <td>221.0</td>\n",
       "      <td>NaN</td>\n",
       "      <td>NaN</td>\n",
       "      <td>MS RELAPSE 2</td>\n",
       "      <td>MULTIPLE SCLEROSIS RELAPSE EVENT</td>\n",
       "    </tr>\n",
       "    <tr>\n",
       "      <th>1287</th>\n",
       "      <td>MSOAC</td>\n",
       "      <td>SM</td>\n",
       "      <td>MSOAC/0044</td>\n",
       "      <td>1</td>\n",
       "      <td>414.0</td>\n",
       "      <td>NaN</td>\n",
       "      <td>NaN</td>\n",
       "      <td>MS RELAPSE 1</td>\n",
       "      <td>MULTIPLE SCLEROSIS RELAPSE EVENT</td>\n",
       "    </tr>\n",
       "    <tr>\n",
       "      <th>...</th>\n",
       "      <td>...</td>\n",
       "      <td>...</td>\n",
       "      <td>...</td>\n",
       "      <td>...</td>\n",
       "      <td>...</td>\n",
       "      <td>...</td>\n",
       "      <td>...</td>\n",
       "      <td>...</td>\n",
       "      <td>...</td>\n",
       "    </tr>\n",
       "    <tr>\n",
       "      <th>797</th>\n",
       "      <td>MSOAC</td>\n",
       "      <td>SM</td>\n",
       "      <td>MSOAC/9995</td>\n",
       "      <td>1</td>\n",
       "      <td>142.0</td>\n",
       "      <td>NaN</td>\n",
       "      <td>NaN</td>\n",
       "      <td>MS RELAPSE 1</td>\n",
       "      <td>MULTIPLE SCLEROSIS RELAPSE EVENT</td>\n",
       "    </tr>\n",
       "    <tr>\n",
       "      <th>996</th>\n",
       "      <td>MSOAC</td>\n",
       "      <td>SM</td>\n",
       "      <td>MSOAC/9995</td>\n",
       "      <td>2</td>\n",
       "      <td>555.0</td>\n",
       "      <td>NaN</td>\n",
       "      <td>NaN</td>\n",
       "      <td>MS RELAPSE 2</td>\n",
       "      <td>MULTIPLE SCLEROSIS RELAPSE EVENT</td>\n",
       "    </tr>\n",
       "    <tr>\n",
       "      <th>1039</th>\n",
       "      <td>MSOAC</td>\n",
       "      <td>SM</td>\n",
       "      <td>MSOAC/9998</td>\n",
       "      <td>1</td>\n",
       "      <td>79.0</td>\n",
       "      <td>NaN</td>\n",
       "      <td>NaN</td>\n",
       "      <td>MS RELAPSE 1</td>\n",
       "      <td>MULTIPLE SCLEROSIS RELAPSE EVENT</td>\n",
       "    </tr>\n",
       "    <tr>\n",
       "      <th>272</th>\n",
       "      <td>MSOAC</td>\n",
       "      <td>SM</td>\n",
       "      <td>MSOAC/9999</td>\n",
       "      <td>1</td>\n",
       "      <td>69.0</td>\n",
       "      <td>NaN</td>\n",
       "      <td>NaN</td>\n",
       "      <td>MS RELAPSE 1</td>\n",
       "      <td>MULTIPLE SCLEROSIS RELAPSE EVENT</td>\n",
       "    </tr>\n",
       "    <tr>\n",
       "      <th>494</th>\n",
       "      <td>MSOAC</td>\n",
       "      <td>SM</td>\n",
       "      <td>MSOAC/9999</td>\n",
       "      <td>2</td>\n",
       "      <td>359.0</td>\n",
       "      <td>NaN</td>\n",
       "      <td>NaN</td>\n",
       "      <td>MS RELAPSE 2</td>\n",
       "      <td>MULTIPLE SCLEROSIS RELAPSE EVENT</td>\n",
       "    </tr>\n",
       "  </tbody>\n",
       "</table>\n",
       "<p>1508 rows × 9 columns</p>\n",
       "</div>"
      ],
      "text/plain": [
       "     STUDYID DOMAIN     USUBJID  SMSEQ  SMSTDY  SMENDY SMENRF          MIDS  \\\n",
       "222    MSOAC     SM  MSOAC/0031      1   268.0   279.0    NaN  MS RELAPSE 1   \n",
       "57     MSOAC     SM  MSOAC/0031      2   814.0     NaN    NaN  MS RELAPSE 2   \n",
       "683    MSOAC     SM  MSOAC/0035      1   144.0     NaN    NaN  MS RELAPSE 1   \n",
       "421    MSOAC     SM  MSOAC/0035      2   221.0     NaN    NaN  MS RELAPSE 2   \n",
       "1287   MSOAC     SM  MSOAC/0044      1   414.0     NaN    NaN  MS RELAPSE 1   \n",
       "...      ...    ...         ...    ...     ...     ...    ...           ...   \n",
       "797    MSOAC     SM  MSOAC/9995      1   142.0     NaN    NaN  MS RELAPSE 1   \n",
       "996    MSOAC     SM  MSOAC/9995      2   555.0     NaN    NaN  MS RELAPSE 2   \n",
       "1039   MSOAC     SM  MSOAC/9998      1    79.0     NaN    NaN  MS RELAPSE 1   \n",
       "272    MSOAC     SM  MSOAC/9999      1    69.0     NaN    NaN  MS RELAPSE 1   \n",
       "494    MSOAC     SM  MSOAC/9999      2   359.0     NaN    NaN  MS RELAPSE 2   \n",
       "\n",
       "                              MIDSTYPE  \n",
       "222   MULTIPLE SCLEROSIS RELAPSE EVENT  \n",
       "57    MULTIPLE SCLEROSIS RELAPSE EVENT  \n",
       "683   MULTIPLE SCLEROSIS RELAPSE EVENT  \n",
       "421   MULTIPLE SCLEROSIS RELAPSE EVENT  \n",
       "1287  MULTIPLE SCLEROSIS RELAPSE EVENT  \n",
       "...                                ...  \n",
       "797   MULTIPLE SCLEROSIS RELAPSE EVENT  \n",
       "996   MULTIPLE SCLEROSIS RELAPSE EVENT  \n",
       "1039  MULTIPLE SCLEROSIS RELAPSE EVENT  \n",
       "272   MULTIPLE SCLEROSIS RELAPSE EVENT  \n",
       "494   MULTIPLE SCLEROSIS RELAPSE EVENT  \n",
       "\n",
       "[1508 rows x 9 columns]"
      ]
     },
     "execution_count": 2,
     "metadata": {},
     "output_type": "execute_result"
    }
   ],
   "source": [
    "# Load subject disease milestones .csv file\n",
    "possible_paths = [\n",
    "    'C:/Users/lenne/OneDrive/Documenten/Master of Statistics and Data Science/2023-2024/Master thesis/MSOAC Placebo Data',\n",
    "    'C:/Users/anaso/Desktop/SOFIA MENDES/KU Leuven/Master Thesis/MSOAC Placebo dataset/csv files'\n",
    "]\n",
    "\n",
    "file_name = 'sm.csv'\n",
    "file_path = next(f'{path}/{file_name}' for path in possible_paths if os.path.exists(f'{path}/{file_name}'))\n",
    "# Create data frame\n",
    "milestones = pd.read_csv(file_path)\n",
    "\n",
    "# Sort by the 'USUBJID' and 'SMSEQ' columns in ascending order\n",
    "milestones = milestones.sort_values(by=['USUBJID', 'SMSEQ'], ascending=True)\n",
    "milestones"
   ]
  },
  {
   "cell_type": "markdown",
   "metadata": {},
   "source": [
    "Number of patients"
   ]
  },
  {
   "cell_type": "code",
   "execution_count": 3,
   "metadata": {},
   "outputs": [
    {
     "name": "stdout",
     "output_type": "stream",
     "text": [
      "The number of unique values in USUBJID: 853\n"
     ]
    }
   ],
   "source": [
    "unique_count = milestones['USUBJID'].nunique()\n",
    "print(f\"The number of unique values in USUBJID: {unique_count}\")"
   ]
  },
  {
   "cell_type": "markdown",
   "metadata": {},
   "source": [
    "Check how many missing values per column"
   ]
  },
  {
   "cell_type": "code",
   "execution_count": 4,
   "metadata": {},
   "outputs": [
    {
     "name": "stdout",
     "output_type": "stream",
     "text": [
      "  Column Name  Missing Percentage\n",
      "6      SMENRF           99.469496\n",
      "5      SMENDY           57.294430\n",
      "4      SMSTDY            1.989390\n",
      "0     STUDYID            0.000000\n",
      "1      DOMAIN            0.000000\n",
      "2     USUBJID            0.000000\n",
      "3       SMSEQ            0.000000\n",
      "7        MIDS            0.000000\n",
      "8    MIDSTYPE            0.000000\n"
     ]
    }
   ],
   "source": [
    "missing_percentage_sm = (milestones.isnull().sum() / len(milestones)) * 100\n",
    "missing_milestones = pd.DataFrame({'Column Name': missing_percentage_sm.index, 'Missing Percentage': missing_percentage_sm.values})\n",
    "missing_milestones = missing_milestones.sort_values(by='Missing Percentage', ascending=False)\n",
    "print(missing_milestones)"
   ]
  },
  {
   "cell_type": "markdown",
   "metadata": {},
   "source": [
    "Drop column with more than 90% and others, namely:\n",
    "- **STUDYID**: Study Identifier (irrelevant)\n",
    "- **DOMAIN**: Domain Abbreviation (irrelevant)\n",
    "- **SMSEQ**: Sequence Number (gives same info as MIDS, in this dataset it does not add anything) -- *maybe keep because it might be used as a merging variable with ID*\n",
    "- **SMENRF**: Study Day of End of Milestone (almost all missing, but should I leave it the dataset?) !!!!!!\n",
    "- **MIDSTYPE**: Disease Milestone Type (gives same info as MIDS)"
   ]
  },
  {
   "cell_type": "code",
   "execution_count": 5,
   "metadata": {},
   "outputs": [
    {
     "data": {
      "text/html": [
       "<div>\n",
       "<style scoped>\n",
       "    .dataframe tbody tr th:only-of-type {\n",
       "        vertical-align: middle;\n",
       "    }\n",
       "\n",
       "    .dataframe tbody tr th {\n",
       "        vertical-align: top;\n",
       "    }\n",
       "\n",
       "    .dataframe thead th {\n",
       "        text-align: right;\n",
       "    }\n",
       "</style>\n",
       "<table border=\"1\" class=\"dataframe\">\n",
       "  <thead>\n",
       "    <tr style=\"text-align: right;\">\n",
       "      <th></th>\n",
       "      <th>USUBJID</th>\n",
       "      <th>SMSTDY</th>\n",
       "      <th>SMENDY</th>\n",
       "      <th>MIDS</th>\n",
       "    </tr>\n",
       "  </thead>\n",
       "  <tbody>\n",
       "    <tr>\n",
       "      <th>222</th>\n",
       "      <td>MSOAC/0031</td>\n",
       "      <td>268.0</td>\n",
       "      <td>279.0</td>\n",
       "      <td>MS RELAPSE 1</td>\n",
       "    </tr>\n",
       "    <tr>\n",
       "      <th>57</th>\n",
       "      <td>MSOAC/0031</td>\n",
       "      <td>814.0</td>\n",
       "      <td>NaN</td>\n",
       "      <td>MS RELAPSE 2</td>\n",
       "    </tr>\n",
       "    <tr>\n",
       "      <th>683</th>\n",
       "      <td>MSOAC/0035</td>\n",
       "      <td>144.0</td>\n",
       "      <td>NaN</td>\n",
       "      <td>MS RELAPSE 1</td>\n",
       "    </tr>\n",
       "    <tr>\n",
       "      <th>421</th>\n",
       "      <td>MSOAC/0035</td>\n",
       "      <td>221.0</td>\n",
       "      <td>NaN</td>\n",
       "      <td>MS RELAPSE 2</td>\n",
       "    </tr>\n",
       "    <tr>\n",
       "      <th>1287</th>\n",
       "      <td>MSOAC/0044</td>\n",
       "      <td>414.0</td>\n",
       "      <td>NaN</td>\n",
       "      <td>MS RELAPSE 1</td>\n",
       "    </tr>\n",
       "    <tr>\n",
       "      <th>...</th>\n",
       "      <td>...</td>\n",
       "      <td>...</td>\n",
       "      <td>...</td>\n",
       "      <td>...</td>\n",
       "    </tr>\n",
       "    <tr>\n",
       "      <th>797</th>\n",
       "      <td>MSOAC/9995</td>\n",
       "      <td>142.0</td>\n",
       "      <td>NaN</td>\n",
       "      <td>MS RELAPSE 1</td>\n",
       "    </tr>\n",
       "    <tr>\n",
       "      <th>996</th>\n",
       "      <td>MSOAC/9995</td>\n",
       "      <td>555.0</td>\n",
       "      <td>NaN</td>\n",
       "      <td>MS RELAPSE 2</td>\n",
       "    </tr>\n",
       "    <tr>\n",
       "      <th>1039</th>\n",
       "      <td>MSOAC/9998</td>\n",
       "      <td>79.0</td>\n",
       "      <td>NaN</td>\n",
       "      <td>MS RELAPSE 1</td>\n",
       "    </tr>\n",
       "    <tr>\n",
       "      <th>272</th>\n",
       "      <td>MSOAC/9999</td>\n",
       "      <td>69.0</td>\n",
       "      <td>NaN</td>\n",
       "      <td>MS RELAPSE 1</td>\n",
       "    </tr>\n",
       "    <tr>\n",
       "      <th>494</th>\n",
       "      <td>MSOAC/9999</td>\n",
       "      <td>359.0</td>\n",
       "      <td>NaN</td>\n",
       "      <td>MS RELAPSE 2</td>\n",
       "    </tr>\n",
       "  </tbody>\n",
       "</table>\n",
       "<p>1508 rows × 4 columns</p>\n",
       "</div>"
      ],
      "text/plain": [
       "         USUBJID  SMSTDY  SMENDY          MIDS\n",
       "222   MSOAC/0031   268.0   279.0  MS RELAPSE 1\n",
       "57    MSOAC/0031   814.0     NaN  MS RELAPSE 2\n",
       "683   MSOAC/0035   144.0     NaN  MS RELAPSE 1\n",
       "421   MSOAC/0035   221.0     NaN  MS RELAPSE 2\n",
       "1287  MSOAC/0044   414.0     NaN  MS RELAPSE 1\n",
       "...          ...     ...     ...           ...\n",
       "797   MSOAC/9995   142.0     NaN  MS RELAPSE 1\n",
       "996   MSOAC/9995   555.0     NaN  MS RELAPSE 2\n",
       "1039  MSOAC/9998    79.0     NaN  MS RELAPSE 1\n",
       "272   MSOAC/9999    69.0     NaN  MS RELAPSE 1\n",
       "494   MSOAC/9999   359.0     NaN  MS RELAPSE 2\n",
       "\n",
       "[1508 rows x 4 columns]"
      ]
     },
     "execution_count": 5,
     "metadata": {},
     "output_type": "execute_result"
    }
   ],
   "source": [
    "columns_to_drop = ['STUDYID','DOMAIN','SMSEQ','SMENRF','MIDSTYPE']\n",
    "milestones = milestones.drop(columns_to_drop, axis=1)\n",
    "milestones"
   ]
  },
  {
   "cell_type": "markdown",
   "metadata": {},
   "source": [
    "- Descriptive statistics for continuous variables (SMSTDY)"
   ]
  },
  {
   "cell_type": "code",
   "execution_count": 6,
   "metadata": {},
   "outputs": [
    {
     "name": "stdout",
     "output_type": "stream",
     "text": [
      "        Count  Missing Cases        Mean  Standard Deviation\n",
      "SMSTDY   1478             30  395.510149          303.959886\n",
      "SMENDY    644            864  338.309006          223.011404\n"
     ]
    }
   ],
   "source": [
    "continuous_columns_ms = ['SMSTDY','SMENDY']\n",
    "\n",
    "descriptive_continuous_ms = {\n",
    "    'Count': milestones[continuous_columns_ms].count(), #cases that are not missing\n",
    "    'Missing Cases': milestones[continuous_columns_ms].isna().sum(),\n",
    "    'Mean': milestones[continuous_columns_ms].mean(),\n",
    "    'Standard Deviation': milestones[continuous_columns_ms].std()\n",
    "}\n",
    "\n",
    "cont_milestones = pd.DataFrame(descriptive_continuous_ms)\n",
    "print(cont_milestones)"
   ]
  },
  {
   "cell_type": "code",
   "execution_count": 7,
   "metadata": {},
   "outputs": [
    {
     "data": {
      "image/png": "[encoded data removed]",
      "text/plain": [
       "<Figure size 800x600 with 1 Axes>"
      ]
     },
     "metadata": {},
     "output_type": "display_data"
    }
   ],
   "source": [
    "SMSTDY = milestones['SMSTDY'].dropna()\n",
    "\n",
    "plt.figure(figsize=(8, 6))\n",
    "sns.histplot(SMSTDY, kde=True, color='red', bins=30)\n",
    "plt.xlabel('SMSTDY')\n",
    "plt.ylabel('Density')\n",
    "plt.title('Histogram with Density Line for SMSTDY')\n",
    "plt.show() # more or less normaly distributed"
   ]
  },
  {
   "cell_type": "code",
   "execution_count": 8,
   "metadata": {},
   "outputs": [
    {
     "data": {
      "text/plain": [
       "count    1478.000000\n",
       "mean      395.510149\n",
       "std       303.959886\n",
       "min         1.000000\n",
       "25%       153.000000\n",
       "50%       327.000000\n",
       "75%       591.000000\n",
       "max      1644.000000\n",
       "Name: SMSTDY, dtype: float64"
      ]
     },
     "execution_count": 8,
     "metadata": {},
     "output_type": "execute_result"
    }
   ],
   "source": [
    "summary_stats = SMSTDY.describe()\n",
    "summary_stats"
   ]
  },
  {
   "cell_type": "code",
   "execution_count": 9,
   "metadata": {},
   "outputs": [
    {
     "data": {
      "image/png": "[encoded data removed]",
      "text/plain": [
       "<Figure size 800x600 with 1 Axes>"
      ]
     },
     "metadata": {},
     "output_type": "display_data"
    }
   ],
   "source": [
    "plt.figure(figsize=(8, 6))\n",
    "sns.boxplot(y=SMSTDY, color='skyblue')\n",
    "plt.ylabel('SMSTDY')\n",
    "plt.title('Boxplot for SMSTDY')\n",
    "plt.show()"
   ]
  },
  {
   "cell_type": "code",
   "execution_count": 10,
   "metadata": {},
   "outputs": [
    {
     "data": {
      "image/png": "[encoded data removed]",
      "text/plain": [
       "<Figure size 800x600 with 1 Axes>"
      ]
     },
     "metadata": {},
     "output_type": "display_data"
    }
   ],
   "source": [
    "SMENDY = milestones['SMENDY'].dropna()\n",
    "\n",
    "plt.figure(figsize=(8, 6))\n",
    "sns.histplot(SMENDY, kde=True, color='red', bins=30)\n",
    "plt.xlabel('SMENDY')\n",
    "plt.ylabel('Density')\n",
    "plt.title('Histogram with Density Line for SMENDY')\n",
    "plt.show() # more or less normaly distributed"
   ]
  },
  {
   "cell_type": "code",
   "execution_count": 11,
   "metadata": {},
   "outputs": [
    {
     "data": {
      "text/plain": [
       "count    644.000000\n",
       "mean     338.309006\n",
       "std      223.011404\n",
       "min        3.000000\n",
       "25%      154.750000\n",
       "50%      282.500000\n",
       "75%      511.000000\n",
       "max      849.000000\n",
       "Name: SMENDY, dtype: float64"
      ]
     },
     "execution_count": 11,
     "metadata": {},
     "output_type": "execute_result"
    }
   ],
   "source": [
    "summary_stats = SMENDY.describe()\n",
    "summary_stats"
   ]
  },
  {
   "cell_type": "code",
   "execution_count": 12,
   "metadata": {},
   "outputs": [
    {
     "data": {
      "image/png": "[encoded data removed]",
      "text/plain": [
       "<Figure size 800x600 with 1 Axes>"
      ]
     },
     "metadata": {},
     "output_type": "display_data"
    }
   ],
   "source": [
    "plt.figure(figsize=(8, 6))\n",
    "sns.boxplot(y=SMENDY, color='skyblue')\n",
    "plt.ylabel('SMENDY')\n",
    "plt.title('Boxplot for SMENDY')\n",
    "plt.show()"
   ]
  },
  {
   "cell_type": "markdown",
   "metadata": {},
   "source": [
    "- Descriptive statistics for categorical variables"
   ]
  },
  {
   "cell_type": "code",
   "execution_count": 13,
   "metadata": {},
   "outputs": [
    {
     "name": "stdout",
     "output_type": "stream",
     "text": [
      "     Count Missing Cases          Mode Mode Frequency Unique Values\n",
      "MIDS  1508             0  MS RELAPSE 1            853             9\n"
     ]
    }
   ],
   "source": [
    "categorical_columns_ms = ['MIDS']\n",
    "\n",
    "descriptive_categorical_ms = {}\n",
    "for col in categorical_columns_ms:\n",
    "    descriptive_categorical_ms[col] = {\n",
    "        'Count': milestones[col].count(),\n",
    "        'Missing Cases': milestones[col].isna().sum(),\n",
    "        'Unique Values': milestones[col].nunique(),\n",
    "        'Mode': milestones[col].mode().values[0],\n",
    "        'Mode Frequency': milestones[col].value_counts().max()\n",
    "    }\n",
    "\n",
    "cat_milestones = pd.DataFrame(descriptive_categorical_ms).T\n",
    "print(cat_milestones)"
   ]
  },
  {
   "cell_type": "markdown",
   "metadata": {},
   "source": [
    "- number of observations for each MIDS category"
   ]
  },
  {
   "cell_type": "code",
   "execution_count": 14,
   "metadata": {},
   "outputs": [
    {
     "name": "stdout",
     "output_type": "stream",
     "text": [
      "           MIDS  Count  Percentage\n",
      "0  MS RELAPSE 1    853   56.564987\n",
      "1  MS RELAPSE 2    368   24.403183\n",
      "2  MS RELAPSE 3    157   10.411141\n",
      "3  MS RELAPSE 4     75    4.973475\n",
      "4  MS RELAPSE 5     36    2.387268\n",
      "5  MS RELAPSE 6     14    0.928382\n",
      "6  MS RELAPSE 7      3    0.198939\n",
      "7  MS RELAPSE 8      1    0.066313\n",
      "8  MS RELAPSE 9      1    0.066313\n"
     ]
    }
   ],
   "source": [
    "# MIDS\n",
    "mids_counts_milestones = milestones['MIDS'].value_counts().reset_index()\n",
    "mids_counts_milestones.columns = ['MIDS', 'Count']\n",
    "total_count = mids_counts_milestones['Count'].sum()\n",
    "mids_counts_milestones['Percentage'] = (mids_counts_milestones['Count'] / total_count) * 100\n",
    "print(mids_counts_milestones)"
   ]
  },
  {
   "cell_type": "code",
   "execution_count": 15,
   "metadata": {},
   "outputs": [
    {
     "data": {
      "image/png": "[encoded data removed]",
      "text/plain": [
       "<Figure size 1000x600 with 1 Axes>"
      ]
     },
     "metadata": {},
     "output_type": "display_data"
    }
   ],
   "source": [
    "MIDS = milestones['MIDS'].dropna()\n",
    "\n",
    "plt.figure(figsize=(10, 6))\n",
    "\n",
    "# Plotting the bar chart\n",
    "ax = sns.countplot(x=MIDS, color='skyblue')  # Using a single color for all bars\n",
    "\n",
    "# Adding percentages to the bars\n",
    "total = 853\n",
    "for p in ax.patches:\n",
    "    percentage = '{:.1f}%'.format(100 * p.get_height() / total)\n",
    "    x = p.get_x() + p.get_width() / 2\n",
    "    y = p.get_height()\n",
    "    ax.annotate(percentage, (x, y), ha='center', va='bottom')\n",
    "\n",
    "# Rotate the legend\n",
    "plt.xticks(rotation=45)\n",
    "\n",
    "plt.xlabel('MIDS')\n",
    "plt.ylabel('Count')\n",
    "plt.title('NUMBER OF RELAPSES (Bar Chart)')\n",
    "plt.show()"
   ]
  },
  {
   "cell_type": "markdown",
   "metadata": {},
   "source": [
    "What matters in fact is how many relapses each patient had in total. Therefore, we can create a df with one row per patient with the total number of relapses.\n",
    "We also keep SMSTDY, but only the starting day of the FIRST relapse"
   ]
  },
  {
   "cell_type": "code",
   "execution_count": 16,
   "metadata": {},
   "outputs": [
    {
     "data": {
      "text/html": [
       "<div>\n",
       "<style scoped>\n",
       "    .dataframe tbody tr th:only-of-type {\n",
       "        vertical-align: middle;\n",
       "    }\n",
       "\n",
       "    .dataframe tbody tr th {\n",
       "        vertical-align: top;\n",
       "    }\n",
       "\n",
       "    .dataframe thead th {\n",
       "        text-align: right;\n",
       "    }\n",
       "</style>\n",
       "<table border=\"1\" class=\"dataframe\">\n",
       "  <thead>\n",
       "    <tr style=\"text-align: right;\">\n",
       "      <th></th>\n",
       "      <th>USUBJID</th>\n",
       "      <th>SMSTDY</th>\n",
       "      <th>NRELAP</th>\n",
       "    </tr>\n",
       "  </thead>\n",
       "  <tbody>\n",
       "    <tr>\n",
       "      <th>222</th>\n",
       "      <td>MSOAC/0031</td>\n",
       "      <td>268.0</td>\n",
       "      <td>2</td>\n",
       "    </tr>\n",
       "    <tr>\n",
       "      <th>57</th>\n",
       "      <td>MSOAC/0031</td>\n",
       "      <td>814.0</td>\n",
       "      <td>2</td>\n",
       "    </tr>\n",
       "    <tr>\n",
       "      <th>683</th>\n",
       "      <td>MSOAC/0035</td>\n",
       "      <td>144.0</td>\n",
       "      <td>2</td>\n",
       "    </tr>\n",
       "    <tr>\n",
       "      <th>421</th>\n",
       "      <td>MSOAC/0035</td>\n",
       "      <td>221.0</td>\n",
       "      <td>2</td>\n",
       "    </tr>\n",
       "    <tr>\n",
       "      <th>1287</th>\n",
       "      <td>MSOAC/0044</td>\n",
       "      <td>414.0</td>\n",
       "      <td>1</td>\n",
       "    </tr>\n",
       "    <tr>\n",
       "      <th>...</th>\n",
       "      <td>...</td>\n",
       "      <td>...</td>\n",
       "      <td>...</td>\n",
       "    </tr>\n",
       "    <tr>\n",
       "      <th>797</th>\n",
       "      <td>MSOAC/9995</td>\n",
       "      <td>142.0</td>\n",
       "      <td>2</td>\n",
       "    </tr>\n",
       "    <tr>\n",
       "      <th>996</th>\n",
       "      <td>MSOAC/9995</td>\n",
       "      <td>555.0</td>\n",
       "      <td>2</td>\n",
       "    </tr>\n",
       "    <tr>\n",
       "      <th>1039</th>\n",
       "      <td>MSOAC/9998</td>\n",
       "      <td>79.0</td>\n",
       "      <td>1</td>\n",
       "    </tr>\n",
       "    <tr>\n",
       "      <th>272</th>\n",
       "      <td>MSOAC/9999</td>\n",
       "      <td>69.0</td>\n",
       "      <td>2</td>\n",
       "    </tr>\n",
       "    <tr>\n",
       "      <th>494</th>\n",
       "      <td>MSOAC/9999</td>\n",
       "      <td>359.0</td>\n",
       "      <td>2</td>\n",
       "    </tr>\n",
       "  </tbody>\n",
       "</table>\n",
       "<p>1508 rows × 3 columns</p>\n",
       "</div>"
      ],
      "text/plain": [
       "         USUBJID  SMSTDY  NRELAP\n",
       "222   MSOAC/0031   268.0       2\n",
       "57    MSOAC/0031   814.0       2\n",
       "683   MSOAC/0035   144.0       2\n",
       "421   MSOAC/0035   221.0       2\n",
       "1287  MSOAC/0044   414.0       1\n",
       "...          ...     ...     ...\n",
       "797   MSOAC/9995   142.0       2\n",
       "996   MSOAC/9995   555.0       2\n",
       "1039  MSOAC/9998    79.0       1\n",
       "272   MSOAC/9999    69.0       2\n",
       "494   MSOAC/9999   359.0       2\n",
       "\n",
       "[1508 rows x 3 columns]"
      ]
     },
     "execution_count": 16,
     "metadata": {},
     "output_type": "execute_result"
    }
   ],
   "source": [
    "milestones['Number'] = milestones['MIDS'].str.extract(r'(\\d+)').astype(int)\n",
    "milestones['NRELAP'] = milestones.groupby('USUBJID')['Number'].transform('max')\n",
    "milestones = milestones.drop(['MIDS', 'Number', 'SMENDY'], axis=1)\n",
    "\n",
    "milestones"
   ]
  },
  {
   "cell_type": "markdown",
   "metadata": {},
   "source": [
    "Final Dataset"
   ]
  },
  {
   "cell_type": "code",
   "execution_count": 17,
   "metadata": {},
   "outputs": [
    {
     "data": {
      "text/html": [
       "<div>\n",
       "<style scoped>\n",
       "    .dataframe tbody tr th:only-of-type {\n",
       "        vertical-align: middle;\n",
       "    }\n",
       "\n",
       "    .dataframe tbody tr th {\n",
       "        vertical-align: top;\n",
       "    }\n",
       "\n",
       "    .dataframe thead th {\n",
       "        text-align: right;\n",
       "    }\n",
       "</style>\n",
       "<table border=\"1\" class=\"dataframe\">\n",
       "  <thead>\n",
       "    <tr style=\"text-align: right;\">\n",
       "      <th></th>\n",
       "      <th>USUBJID</th>\n",
       "      <th>SMSTDY</th>\n",
       "      <th>NRELAP</th>\n",
       "    </tr>\n",
       "  </thead>\n",
       "  <tbody>\n",
       "    <tr>\n",
       "      <th>0</th>\n",
       "      <td>MSOAC/0031</td>\n",
       "      <td>268.0</td>\n",
       "      <td>2</td>\n",
       "    </tr>\n",
       "    <tr>\n",
       "      <th>1</th>\n",
       "      <td>MSOAC/0035</td>\n",
       "      <td>144.0</td>\n",
       "      <td>2</td>\n",
       "    </tr>\n",
       "    <tr>\n",
       "      <th>2</th>\n",
       "      <td>MSOAC/0044</td>\n",
       "      <td>414.0</td>\n",
       "      <td>1</td>\n",
       "    </tr>\n",
       "    <tr>\n",
       "      <th>3</th>\n",
       "      <td>MSOAC/0046</td>\n",
       "      <td>275.0</td>\n",
       "      <td>1</td>\n",
       "    </tr>\n",
       "    <tr>\n",
       "      <th>4</th>\n",
       "      <td>MSOAC/0050</td>\n",
       "      <td>217.0</td>\n",
       "      <td>1</td>\n",
       "    </tr>\n",
       "    <tr>\n",
       "      <th>...</th>\n",
       "      <td>...</td>\n",
       "      <td>...</td>\n",
       "      <td>...</td>\n",
       "    </tr>\n",
       "    <tr>\n",
       "      <th>848</th>\n",
       "      <td>MSOAC/9951</td>\n",
       "      <td>90.0</td>\n",
       "      <td>2</td>\n",
       "    </tr>\n",
       "    <tr>\n",
       "      <th>849</th>\n",
       "      <td>MSOAC/9962</td>\n",
       "      <td>394.0</td>\n",
       "      <td>1</td>\n",
       "    </tr>\n",
       "    <tr>\n",
       "      <th>850</th>\n",
       "      <td>MSOAC/9995</td>\n",
       "      <td>142.0</td>\n",
       "      <td>2</td>\n",
       "    </tr>\n",
       "    <tr>\n",
       "      <th>851</th>\n",
       "      <td>MSOAC/9998</td>\n",
       "      <td>79.0</td>\n",
       "      <td>1</td>\n",
       "    </tr>\n",
       "    <tr>\n",
       "      <th>852</th>\n",
       "      <td>MSOAC/9999</td>\n",
       "      <td>69.0</td>\n",
       "      <td>2</td>\n",
       "    </tr>\n",
       "  </tbody>\n",
       "</table>\n",
       "<p>853 rows × 3 columns</p>\n",
       "</div>"
      ],
      "text/plain": [
       "        USUBJID  SMSTDY  NRELAP\n",
       "0    MSOAC/0031   268.0       2\n",
       "1    MSOAC/0035   144.0       2\n",
       "2    MSOAC/0044   414.0       1\n",
       "3    MSOAC/0046   275.0       1\n",
       "4    MSOAC/0050   217.0       1\n",
       "..          ...     ...     ...\n",
       "848  MSOAC/9951    90.0       2\n",
       "849  MSOAC/9962   394.0       1\n",
       "850  MSOAC/9995   142.0       2\n",
       "851  MSOAC/9998    79.0       1\n",
       "852  MSOAC/9999    69.0       2\n",
       "\n",
       "[853 rows x 3 columns]"
      ]
     },
     "execution_count": 17,
     "metadata": {},
     "output_type": "execute_result"
    }
   ],
   "source": [
    "milestones_final = milestones.groupby('USUBJID').first().reset_index() # we keep the first row for each patient, which shows the starting day of the first relapse\n",
    "milestones_final"
   ]
  },
  {
   "cell_type": "code",
   "execution_count": 18,
   "metadata": {},
   "outputs": [
    {
     "name": "stdout",
     "output_type": "stream",
     "text": [
      "  Column Name  Missing Percentage\n",
      "1      SMSTDY            1.992966\n",
      "0     USUBJID            0.000000\n",
      "2      NRELAP            0.000000\n"
     ]
    }
   ],
   "source": [
    "missing_percentage_sm = (milestones_final.isnull().sum() / len(milestones_final)) * 100\n",
    "missing_milestones = pd.DataFrame({'Column Name': missing_percentage_sm.index, 'Missing Percentage': missing_percentage_sm.values})\n",
    "missing_milestones = missing_milestones.sort_values(by='Missing Percentage', ascending=False)\n",
    "print(missing_milestones)"
   ]
  },
  {
   "cell_type": "code",
   "execution_count": 19,
   "metadata": {},
   "outputs": [],
   "source": [
    "folder_name = 'new_data'\n",
    "\n",
    "possible_paths = [\n",
    "    'C:/Users/lenne/OneDrive/Documenten/Master of Statistics and Data Science/2023-2024/Master thesis/Thesis_Sofia_Lennert',\n",
    "    'C:/Users/anaso/Desktop/SOFIA MENDES/KU Leuven/Master Thesis/Thesis_Sofia_Lennert'\n",
    "]\n",
    "\n",
    "for path in possible_paths:\n",
    "    if os.path.exists(path):\n",
    "        folder_path = os.path.join(path, folder_name)\n",
    "        if not os.path.exists(folder_path):  # Check if the folder doesn't exist\n",
    "            try:\n",
    "                os.makedirs(folder_path)\n",
    "                break  # Exit the loop if folder creation is successful\n",
    "            except PermissionError:\n",
    "                print(f\"Warning: Unable to create '{folder_name}' folder in {path}.\")\n",
    "        else:\n",
    "            print(f\"Folder '{folder_name}' already exists in {path}.\")\n",
    "else:\n",
    "    print(\"Unable to create the folder in any of the specified paths.\")\n",
    "\n",
    "# Specify the path for the CSV file\n",
    "csv_file_path = os.path.join(folder_path, 'SM_agg.csv')\n",
    "\n",
    "# Save the DataFrame to CSV\n",
    "milestones_final.to_csv(csv_file_path, index=False)"
   ]
  }
 ],
 "metadata": {
  "kernelspec": {
   "display_name": "Python 3",
   "language": "python",
   "name": "python3"
  },
  "language_info": {
   "codemirror_mode": {
    "name": "ipython",
    "version": 3
   },
   "file_extension": ".py",
   "mimetype": "text/x-python",
   "name": "python",
   "nbconvert_exporter": "python",
   "pygments_lexer": "ipython3",
   "version": "3.12.0"
  }
 },
 "nbformat": 4,
 "nbformat_minor": 2
}
