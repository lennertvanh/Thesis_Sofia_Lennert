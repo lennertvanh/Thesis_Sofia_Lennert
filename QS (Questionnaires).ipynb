{
 "cells": [
  {
   "cell_type": "markdown",
   "metadata": {},
   "source": [
    "### Questionnaires (qs.csv) - [One record per questionnaire per question per time point per visit per subject]\n",
    "\n",
    "This dataset contains info on:\n",
    "- **EDSS**\n",
    "- FS scores \n",
    "- RAND-36 \n",
    "- SF-12 \n",
    "- BDI-II"
   ]
  },
  {
   "cell_type": "code",
   "execution_count": 1,
   "metadata": {},
   "outputs": [
    {
     "name": "stderr",
     "output_type": "stream",
     "text": [
      "C:\\Users\\lenne\\AppData\\Local\\Temp\\ipykernel_3704\\2053704189.py:17: DtypeWarning: Columns (4,9,16,17) have mixed types. Specify dtype option on import or set low_memory=False.\n",
      "  qs = pd.read_csv(file_path)\n"
     ]
    }
   ],
   "source": [
    "# Imports\n",
    "import pandas as pd\n",
    "import matplotlib.pyplot as plt\n",
    "import seaborn as sns\n",
    "import numpy as np\n",
    "import os\n",
    "\n",
    "possible_paths = [\n",
    "    'C:/Users/lenne/OneDrive/Documenten/Master of Statistics and Data Science/2023-2024/Master thesis/MSOAC Placebo Data',\n",
    "    'C:/Users/anaso/Desktop/SOFIA MENDES/KU Leuven/Master Thesis/MSOAC Placebo dataset/csv files'\n",
    "]\n",
    "\n",
    "file_name = 'qs.csv'\n",
    "file_path = next(f'{path}/{file_name}' for path in possible_paths if os.path.exists(f'{path}/{file_name}'))\n",
    "\n",
    "# Read the CSV file into a DataFrame\n",
    "qs = pd.read_csv(file_path)"
   ]
  },
  {
   "cell_type": "markdown",
   "metadata": {},
   "source": [
    "Check how many missing values we have per column. "
   ]
  },
  {
   "cell_type": "code",
   "execution_count": 2,
   "metadata": {},
   "outputs": [
    {
     "name": "stdout",
     "output_type": "stream",
     "text": [
      "   Column Name  Missing Percentage\n",
      "29    QSRFTDTC          100.000000\n",
      "28    QSTPTREF          100.000000\n",
      "5       QSSPID          100.000000\n",
      "27      QSELTM          100.000000\n",
      "26    QSTPTNUM          100.000000\n",
      "25       QSTPT          100.000000\n",
      "23       QSDTC          100.000000\n",
      "11    QSORRESU          100.000000\n",
      "19      QSEVAL          100.000000\n",
      "18     QSDRVFL          100.000000\n",
      "14    QSSTRESU          100.000000\n",
      "16    QSREASND           99.997550\n",
      "15      QSSTAT           99.643583\n",
      "17      QSBLFL           89.925420\n",
      "22     VISITDY           82.796628\n",
      "4      QSGRPID           80.735645\n",
      "30    QSEVLINT           65.621993\n",
      "9       QSSCAT           59.320312\n",
      "24        QSDY           24.402110\n",
      "13    QSSTRESN            0.578733\n",
      "10     QSORRES            0.476263\n",
      "12    QSSTRESC            0.356417\n",
      "1       DOMAIN            0.000000\n",
      "20    VISITNUM            0.000000\n",
      "21       VISIT            0.000000\n",
      "8        QSCAT            0.000000\n",
      "7       QSTEST            0.000000\n",
      "6     QSTESTCD            0.000000\n",
      "3        QSSEQ            0.000000\n",
      "2      USUBJID            0.000000\n",
      "0      STUDYID            0.000000\n"
     ]
    }
   ],
   "source": [
    "missing_percentage_qs = (qs.isnull().sum() / len(qs)) * 100\n",
    "missing_qs = pd.DataFrame({'Column Name': missing_percentage_qs.index, 'Missing Percentage': missing_percentage_qs.values})\n",
    "missing_qs = missing_qs.sort_values(by='Missing Percentage', ascending=False)\n",
    "print(missing_qs)"
   ]
  },
  {
   "cell_type": "markdown",
   "metadata": {},
   "source": [
    "Remove columns with more than 80% missingness as well as redundant columns."
   ]
  },
  {
   "cell_type": "code",
   "execution_count": 3,
   "metadata": {},
   "outputs": [],
   "source": [
    "# Set the threshold for missing percentage\n",
    "threshold = 80\n",
    "\n",
    "# Filter columns based on missing percentage\n",
    "columns_to_drop = missing_qs[missing_qs['Missing Percentage'] >= threshold]['Column Name']\n",
    "\n",
    "# Drop columns from the DataFrame\n",
    "qs = qs.drop(columns=columns_to_drop)\n",
    "\n",
    "# Remove redundant columns\n",
    "qs = qs.drop(columns=['STUDYID', 'DOMAIN', 'QSTESTCD']) #, 'QSORRES'"
   ]
  },
  {
   "cell_type": "code",
   "execution_count": 4,
   "metadata": {},
   "outputs": [
    {
     "data": {
      "text/html": [
       "<div>\n",
       "<style scoped>\n",
       "    .dataframe tbody tr th:only-of-type {\n",
       "        vertical-align: middle;\n",
       "    }\n",
       "\n",
       "    .dataframe tbody tr th {\n",
       "        vertical-align: top;\n",
       "    }\n",
       "\n",
       "    .dataframe thead th {\n",
       "        text-align: right;\n",
       "    }\n",
       "</style>\n",
       "<table border=\"1\" class=\"dataframe\">\n",
       "  <thead>\n",
       "    <tr style=\"text-align: right;\">\n",
       "      <th></th>\n",
       "      <th>USUBJID</th>\n",
       "      <th>QSSEQ</th>\n",
       "      <th>QSTEST</th>\n",
       "      <th>QSCAT</th>\n",
       "      <th>QSSCAT</th>\n",
       "      <th>QSORRES</th>\n",
       "      <th>QSSTRESC</th>\n",
       "      <th>QSSTRESN</th>\n",
       "      <th>VISITNUM</th>\n",
       "      <th>VISIT</th>\n",
       "      <th>QSDY</th>\n",
       "      <th>QSEVLINT</th>\n",
       "    </tr>\n",
       "  </thead>\n",
       "  <tbody>\n",
       "    <tr>\n",
       "      <th>216853</th>\n",
       "      <td>MSOAC/0014</td>\n",
       "      <td>1</td>\n",
       "      <td>EDSS01-Expanded Disability Score</td>\n",
       "      <td>EDSS</td>\n",
       "      <td>NaN</td>\n",
       "      <td>1</td>\n",
       "      <td>1</td>\n",
       "      <td>1.0</td>\n",
       "      <td>1.0</td>\n",
       "      <td>SCREENING D-28 TO -2</td>\n",
       "      <td>NaN</td>\n",
       "      <td>NaN</td>\n",
       "    </tr>\n",
       "    <tr>\n",
       "      <th>216854</th>\n",
       "      <td>MSOAC/0014</td>\n",
       "      <td>2</td>\n",
       "      <td>KFSS1-Pyramidal Functions</td>\n",
       "      <td>KFSS</td>\n",
       "      <td>NaN</td>\n",
       "      <td>1</td>\n",
       "      <td>1</td>\n",
       "      <td>1.0</td>\n",
       "      <td>1.0</td>\n",
       "      <td>SCREENING D-28 TO -2</td>\n",
       "      <td>NaN</td>\n",
       "      <td>NaN</td>\n",
       "    </tr>\n",
       "    <tr>\n",
       "      <th>216855</th>\n",
       "      <td>MSOAC/0014</td>\n",
       "      <td>3</td>\n",
       "      <td>KFSS1-Cerebellar Functions</td>\n",
       "      <td>KFSS</td>\n",
       "      <td>NaN</td>\n",
       "      <td>0</td>\n",
       "      <td>0</td>\n",
       "      <td>0.0</td>\n",
       "      <td>1.0</td>\n",
       "      <td>SCREENING D-28 TO -2</td>\n",
       "      <td>NaN</td>\n",
       "      <td>NaN</td>\n",
       "    </tr>\n",
       "    <tr>\n",
       "      <th>216856</th>\n",
       "      <td>MSOAC/0014</td>\n",
       "      <td>4</td>\n",
       "      <td>KFSS1-Brain Stem Functions</td>\n",
       "      <td>KFSS</td>\n",
       "      <td>NaN</td>\n",
       "      <td>0</td>\n",
       "      <td>0</td>\n",
       "      <td>0.0</td>\n",
       "      <td>1.0</td>\n",
       "      <td>SCREENING D-28 TO -2</td>\n",
       "      <td>NaN</td>\n",
       "      <td>NaN</td>\n",
       "    </tr>\n",
       "    <tr>\n",
       "      <th>216857</th>\n",
       "      <td>MSOAC/0014</td>\n",
       "      <td>5</td>\n",
       "      <td>KFSS1-Sensory Functions</td>\n",
       "      <td>KFSS</td>\n",
       "      <td>NaN</td>\n",
       "      <td>0</td>\n",
       "      <td>0</td>\n",
       "      <td>0.0</td>\n",
       "      <td>1.0</td>\n",
       "      <td>SCREENING D-28 TO -2</td>\n",
       "      <td>NaN</td>\n",
       "      <td>NaN</td>\n",
       "    </tr>\n",
       "  </tbody>\n",
       "</table>\n",
       "</div>"
      ],
      "text/plain": [
       "           USUBJID  QSSEQ                            QSTEST QSCAT QSSCAT  \\\n",
       "216853  MSOAC/0014      1  EDSS01-Expanded Disability Score  EDSS    NaN   \n",
       "216854  MSOAC/0014      2         KFSS1-Pyramidal Functions  KFSS    NaN   \n",
       "216855  MSOAC/0014      3        KFSS1-Cerebellar Functions  KFSS    NaN   \n",
       "216856  MSOAC/0014      4        KFSS1-Brain Stem Functions  KFSS    NaN   \n",
       "216857  MSOAC/0014      5           KFSS1-Sensory Functions  KFSS    NaN   \n",
       "\n",
       "       QSORRES QSSTRESC  QSSTRESN  VISITNUM                 VISIT  QSDY  \\\n",
       "216853       1        1       1.0       1.0  SCREENING D-28 TO -2   NaN   \n",
       "216854       1        1       1.0       1.0  SCREENING D-28 TO -2   NaN   \n",
       "216855       0        0       0.0       1.0  SCREENING D-28 TO -2   NaN   \n",
       "216856       0        0       0.0       1.0  SCREENING D-28 TO -2   NaN   \n",
       "216857       0        0       0.0       1.0  SCREENING D-28 TO -2   NaN   \n",
       "\n",
       "       QSEVLINT  \n",
       "216853      NaN  \n",
       "216854      NaN  \n",
       "216855      NaN  \n",
       "216856      NaN  \n",
       "216857      NaN  "
      ]
     },
     "execution_count": 4,
     "metadata": {},
     "output_type": "execute_result"
    }
   ],
   "source": [
    "qs.sort_values(by=['USUBJID', 'QSSEQ'], inplace=True)\n",
    "qs.head()"
   ]
  },
  {
   "cell_type": "markdown",
   "metadata": {},
   "source": [
    "Overview of all dropped columns:\n",
    "\n",
    "- **STUDYID**: Study Identifier (irrelevant - always the same value)\n",
    "- **DOMAIN**: Domain Abbreviation (irrelevant - always the same value)\n",
    "- **QSTESTCD**: Question Short Name (contains the same info as QSTEST = Question Name)\n",
    "- **QSORRES**: Finding in Original Units (contains the same info as \"QSSTRESC\" = Character Result/Finding in Std Format, except that there can be incosistencies in the values of QSORRES)\n",
    "- **QSRFTDTC, QSTPTREF, QSSPID, QSELTM, QSTPTNUM, QSTPT, QSDTC, QSORRESU, QSEVAL, QSDRVFL, QSSTRESU**: all values missing and not even mentioned in the data dictionary \n",
    "- **QSREASND**: Reason Not Performed (missing for 99.998% of observations)\n",
    "- **QSSTAT**: Completion Status (missing for 99.6% of observations)\n",
    "- **QSBLFL**: Baseline Flag (missing for 89.9% of observations)\n",
    "- **VISITDY**: Visit Day (missing for 82.8% of observations) -- **maybe keep this one since we also keep it for some other datasets**\n",
    "- **QSGRPID**: Group ID (missing for 80.7% of observations)"
   ]
  },
  {
   "cell_type": "code",
   "execution_count": 5,
   "metadata": {},
   "outputs": [
    {
     "name": "stdout",
     "output_type": "stream",
     "text": [
      "Number of unique values in USUBJID: 2465\n"
     ]
    }
   ],
   "source": [
    "unique_usubjid_count = qs['USUBJID'].nunique()\n",
    "print(\"Number of unique values in USUBJID:\", unique_usubjid_count)"
   ]
  },
  {
   "cell_type": "markdown",
   "metadata": {},
   "source": [
    "**We have data on all patients in the dataset for the questionnaires**"
   ]
  },
  {
   "cell_type": "markdown",
   "metadata": {},
   "source": [
    "Which columns are numeric and categorical? (see also SDTM fields in Data Dictionary)"
   ]
  },
  {
   "cell_type": "code",
   "execution_count": 6,
   "metadata": {},
   "outputs": [
    {
     "data": {
      "text/html": [
       "<div>\n",
       "<style scoped>\n",
       "    .dataframe tbody tr th:only-of-type {\n",
       "        vertical-align: middle;\n",
       "    }\n",
       "\n",
       "    .dataframe tbody tr th {\n",
       "        vertical-align: top;\n",
       "    }\n",
       "\n",
       "    .dataframe thead th {\n",
       "        text-align: right;\n",
       "    }\n",
       "</style>\n",
       "<table border=\"1\" class=\"dataframe\">\n",
       "  <thead>\n",
       "    <tr style=\"text-align: right;\">\n",
       "      <th></th>\n",
       "      <th>Column</th>\n",
       "      <th>Type</th>\n",
       "    </tr>\n",
       "  </thead>\n",
       "  <tbody>\n",
       "    <tr>\n",
       "      <th>0</th>\n",
       "      <td>USUBJID</td>\n",
       "      <td>categorical</td>\n",
       "    </tr>\n",
       "    <tr>\n",
       "      <th>1</th>\n",
       "      <td>QSSEQ</td>\n",
       "      <td>numeric</td>\n",
       "    </tr>\n",
       "    <tr>\n",
       "      <th>2</th>\n",
       "      <td>QSTEST</td>\n",
       "      <td>categorical</td>\n",
       "    </tr>\n",
       "    <tr>\n",
       "      <th>3</th>\n",
       "      <td>QSCAT</td>\n",
       "      <td>categorical</td>\n",
       "    </tr>\n",
       "    <tr>\n",
       "      <th>4</th>\n",
       "      <td>QSSCAT</td>\n",
       "      <td>categorical</td>\n",
       "    </tr>\n",
       "    <tr>\n",
       "      <th>5</th>\n",
       "      <td>QSORRES</td>\n",
       "      <td>categorical</td>\n",
       "    </tr>\n",
       "    <tr>\n",
       "      <th>6</th>\n",
       "      <td>QSSTRESC</td>\n",
       "      <td>categorical</td>\n",
       "    </tr>\n",
       "    <tr>\n",
       "      <th>7</th>\n",
       "      <td>QSSTRESN</td>\n",
       "      <td>numeric</td>\n",
       "    </tr>\n",
       "    <tr>\n",
       "      <th>8</th>\n",
       "      <td>VISITNUM</td>\n",
       "      <td>numeric</td>\n",
       "    </tr>\n",
       "    <tr>\n",
       "      <th>9</th>\n",
       "      <td>VISIT</td>\n",
       "      <td>categorical</td>\n",
       "    </tr>\n",
       "    <tr>\n",
       "      <th>10</th>\n",
       "      <td>QSDY</td>\n",
       "      <td>numeric</td>\n",
       "    </tr>\n",
       "    <tr>\n",
       "      <th>11</th>\n",
       "      <td>QSEVLINT</td>\n",
       "      <td>categorical</td>\n",
       "    </tr>\n",
       "  </tbody>\n",
       "</table>\n",
       "</div>"
      ],
      "text/plain": [
       "      Column         Type\n",
       "0    USUBJID  categorical\n",
       "1      QSSEQ      numeric\n",
       "2     QSTEST  categorical\n",
       "3      QSCAT  categorical\n",
       "4     QSSCAT  categorical\n",
       "5    QSORRES  categorical\n",
       "6   QSSTRESC  categorical\n",
       "7   QSSTRESN      numeric\n",
       "8   VISITNUM      numeric\n",
       "9      VISIT  categorical\n",
       "10      QSDY      numeric\n",
       "11  QSEVLINT  categorical"
      ]
     },
     "execution_count": 6,
     "metadata": {},
     "output_type": "execute_result"
    }
   ],
   "source": [
    "# Create an empty list to store column types\n",
    "column_types = []\n",
    "\n",
    "# Iterate through each column\n",
    "for column, dtype in qs.dtypes.items():\n",
    "    # Categorize columns\n",
    "    if dtype == 'object':\n",
    "        column_type = 'categorical'\n",
    "    elif dtype in ['int64', 'float64']:\n",
    "        column_type = 'numeric'\n",
    "    else:\n",
    "        column_type = 'other'\n",
    "\n",
    "    # Append to the list\n",
    "    column_types.append({'Column': column, 'Type': column_type})\n",
    "\n",
    "# Create a DataFrame from the list\n",
    "column_types_df = pd.DataFrame(column_types)\n",
    "\n",
    "# Display the resulting DataFrame\n",
    "column_types_df"
   ]
  },
  {
   "cell_type": "markdown",
   "metadata": {},
   "source": [
    "- Descriptive statistics for numeric variables"
   ]
  },
  {
   "cell_type": "code",
   "execution_count": 7,
   "metadata": {},
   "outputs": [
    {
     "data": {
      "text/html": [
       "<div>\n",
       "<style scoped>\n",
       "    .dataframe tbody tr th:only-of-type {\n",
       "        vertical-align: middle;\n",
       "    }\n",
       "\n",
       "    .dataframe tbody tr th {\n",
       "        vertical-align: top;\n",
       "    }\n",
       "\n",
       "    .dataframe thead th {\n",
       "        text-align: right;\n",
       "    }\n",
       "</style>\n",
       "<table border=\"1\" class=\"dataframe\">\n",
       "  <thead>\n",
       "    <tr style=\"text-align: right;\">\n",
       "      <th></th>\n",
       "      <th>Count</th>\n",
       "      <th>Missing Cases</th>\n",
       "      <th>Missing %</th>\n",
       "      <th>Median</th>\n",
       "      <th>Standard Deviation</th>\n",
       "    </tr>\n",
       "  </thead>\n",
       "  <tbody>\n",
       "    <tr>\n",
       "      <th>QSSEQ</th>\n",
       "      <td>448912</td>\n",
       "      <td>0</td>\n",
       "      <td>0.00</td>\n",
       "      <td>99.0</td>\n",
       "      <td>79.650454</td>\n",
       "    </tr>\n",
       "    <tr>\n",
       "      <th>QSSTRESN</th>\n",
       "      <td>446314</td>\n",
       "      <td>2598</td>\n",
       "      <td>0.58</td>\n",
       "      <td>2.0</td>\n",
       "      <td>1.861824</td>\n",
       "    </tr>\n",
       "    <tr>\n",
       "      <th>VISITNUM</th>\n",
       "      <td>448912</td>\n",
       "      <td>0</td>\n",
       "      <td>0.00</td>\n",
       "      <td>20.0</td>\n",
       "      <td>229.172925</td>\n",
       "    </tr>\n",
       "    <tr>\n",
       "      <th>QSDY</th>\n",
       "      <td>339368</td>\n",
       "      <td>109544</td>\n",
       "      <td>24.40</td>\n",
       "      <td>253.0</td>\n",
       "      <td>315.596324</td>\n",
       "    </tr>\n",
       "  </tbody>\n",
       "</table>\n",
       "</div>"
      ],
      "text/plain": [
       "           Count  Missing Cases  Missing %  Median  Standard Deviation\n",
       "QSSEQ     448912              0       0.00    99.0           79.650454\n",
       "QSSTRESN  446314           2598       0.58     2.0            1.861824\n",
       "VISITNUM  448912              0       0.00    20.0          229.172925\n",
       "QSDY      339368         109544      24.40   253.0          315.596324"
      ]
     },
     "execution_count": 7,
     "metadata": {},
     "output_type": "execute_result"
    }
   ],
   "source": [
    "numeric_columns = ['QSSEQ', 'QSSTRESN', 'VISITNUM', 'QSDY']\n",
    "\n",
    "descriptive_numeric = {\n",
    "    'Count': qs[numeric_columns].count(),\n",
    "    'Missing Cases': qs[numeric_columns].isna().sum(),\n",
    "    'Missing %': round((qs[numeric_columns].isna().sum() / len(qs)) * 100, 2),  \n",
    "    'Median': qs[numeric_columns].median(),\n",
    "    'Standard Deviation': qs[numeric_columns].std()\n",
    "}\n",
    "\n",
    "num_qs = pd.DataFrame(descriptive_numeric)\n",
    "num_qs"
   ]
  },
  {
   "cell_type": "markdown",
   "metadata": {},
   "source": [
    "- QSSEQ (Sequence number)"
   ]
  },
  {
   "cell_type": "code",
   "execution_count": 8,
   "metadata": {},
   "outputs": [
    {
     "data": {
      "image/png": "[encoded data removed]",
      "text/plain": [
       "<Figure size 800x600 with 1 Axes>"
      ]
     },
     "metadata": {},
     "output_type": "display_data"
    }
   ],
   "source": [
    "QSSEQ = qs['QSSEQ'].dropna()\n",
    "\n",
    "plt.figure(figsize=(8, 6))\n",
    "sns.histplot(QSSEQ, kde=False, color='steelblue', bins=30)\n",
    "plt.xlabel('Sequence Number')\n",
    "plt.ylabel('Count')\n",
    "plt.title('Histogram for Sequence Number')\n",
    "plt.show()"
   ]
  },
  {
   "cell_type": "markdown",
   "metadata": {},
   "source": [
    "- QSSTRESN (Numeric Finding in Standard Units)"
   ]
  },
  {
   "cell_type": "code",
   "execution_count": null,
   "metadata": {},
   "outputs": [],
   "source": []
  },
  {
   "cell_type": "code",
   "execution_count": 9,
   "metadata": {},
   "outputs": [
    {
     "data": {
      "text/html": [
       "<div>\n",
       "<style scoped>\n",
       "    .dataframe tbody tr th:only-of-type {\n",
       "        vertical-align: middle;\n",
       "    }\n",
       "\n",
       "    .dataframe tbody tr th {\n",
       "        vertical-align: top;\n",
       "    }\n",
       "\n",
       "    .dataframe thead th {\n",
       "        text-align: right;\n",
       "    }\n",
       "</style>\n",
       "<table border=\"1\" class=\"dataframe\">\n",
       "  <thead>\n",
       "    <tr style=\"text-align: right;\">\n",
       "      <th></th>\n",
       "      <th>QSTEST</th>\n",
       "      <th>USUBJID</th>\n",
       "      <th>Observation_Count</th>\n",
       "    </tr>\n",
       "  </thead>\n",
       "  <tbody>\n",
       "    <tr>\n",
       "      <th>0</th>\n",
       "      <td>EDSS01-Expanded Disability Score</td>\n",
       "      <td>MSOAC/0014</td>\n",
       "      <td>4</td>\n",
       "    </tr>\n",
       "    <tr>\n",
       "      <th>1</th>\n",
       "      <td>EDSS01-Expanded Disability Score</td>\n",
       "      <td>MSOAC/0016</td>\n",
       "      <td>1</td>\n",
       "    </tr>\n",
       "    <tr>\n",
       "      <th>2</th>\n",
       "      <td>EDSS01-Expanded Disability Score</td>\n",
       "      <td>MSOAC/0019</td>\n",
       "      <td>14</td>\n",
       "    </tr>\n",
       "    <tr>\n",
       "      <th>3</th>\n",
       "      <td>EDSS01-Expanded Disability Score</td>\n",
       "      <td>MSOAC/0024</td>\n",
       "      <td>10</td>\n",
       "    </tr>\n",
       "    <tr>\n",
       "      <th>4</th>\n",
       "      <td>EDSS01-Expanded Disability Score</td>\n",
       "      <td>MSOAC/0030</td>\n",
       "      <td>5</td>\n",
       "    </tr>\n",
       "    <tr>\n",
       "      <th>...</th>\n",
       "      <td>...</td>\n",
       "      <td>...</td>\n",
       "      <td>...</td>\n",
       "    </tr>\n",
       "    <tr>\n",
       "      <th>2460</th>\n",
       "      <td>EDSS01-Expanded Disability Score</td>\n",
       "      <td>MSOAC/9986</td>\n",
       "      <td>5</td>\n",
       "    </tr>\n",
       "    <tr>\n",
       "      <th>2461</th>\n",
       "      <td>EDSS01-Expanded Disability Score</td>\n",
       "      <td>MSOAC/9987</td>\n",
       "      <td>16</td>\n",
       "    </tr>\n",
       "    <tr>\n",
       "      <th>2462</th>\n",
       "      <td>EDSS01-Expanded Disability Score</td>\n",
       "      <td>MSOAC/9995</td>\n",
       "      <td>20</td>\n",
       "    </tr>\n",
       "    <tr>\n",
       "      <th>2463</th>\n",
       "      <td>EDSS01-Expanded Disability Score</td>\n",
       "      <td>MSOAC/9998</td>\n",
       "      <td>14</td>\n",
       "    </tr>\n",
       "    <tr>\n",
       "      <th>2464</th>\n",
       "      <td>EDSS01-Expanded Disability Score</td>\n",
       "      <td>MSOAC/9999</td>\n",
       "      <td>13</td>\n",
       "    </tr>\n",
       "  </tbody>\n",
       "</table>\n",
       "<p>2465 rows × 3 columns</p>\n",
       "</div>"
      ],
      "text/plain": [
       "                                QSTEST     USUBJID  Observation_Count\n",
       "0     EDSS01-Expanded Disability Score  MSOAC/0014                  4\n",
       "1     EDSS01-Expanded Disability Score  MSOAC/0016                  1\n",
       "2     EDSS01-Expanded Disability Score  MSOAC/0019                 14\n",
       "3     EDSS01-Expanded Disability Score  MSOAC/0024                 10\n",
       "4     EDSS01-Expanded Disability Score  MSOAC/0030                  5\n",
       "...                                ...         ...                ...\n",
       "2460  EDSS01-Expanded Disability Score  MSOAC/9986                  5\n",
       "2461  EDSS01-Expanded Disability Score  MSOAC/9987                 16\n",
       "2462  EDSS01-Expanded Disability Score  MSOAC/9995                 20\n",
       "2463  EDSS01-Expanded Disability Score  MSOAC/9998                 14\n",
       "2464  EDSS01-Expanded Disability Score  MSOAC/9999                 13\n",
       "\n",
       "[2465 rows x 3 columns]"
      ]
     },
     "execution_count": 9,
     "metadata": {},
     "output_type": "execute_result"
    }
   ],
   "source": [
    "# Filter rows for EDSS\n",
    "filtered_rows = qs[qs['QSTEST']=='EDSS01-Expanded Disability Score']\n",
    "\n",
    "# Group by EDSS and USUBJID, then count the number of rows for each group\n",
    "outcome_measure_counts = filtered_rows.groupby(['QSTEST', 'USUBJID']).size().reset_index(name='Observation_Count')\n",
    "outcome_measure_counts"
   ]
  },
  {
   "cell_type": "code",
   "execution_count": 10,
   "metadata": {},
   "outputs": [
    {
     "data": {
      "text/html": [
       "<div>\n",
       "<style scoped>\n",
       "    .dataframe tbody tr th:only-of-type {\n",
       "        vertical-align: middle;\n",
       "    }\n",
       "\n",
       "    .dataframe tbody tr th {\n",
       "        vertical-align: top;\n",
       "    }\n",
       "\n",
       "    .dataframe thead th {\n",
       "        text-align: right;\n",
       "    }\n",
       "</style>\n",
       "<table border=\"1\" class=\"dataframe\">\n",
       "  <thead>\n",
       "    <tr style=\"text-align: right;\">\n",
       "      <th></th>\n",
       "      <th>count</th>\n",
       "      <th>mean</th>\n",
       "      <th>std</th>\n",
       "      <th>min</th>\n",
       "      <th>25%</th>\n",
       "      <th>50%</th>\n",
       "      <th>75%</th>\n",
       "      <th>max</th>\n",
       "    </tr>\n",
       "    <tr>\n",
       "      <th>QSTEST</th>\n",
       "      <th></th>\n",
       "      <th></th>\n",
       "      <th></th>\n",
       "      <th></th>\n",
       "      <th></th>\n",
       "      <th></th>\n",
       "      <th></th>\n",
       "      <th></th>\n",
       "    </tr>\n",
       "  </thead>\n",
       "  <tbody>\n",
       "    <tr>\n",
       "      <th>EDSS01-Expanded Disability Score</th>\n",
       "      <td>2465.0</td>\n",
       "      <td>10.663286</td>\n",
       "      <td>5.024798</td>\n",
       "      <td>1.0</td>\n",
       "      <td>6.0</td>\n",
       "      <td>11.0</td>\n",
       "      <td>14.0</td>\n",
       "      <td>35.0</td>\n",
       "    </tr>\n",
       "  </tbody>\n",
       "</table>\n",
       "</div>"
      ],
      "text/plain": [
       "                                   count       mean       std  min  25%   50%  \\\n",
       "QSTEST                                                                          \n",
       "EDSS01-Expanded Disability Score  2465.0  10.663286  5.024798  1.0  6.0  11.0   \n",
       "\n",
       "                                   75%   max  \n",
       "QSTEST                                        \n",
       "EDSS01-Expanded Disability Score  14.0  35.0  "
      ]
     },
     "execution_count": 10,
     "metadata": {},
     "output_type": "execute_result"
    }
   ],
   "source": [
    "outcome_measure_counts.groupby('QSTEST')['Observation_Count'].describe()"
   ]
  },
  {
   "cell_type": "code",
   "execution_count": 11,
   "metadata": {},
   "outputs": [
    {
     "data": {
      "image/png": "[encoded data removed]",
      "text/plain": [
       "<Figure size 1000x600 with 1 Axes>"
      ]
     },
     "metadata": {},
     "output_type": "display_data"
    }
   ],
   "source": [
    "plt.figure(figsize=(10, 6))\n",
    "plt.hist(outcome_measure_counts['Observation_Count'], bins=range(1, max(outcome_measure_counts['Observation_Count']) + 2), edgecolor='black')\n",
    "plt.title(f'Distribution of Observation Counts for EDSS')\n",
    "plt.xlabel('Number of Observations')\n",
    "plt.ylabel('Frequency')\n",
    "plt.show()"
   ]
  },
  {
   "cell_type": "markdown",
   "metadata": {},
   "source": [
    "- VISITNUM (Visit Number)"
   ]
  },
  {
   "cell_type": "code",
   "execution_count": 12,
   "metadata": {},
   "outputs": [
    {
     "data": {
      "image/png": "[encoded data removed]",
      "text/plain": [
       "<Figure size 800x600 with 1 Axes>"
      ]
     },
     "metadata": {},
     "output_type": "display_data"
    }
   ],
   "source": [
    "VISITNUM_qs = qs['VISITNUM'].dropna()\n",
    "\n",
    "plt.figure(figsize=(8, 6))\n",
    "sns.histplot(VISITNUM_qs, kde=False, color='steelblue', bins=30)\n",
    "plt.xlabel('Visit Number')\n",
    "plt.ylabel('Count')\n",
    "plt.title('Histogram for Visit Number')\n",
    "plt.show()"
   ]
  },
  {
   "cell_type": "markdown",
   "metadata": {},
   "source": [
    "- QSDY (Study Day of Collection) "
   ]
  },
  {
   "cell_type": "code",
   "execution_count": 13,
   "metadata": {},
   "outputs": [
    {
     "data": {
      "image/png": "[encoded data removed]",
      "text/plain": [
       "<Figure size 800x600 with 1 Axes>"
      ]
     },
     "metadata": {},
     "output_type": "display_data"
    }
   ],
   "source": [
    "QSDY = qs['QSDY'].dropna()\n",
    "\n",
    "plt.figure(figsize=(8, 6))\n",
    "sns.histplot(QSDY, kde=False, color='steelblue', bins=30)\n",
    "plt.xlabel('QSDY')\n",
    "plt.ylabel('Count')\n",
    "plt.title('Histogram for study day of collection')\n",
    "plt.show()"
   ]
  },
  {
   "cell_type": "code",
   "execution_count": 14,
   "metadata": {},
   "outputs": [
    {
     "data": {
      "text/plain": [
       "count    339368.000000\n",
       "mean        331.487830\n",
       "std         315.596324\n",
       "min       -2220.000000\n",
       "25%          84.000000\n",
       "50%         253.000000\n",
       "75%         563.000000\n",
       "max        1404.000000\n",
       "Name: QSDY, dtype: float64"
      ]
     },
     "execution_count": 14,
     "metadata": {},
     "output_type": "execute_result"
    }
   ],
   "source": [
    "QSDY.describe()"
   ]
  },
  {
   "cell_type": "code",
   "execution_count": 15,
   "metadata": {},
   "outputs": [
    {
     "data": {
      "text/plain": [
       "1091"
      ]
     },
     "execution_count": 15,
     "metadata": {},
     "output_type": "execute_result"
    }
   ],
   "source": [
    "unique_QSDY_values_count = qs['QSDY'].nunique()\n",
    "unique_QSDY_values_count"
   ]
  },
  {
   "cell_type": "markdown",
   "metadata": {},
   "source": [
    "1091 unique values of study day of collection"
   ]
  },
  {
   "cell_type": "code",
   "execution_count": 16,
   "metadata": {},
   "outputs": [
    {
     "data": {
      "image/png": "[encoded data removed]",
      "text/plain": [
       "<Figure size 1000x600 with 1 Axes>"
      ]
     },
     "metadata": {},
     "output_type": "display_data"
    }
   ],
   "source": [
    "subject_days_count = qs.groupby('USUBJID')['QSDY'].nunique()\n",
    "plt.figure(figsize=(10, 6))\n",
    "sns.histplot(subject_days_count, bins=range(1, subject_days_count.max() + 2), kde=False)\n",
    "plt.title('Distribution of Unique Days for Each Subject')\n",
    "plt.xlabel('Number of Unique Days')\n",
    "plt.ylabel('Count')\n",
    "plt.show()"
   ]
  },
  {
   "cell_type": "markdown",
   "metadata": {},
   "source": [
    "Distribution of the length of follow-up"
   ]
  },
  {
   "cell_type": "code",
   "execution_count": 17,
   "metadata": {},
   "outputs": [
    {
     "name": "stdout",
     "output_type": "stream",
     "text": [
      "Number of unique values in the 'Difference' column: 503\n"
     ]
    },
    {
     "data": {
      "image/png": "[encoded data removed]",
      "text/plain": [
       "<Figure size 1000x600 with 1 Axes>"
      ]
     },
     "metadata": {},
     "output_type": "display_data"
    }
   ],
   "source": [
    "# Calculate the maximum and minimum values of QSDY for each unique patient ID\n",
    "qs_max_min = qs.groupby('USUBJID')['QSDY'].agg(['max', 'min']).reset_index()\n",
    "\n",
    "# Calculate the difference between the maximum and minimum values\n",
    "qs_max_min['Difference'] = qs_max_min['max'] - qs_max_min['min']\n",
    "\n",
    "# Display the number of unique values in the \"Difference\" column\n",
    "num_unique_values = qs_max_min['Difference'].nunique()\n",
    "print(f\"Number of unique values in the 'Difference' column: {num_unique_values}\")\n",
    "\n",
    "# Plot the histogram of the distribution of the difference\n",
    "plt.figure(figsize=(10, 6))\n",
    "plt.hist(qs_max_min['Difference'], bins=30, color='skyblue', edgecolor='black')\n",
    "plt.title('Distribution of Length of follow up')\n",
    "plt.xlabel('Difference (QSDY)')\n",
    "plt.ylabel('Frequency')\n",
    "plt.grid(axis='y', alpha=0.75)\n",
    "plt.show()"
   ]
  },
  {
   "cell_type": "markdown",
   "metadata": {},
   "source": [
    "- Descriptive statistics for categorical variables"
   ]
  },
  {
   "cell_type": "code",
   "execution_count": 18,
   "metadata": {},
   "outputs": [
    {
     "data": {
      "text/html": [
       "<div>\n",
       "<style scoped>\n",
       "    .dataframe tbody tr th:only-of-type {\n",
       "        vertical-align: middle;\n",
       "    }\n",
       "\n",
       "    .dataframe tbody tr th {\n",
       "        vertical-align: top;\n",
       "    }\n",
       "\n",
       "    .dataframe thead th {\n",
       "        text-align: right;\n",
       "    }\n",
       "</style>\n",
       "<table border=\"1\" class=\"dataframe\">\n",
       "  <thead>\n",
       "    <tr style=\"text-align: right;\">\n",
       "      <th></th>\n",
       "      <th>Count</th>\n",
       "      <th>Missing Cases</th>\n",
       "      <th>Unique Values</th>\n",
       "      <th>Mode</th>\n",
       "      <th>Mode Frequency</th>\n",
       "    </tr>\n",
       "  </thead>\n",
       "  <tbody>\n",
       "    <tr>\n",
       "      <th>QSTEST</th>\n",
       "      <td>448912</td>\n",
       "      <td>0</td>\n",
       "      <td>82</td>\n",
       "      <td>EDSS01-Expanded Disability Score</td>\n",
       "      <td>26285</td>\n",
       "    </tr>\n",
       "    <tr>\n",
       "      <th>QSCAT</th>\n",
       "      <td>448912</td>\n",
       "      <td>0</td>\n",
       "      <td>5</td>\n",
       "      <td>KFSS</td>\n",
       "      <td>188254</td>\n",
       "    </tr>\n",
       "    <tr>\n",
       "      <th>QSSCAT</th>\n",
       "      <td>182616</td>\n",
       "      <td>266296</td>\n",
       "      <td>14</td>\n",
       "      <td>PHYSICAL FUNCTIONING</td>\n",
       "      <td>48763</td>\n",
       "    </tr>\n",
       "    <tr>\n",
       "      <th>QSSTRESC</th>\n",
       "      <td>447312</td>\n",
       "      <td>1600</td>\n",
       "      <td>166</td>\n",
       "      <td>0</td>\n",
       "      <td>110990</td>\n",
       "    </tr>\n",
       "    <tr>\n",
       "      <th>VISIT</th>\n",
       "      <td>448912</td>\n",
       "      <td>0</td>\n",
       "      <td>110</td>\n",
       "      <td>BASELINE</td>\n",
       "      <td>39162</td>\n",
       "    </tr>\n",
       "    <tr>\n",
       "      <th>QSEVLINT</th>\n",
       "      <td>154327</td>\n",
       "      <td>294585</td>\n",
       "      <td>2</td>\n",
       "      <td>-P4W</td>\n",
       "      <td>104924</td>\n",
       "    </tr>\n",
       "  </tbody>\n",
       "</table>\n",
       "</div>"
      ],
      "text/plain": [
       "           Count Missing Cases Unique Values  \\\n",
       "QSTEST    448912             0            82   \n",
       "QSCAT     448912             0             5   \n",
       "QSSCAT    182616        266296            14   \n",
       "QSSTRESC  447312          1600           166   \n",
       "VISIT     448912             0           110   \n",
       "QSEVLINT  154327        294585             2   \n",
       "\n",
       "                                      Mode Mode Frequency  \n",
       "QSTEST    EDSS01-Expanded Disability Score          26285  \n",
       "QSCAT                                 KFSS         188254  \n",
       "QSSCAT                PHYSICAL FUNCTIONING          48763  \n",
       "QSSTRESC                                 0         110990  \n",
       "VISIT                             BASELINE          39162  \n",
       "QSEVLINT                              -P4W         104924  "
      ]
     },
     "execution_count": 18,
     "metadata": {},
     "output_type": "execute_result"
    }
   ],
   "source": [
    "categorical_columns = ['QSTEST', 'QSCAT', 'QSSCAT', 'QSSTRESC', 'VISIT', 'QSEVLINT']\n",
    "\n",
    "descriptive_categorical = {}\n",
    "for col in categorical_columns:\n",
    "    descriptive_categorical[col] = {\n",
    "        'Count': qs[col].count(),\n",
    "        'Missing Cases': qs[col].isna().sum(),\n",
    "        'Unique Values': qs[col].nunique(),\n",
    "        'Mode': qs[col].mode().values[0],\n",
    "        'Mode Frequency': qs[col].value_counts().max()\n",
    "    }\n",
    "\n",
    "cat_qs = pd.DataFrame(descriptive_categorical).T\n",
    "cat_qs"
   ]
  },
  {
   "cell_type": "markdown",
   "metadata": {},
   "source": [
    "- Number of observations for each QSTEST (Question Name) category"
   ]
  },
  {
   "cell_type": "code",
   "execution_count": 19,
   "metadata": {},
   "outputs": [
    {
     "data": {
      "text/html": [
       "<div>\n",
       "<style scoped>\n",
       "    .dataframe tbody tr th:only-of-type {\n",
       "        vertical-align: middle;\n",
       "    }\n",
       "\n",
       "    .dataframe tbody tr th {\n",
       "        vertical-align: top;\n",
       "    }\n",
       "\n",
       "    .dataframe thead th {\n",
       "        text-align: right;\n",
       "    }\n",
       "</style>\n",
       "<table border=\"1\" class=\"dataframe\">\n",
       "  <thead>\n",
       "    <tr style=\"text-align: right;\">\n",
       "      <th></th>\n",
       "      <th>QSTEST</th>\n",
       "      <th>Count</th>\n",
       "    </tr>\n",
       "  </thead>\n",
       "  <tbody>\n",
       "    <tr>\n",
       "      <th>0</th>\n",
       "      <td>EDSS01-Expanded Disability Score</td>\n",
       "      <td>26285</td>\n",
       "    </tr>\n",
       "    <tr>\n",
       "      <th>1</th>\n",
       "      <td>KFSS1-Sensory Functions</td>\n",
       "      <td>26219</td>\n",
       "    </tr>\n",
       "    <tr>\n",
       "      <th>2</th>\n",
       "      <td>KFSS1-Brain Stem Functions</td>\n",
       "      <td>26218</td>\n",
       "    </tr>\n",
       "    <tr>\n",
       "      <th>3</th>\n",
       "      <td>KFSS1-Bowel and Bladder Functions</td>\n",
       "      <td>26217</td>\n",
       "    </tr>\n",
       "    <tr>\n",
       "      <th>4</th>\n",
       "      <td>KFSS1-Cerebral or Mental Functions</td>\n",
       "      <td>26216</td>\n",
       "    </tr>\n",
       "    <tr>\n",
       "      <th>...</th>\n",
       "      <td>...</td>\n",
       "      <td>...</td>\n",
       "    </tr>\n",
       "    <tr>\n",
       "      <th>77</th>\n",
       "      <td>SF121-Amt Time Interfere Social Activity</td>\n",
       "      <td>1491</td>\n",
       "    </tr>\n",
       "    <tr>\n",
       "      <th>78</th>\n",
       "      <td>SF121-Phys Health: Limit Kind of Work</td>\n",
       "      <td>1490</td>\n",
       "    </tr>\n",
       "    <tr>\n",
       "      <th>79</th>\n",
       "      <td>KFSS1-Other Functions Specify</td>\n",
       "      <td>575</td>\n",
       "    </tr>\n",
       "    <tr>\n",
       "      <th>80</th>\n",
       "      <td>KFSS1-Weakness Interferes With Testing</td>\n",
       "      <td>423</td>\n",
       "    </tr>\n",
       "    <tr>\n",
       "      <th>81</th>\n",
       "      <td>Questionaire</td>\n",
       "      <td>1</td>\n",
       "    </tr>\n",
       "  </tbody>\n",
       "</table>\n",
       "<p>82 rows × 2 columns</p>\n",
       "</div>"
      ],
      "text/plain": [
       "                                      QSTEST  Count\n",
       "0           EDSS01-Expanded Disability Score  26285\n",
       "1                    KFSS1-Sensory Functions  26219\n",
       "2                 KFSS1-Brain Stem Functions  26218\n",
       "3          KFSS1-Bowel and Bladder Functions  26217\n",
       "4         KFSS1-Cerebral or Mental Functions  26216\n",
       "..                                       ...    ...\n",
       "77  SF121-Amt Time Interfere Social Activity   1491\n",
       "78     SF121-Phys Health: Limit Kind of Work   1490\n",
       "79             KFSS1-Other Functions Specify    575\n",
       "80    KFSS1-Weakness Interferes With Testing    423\n",
       "81                              Questionaire      1\n",
       "\n",
       "[82 rows x 2 columns]"
      ]
     },
     "execution_count": 19,
     "metadata": {},
     "output_type": "execute_result"
    }
   ],
   "source": [
    "QSTEST_counts = qs['QSTEST'].value_counts().reset_index()\n",
    "QSTEST_counts.columns = ['QSTEST', 'Count']\n",
    "QSTEST_counts"
   ]
  },
  {
   "cell_type": "markdown",
   "metadata": {},
   "source": [
    "- Number of observations for each QSCAT (Category of Question) category"
   ]
  },
  {
   "cell_type": "code",
   "execution_count": 20,
   "metadata": {},
   "outputs": [
    {
     "data": {
      "text/html": [
       "<div>\n",
       "<style scoped>\n",
       "    .dataframe tbody tr th:only-of-type {\n",
       "        vertical-align: middle;\n",
       "    }\n",
       "\n",
       "    .dataframe tbody tr th {\n",
       "        vertical-align: top;\n",
       "    }\n",
       "\n",
       "    .dataframe thead th {\n",
       "        text-align: right;\n",
       "    }\n",
       "</style>\n",
       "<table border=\"1\" class=\"dataframe\">\n",
       "  <thead>\n",
       "    <tr style=\"text-align: right;\">\n",
       "      <th></th>\n",
       "      <th>QSCAT</th>\n",
       "      <th>Count</th>\n",
       "    </tr>\n",
       "  </thead>\n",
       "  <tbody>\n",
       "    <tr>\n",
       "      <th>0</th>\n",
       "      <td>KFSS</td>\n",
       "      <td>188254</td>\n",
       "    </tr>\n",
       "    <tr>\n",
       "      <th>1</th>\n",
       "      <td>RAND-36 V1.0</td>\n",
       "      <td>164716</td>\n",
       "    </tr>\n",
       "    <tr>\n",
       "      <th>2</th>\n",
       "      <td>BDI-II</td>\n",
       "      <td>51756</td>\n",
       "    </tr>\n",
       "    <tr>\n",
       "      <th>3</th>\n",
       "      <td>EDSS</td>\n",
       "      <td>26285</td>\n",
       "    </tr>\n",
       "    <tr>\n",
       "      <th>4</th>\n",
       "      <td>SF-12 V2</td>\n",
       "      <td>17901</td>\n",
       "    </tr>\n",
       "  </tbody>\n",
       "</table>\n",
       "</div>"
      ],
      "text/plain": [
       "          QSCAT   Count\n",
       "0          KFSS  188254\n",
       "1  RAND-36 V1.0  164716\n",
       "2        BDI-II   51756\n",
       "3          EDSS   26285\n",
       "4      SF-12 V2   17901"
      ]
     },
     "execution_count": 20,
     "metadata": {},
     "output_type": "execute_result"
    }
   ],
   "source": [
    "QSCAT_counts = qs['QSCAT'].value_counts().reset_index()\n",
    "QSCAT_counts.columns = ['QSCAT', 'Count']\n",
    "QSCAT_counts"
   ]
  },
  {
   "cell_type": "markdown",
   "metadata": {},
   "source": [
    "- Number of observations for each QSSCAT (subcategory for question) category"
   ]
  },
  {
   "cell_type": "code",
   "execution_count": 21,
   "metadata": {},
   "outputs": [
    {
     "data": {
      "text/html": [
       "<div>\n",
       "<style scoped>\n",
       "    .dataframe tbody tr th:only-of-type {\n",
       "        vertical-align: middle;\n",
       "    }\n",
       "\n",
       "    .dataframe tbody tr th {\n",
       "        vertical-align: top;\n",
       "    }\n",
       "\n",
       "    .dataframe thead th {\n",
       "        text-align: right;\n",
       "    }\n",
       "</style>\n",
       "<table border=\"1\" class=\"dataframe\">\n",
       "  <thead>\n",
       "    <tr style=\"text-align: right;\">\n",
       "      <th></th>\n",
       "      <th>QSSCAT</th>\n",
       "      <th>Count</th>\n",
       "    </tr>\n",
       "  </thead>\n",
       "  <tbody>\n",
       "    <tr>\n",
       "      <th>0</th>\n",
       "      <td>PHYSICAL FUNCTIONING</td>\n",
       "      <td>48763</td>\n",
       "    </tr>\n",
       "    <tr>\n",
       "      <th>1</th>\n",
       "      <td>GENERAL HEALTH</td>\n",
       "      <td>24348</td>\n",
       "    </tr>\n",
       "    <tr>\n",
       "      <th>2</th>\n",
       "      <td>EMOTIONAL WELL-BEING</td>\n",
       "      <td>22887</td>\n",
       "    </tr>\n",
       "    <tr>\n",
       "      <th>3</th>\n",
       "      <td>ROLE LIMITATIONS DUE TO PHYSICAL HEALTH</td>\n",
       "      <td>18305</td>\n",
       "    </tr>\n",
       "    <tr>\n",
       "      <th>4</th>\n",
       "      <td>ENERGY/FATIGUE</td>\n",
       "      <td>18304</td>\n",
       "    </tr>\n",
       "    <tr>\n",
       "      <th>5</th>\n",
       "      <td>ROLE LIMITATIONS DUE TO EMOTIONAL PROBLEMS</td>\n",
       "      <td>13718</td>\n",
       "    </tr>\n",
       "    <tr>\n",
       "      <th>6</th>\n",
       "      <td>SOCIAL FUNCTIONING</td>\n",
       "      <td>10630</td>\n",
       "    </tr>\n",
       "    <tr>\n",
       "      <th>7</th>\n",
       "      <td>PAIN</td>\n",
       "      <td>9149</td>\n",
       "    </tr>\n",
       "    <tr>\n",
       "      <th>8</th>\n",
       "      <td>HEALTH CHANGE</td>\n",
       "      <td>4581</td>\n",
       "    </tr>\n",
       "    <tr>\n",
       "      <th>9</th>\n",
       "      <td>ROLE EMOTIONAL</td>\n",
       "      <td>2984</td>\n",
       "    </tr>\n",
       "    <tr>\n",
       "      <th>10</th>\n",
       "      <td>ROLE PHYSICAL</td>\n",
       "      <td>2982</td>\n",
       "    </tr>\n",
       "    <tr>\n",
       "      <th>11</th>\n",
       "      <td>MENTAL HEALTH</td>\n",
       "      <td>2982</td>\n",
       "    </tr>\n",
       "    <tr>\n",
       "      <th>12</th>\n",
       "      <td>BODILY PAIN</td>\n",
       "      <td>1492</td>\n",
       "    </tr>\n",
       "    <tr>\n",
       "      <th>13</th>\n",
       "      <td>VITALITY</td>\n",
       "      <td>1491</td>\n",
       "    </tr>\n",
       "  </tbody>\n",
       "</table>\n",
       "</div>"
      ],
      "text/plain": [
       "                                        QSSCAT  Count\n",
       "0                         PHYSICAL FUNCTIONING  48763\n",
       "1                               GENERAL HEALTH  24348\n",
       "2                         EMOTIONAL WELL-BEING  22887\n",
       "3      ROLE LIMITATIONS DUE TO PHYSICAL HEALTH  18305\n",
       "4                               ENERGY/FATIGUE  18304\n",
       "5   ROLE LIMITATIONS DUE TO EMOTIONAL PROBLEMS  13718\n",
       "6                           SOCIAL FUNCTIONING  10630\n",
       "7                                         PAIN   9149\n",
       "8                                HEALTH CHANGE   4581\n",
       "9                               ROLE EMOTIONAL   2984\n",
       "10                               ROLE PHYSICAL   2982\n",
       "11                               MENTAL HEALTH   2982\n",
       "12                                 BODILY PAIN   1492\n",
       "13                                    VITALITY   1491"
      ]
     },
     "execution_count": 21,
     "metadata": {},
     "output_type": "execute_result"
    }
   ],
   "source": [
    "QSSCAT_counts = qs['QSSCAT'].value_counts().reset_index()\n",
    "QSSCAT_counts.columns = ['QSSCAT', 'Count']\n",
    "QSSCAT_counts"
   ]
  },
  {
   "cell_type": "code",
   "execution_count": 22,
   "metadata": {},
   "outputs": [
    {
     "data": {
      "image/png": "[encoded data removed]",
      "text/plain": [
       "<Figure size 1200x600 with 1 Axes>"
      ]
     },
     "metadata": {},
     "output_type": "display_data"
    }
   ],
   "source": [
    "plt.figure(figsize=(12, 6))\n",
    "ax = qs['QSSCAT'].value_counts().plot(kind='bar', color='steelblue')\n",
    "\n",
    "for p in ax.patches:\n",
    "    ax.text(p.get_x() + p.get_width() / 2., p.get_height(), str(int(p.get_height())), ha='center', va='bottom', fontsize=8)\n",
    "\n",
    "plt.xlabel('QSSCAT')\n",
    "plt.ylabel('Count')\n",
    "plt.title('Bar Chart for Questionnaire Subcategory')\n",
    "plt.xticks(rotation=45, ha='right')  # Rotate x-axis labels for better readability\n",
    "plt.show()"
   ]
  },
  {
   "cell_type": "markdown",
   "metadata": {},
   "source": [
    "- Number of observations for each QSSTRESC (Character Result/Finding in Std Format) category"
   ]
  },
  {
   "cell_type": "code",
   "execution_count": null,
   "metadata": {},
   "outputs": [],
   "source": []
  },
  {
   "cell_type": "markdown",
   "metadata": {},
   "source": [
    "- Number of observations for each VISIT (Visit Name) category "
   ]
  },
  {
   "cell_type": "code",
   "execution_count": 23,
   "metadata": {},
   "outputs": [
    {
     "data": {
      "text/html": [
       "<div>\n",
       "<style scoped>\n",
       "    .dataframe tbody tr th:only-of-type {\n",
       "        vertical-align: middle;\n",
       "    }\n",
       "\n",
       "    .dataframe tbody tr th {\n",
       "        vertical-align: top;\n",
       "    }\n",
       "\n",
       "    .dataframe thead th {\n",
       "        text-align: right;\n",
       "    }\n",
       "</style>\n",
       "<table border=\"1\" class=\"dataframe\">\n",
       "  <thead>\n",
       "    <tr style=\"text-align: right;\">\n",
       "      <th></th>\n",
       "      <th>VISIT</th>\n",
       "      <th>Count</th>\n",
       "    </tr>\n",
       "  </thead>\n",
       "  <tbody>\n",
       "    <tr>\n",
       "      <th>0</th>\n",
       "      <td>BASELINE</td>\n",
       "      <td>39162</td>\n",
       "    </tr>\n",
       "    <tr>\n",
       "      <th>1</th>\n",
       "      <td>WEEK 24</td>\n",
       "      <td>32337</td>\n",
       "    </tr>\n",
       "    <tr>\n",
       "      <th>2</th>\n",
       "      <td>WEEK 12</td>\n",
       "      <td>22797</td>\n",
       "    </tr>\n",
       "    <tr>\n",
       "      <th>3</th>\n",
       "      <td>DAY 1</td>\n",
       "      <td>20853</td>\n",
       "    </tr>\n",
       "    <tr>\n",
       "      <th>4</th>\n",
       "      <td>MONTH 12</td>\n",
       "      <td>14275</td>\n",
       "    </tr>\n",
       "    <tr>\n",
       "      <th>...</th>\n",
       "      <td>...</td>\n",
       "      <td>...</td>\n",
       "    </tr>\n",
       "    <tr>\n",
       "      <th>105</th>\n",
       "      <td>VISIT8A MTH 6</td>\n",
       "      <td>32</td>\n",
       "    </tr>\n",
       "    <tr>\n",
       "      <th>106</th>\n",
       "      <td>END OF TREATMENT</td>\n",
       "      <td>22</td>\n",
       "    </tr>\n",
       "    <tr>\n",
       "      <th>107</th>\n",
       "      <td>MONTH 48</td>\n",
       "      <td>16</td>\n",
       "    </tr>\n",
       "    <tr>\n",
       "      <th>108</th>\n",
       "      <td>RELAPSE VISIT 5</td>\n",
       "      <td>16</td>\n",
       "    </tr>\n",
       "    <tr>\n",
       "      <th>109</th>\n",
       "      <td>SCREENING -2</td>\n",
       "      <td>9</td>\n",
       "    </tr>\n",
       "  </tbody>\n",
       "</table>\n",
       "<p>110 rows × 2 columns</p>\n",
       "</div>"
      ],
      "text/plain": [
       "                VISIT  Count\n",
       "0            BASELINE  39162\n",
       "1             WEEK 24  32337\n",
       "2             WEEK 12  22797\n",
       "3               DAY 1  20853\n",
       "4            MONTH 12  14275\n",
       "..                ...    ...\n",
       "105     VISIT8A MTH 6     32\n",
       "106  END OF TREATMENT     22\n",
       "107          MONTH 48     16\n",
       "108   RELAPSE VISIT 5     16\n",
       "109      SCREENING -2      9\n",
       "\n",
       "[110 rows x 2 columns]"
      ]
     },
     "execution_count": 23,
     "metadata": {},
     "output_type": "execute_result"
    }
   ],
   "source": [
    "VISIT_counts = qs['VISIT'].value_counts().reset_index()\n",
    "VISIT_counts.columns = ['VISIT', 'Count']\n",
    "VISIT_counts"
   ]
  },
  {
   "cell_type": "markdown",
   "metadata": {},
   "source": [
    "- Number of observations for each QSEVLINT (Evaluation Interval) category "
   ]
  },
  {
   "cell_type": "code",
   "execution_count": 24,
   "metadata": {},
   "outputs": [
    {
     "data": {
      "text/html": [
       "<div>\n",
       "<style scoped>\n",
       "    .dataframe tbody tr th:only-of-type {\n",
       "        vertical-align: middle;\n",
       "    }\n",
       "\n",
       "    .dataframe tbody tr th {\n",
       "        vertical-align: top;\n",
       "    }\n",
       "\n",
       "    .dataframe thead th {\n",
       "        text-align: right;\n",
       "    }\n",
       "</style>\n",
       "<table border=\"1\" class=\"dataframe\">\n",
       "  <thead>\n",
       "    <tr style=\"text-align: right;\">\n",
       "      <th></th>\n",
       "      <th>QSEVLINT</th>\n",
       "      <th>Count</th>\n",
       "    </tr>\n",
       "  </thead>\n",
       "  <tbody>\n",
       "    <tr>\n",
       "      <th>0</th>\n",
       "      <td>-P4W</td>\n",
       "      <td>104924</td>\n",
       "    </tr>\n",
       "    <tr>\n",
       "      <th>1</th>\n",
       "      <td>-P2W</td>\n",
       "      <td>49403</td>\n",
       "    </tr>\n",
       "  </tbody>\n",
       "</table>\n",
       "</div>"
      ],
      "text/plain": [
       "  QSEVLINT   Count\n",
       "0     -P4W  104924\n",
       "1     -P2W   49403"
      ]
     },
     "execution_count": 24,
     "metadata": {},
     "output_type": "execute_result"
    }
   ],
   "source": [
    "QSEVLINT_counts = qs['QSEVLINT'].value_counts().reset_index()\n",
    "QSEVLINT_counts.columns = ['QSEVLINT', 'Count']\n",
    "QSEVLINT_counts"
   ]
  },
  {
   "cell_type": "code",
   "execution_count": 25,
   "metadata": {},
   "outputs": [
    {
     "data": {
      "image/png": "[encoded data removed]",
      "text/plain": [
       "<Figure size 800x800 with 1 Axes>"
      ]
     },
     "metadata": {},
     "output_type": "display_data"
    }
   ],
   "source": [
    "QSEVLINT_counts = qs['QSEVLINT'].dropna().value_counts()\n",
    "\n",
    "plt.figure(figsize=(8, 8))\n",
    "plt.pie(QSEVLINT_counts, labels=QSEVLINT_counts.index, autopct=lambda p: '{:.1f}%\\n({:.0f})'.format(p, p * sum(QSEVLINT_counts) / 100), startangle=90, colors=['steelblue', 'orange', 'green', 'red', 'purple'])\n",
    "plt.title('Pie Chart for Evaluation Interval')\n",
    "plt.show()"
   ]
  },
  {
   "cell_type": "markdown",
   "metadata": {},
   "source": [
    "alleen BDI total score is numeriek, fix mistakes (bv EDSS van 3.6, inspect all graphs)"
   ]
  },
  {
   "cell_type": "markdown",
   "metadata": {},
   "source": [
    "### Create a static dataframe"
   ]
  },
  {
   "cell_type": "code",
   "execution_count": 26,
   "metadata": {},
   "outputs": [
    {
     "data": {
      "text/plain": [
       "count    339368.000000\n",
       "mean        331.487830\n",
       "std         315.596324\n",
       "min       -2220.000000\n",
       "25%          84.000000\n",
       "50%         253.000000\n",
       "75%         563.000000\n",
       "max        1404.000000\n",
       "Name: QSDY, dtype: float64"
      ]
     },
     "execution_count": 26,
     "metadata": {},
     "output_type": "execute_result"
    }
   ],
   "source": [
    "QSDY.describe()"
   ]
  },
  {
   "cell_type": "code",
   "execution_count": 27,
   "metadata": {},
   "outputs": [
    {
     "name": "stdout",
     "output_type": "stream",
     "text": [
      "Missing percentage of study day for each outcome category:\n",
      "QSCAT\n",
      "BDI-II           0.00\n",
      "EDSS            41.14\n",
      "KFSS            51.98\n",
      "RAND-36 V1.0     0.53\n",
      "SF-12 V2         0.00\n",
      "Name: QSDY, dtype: float64\n"
     ]
    }
   ],
   "source": [
    "missing_percentages = qs.groupby('QSCAT')['QSDY'].apply(lambda x: (x.isnull().sum() / len(x)) * 100)\n",
    "print(\"Missing percentage of study day for each outcome category:\")\n",
    "print(missing_percentages.round(2))"
   ]
  },
  {
   "cell_type": "markdown",
   "metadata": {},
   "source": [
    "#### EDSS"
   ]
  },
  {
   "cell_type": "code",
   "execution_count": 28,
   "metadata": {},
   "outputs": [
    {
     "data": {
      "text/plain": [
       "count    15471.000000\n",
       "mean       325.069937\n",
       "std        297.286138\n",
       "min       -407.000000\n",
       "25%         85.000000\n",
       "50%        254.000000\n",
       "75%        547.000000\n",
       "max       1404.000000\n",
       "Name: QSDY, dtype: float64"
      ]
     },
     "execution_count": 28,
     "metadata": {},
     "output_type": "execute_result"
    }
   ],
   "source": [
    "EDSS_rows = qs[qs['QSCAT'] == 'EDSS']\n",
    "EDSS_rows['QSDY'].describe()"
   ]
  },
  {
   "cell_type": "code",
   "execution_count": 55,
   "metadata": {},
   "outputs": [
    {
     "name": "stdout",
     "output_type": "stream",
     "text": [
      "The number of unique USUBJID in the EDSS_rows DataFrame is: 2465\n"
     ]
    }
   ],
   "source": [
    "# Assuming EDSS_rows is your DataFrame\n",
    "unique_usubjid_count = EDSS_rows['USUBJID'].nunique()\n",
    "\n",
    "print(f\"The number of unique USUBJID in the EDSS_rows DataFrame is: {unique_usubjid_count}\")"
   ]
  },
  {
   "cell_type": "markdown",
   "metadata": {},
   "source": [
    "##### **Lose ~32% of patients by excluding the ones that dont have their time values recorded but there's not really a way around this I think**"
   ]
  },
  {
   "cell_type": "code",
   "execution_count": 29,
   "metadata": {},
   "outputs": [
    {
     "data": {
      "image/png": "[encoded data removed]",
      "text/plain": [
       "<Figure size 1000x600 with 1 Axes>"
      ]
     },
     "metadata": {},
     "output_type": "display_data"
    }
   ],
   "source": [
    "patient_id = 'MSOAC/0053'\n",
    "patient_id = 'MSOAC/0076'\n",
    "patient_id = 'MSOAC/0141'\n",
    "\n",
    "# Filter the DataFrame for the specific patient\n",
    "patient_data = EDSS_rows[EDSS_rows['USUBJID'] == patient_id]\n",
    "\n",
    "# Plot the EDSS score over time\n",
    "plt.figure(figsize=(10, 6))\n",
    "plt.plot(patient_data['QSDY'], patient_data['QSSTRESN'], marker='o')\n",
    "plt.title(f'EDSS Score Over Time for Patient {patient_id}')\n",
    "plt.xlabel('Days from Study Start')\n",
    "plt.ylabel('EDSS Score')\n",
    "plt.grid(True)\n",
    "\n",
    "# Set y-axis ticks in increments of 0.5, starting from the minimal value\n",
    "min_value = patient_data['QSSTRESN'].min()\n",
    "max_value = patient_data['QSSTRESN'].max()\n",
    "plt.yticks([i * 0.5 for i in range(int(min_value * 2), int(max_value * 2) + 1)])\n",
    "\n",
    "# Add vertical lines at specific QSDY values\n",
    "vertical_lines = [0, 365, 730, 1095, 1460]\n",
    "for line in vertical_lines:\n",
    "    plt.axvline(x=line, color='r', linestyle='--', linewidth=1)\n",
    "plt.show()"
   ]
  },
  {
   "cell_type": "code",
   "execution_count": 30,
   "metadata": {},
   "outputs": [
    {
     "name": "stdout",
     "output_type": "stream",
     "text": [
      "\n",
      "Before Study Start\n"
     ]
    },
    {
     "data": {
      "text/html": [
       "<div>\n",
       "<style scoped>\n",
       "    .dataframe tbody tr th:only-of-type {\n",
       "        vertical-align: middle;\n",
       "    }\n",
       "\n",
       "    .dataframe tbody tr th {\n",
       "        vertical-align: top;\n",
       "    }\n",
       "\n",
       "    .dataframe thead th {\n",
       "        text-align: right;\n",
       "    }\n",
       "</style>\n",
       "<table border=\"1\" class=\"dataframe\">\n",
       "  <thead>\n",
       "    <tr style=\"text-align: right;\">\n",
       "      <th></th>\n",
       "      <th>count</th>\n",
       "      <th>mean</th>\n",
       "      <th>std</th>\n",
       "      <th>min</th>\n",
       "      <th>25%</th>\n",
       "      <th>50%</th>\n",
       "      <th>75%</th>\n",
       "      <th>max</th>\n",
       "    </tr>\n",
       "    <tr>\n",
       "      <th>QSCAT</th>\n",
       "      <th></th>\n",
       "      <th></th>\n",
       "      <th></th>\n",
       "      <th></th>\n",
       "      <th></th>\n",
       "      <th></th>\n",
       "      <th></th>\n",
       "      <th></th>\n",
       "    </tr>\n",
       "  </thead>\n",
       "  <tbody>\n",
       "    <tr>\n",
       "      <th>EDSS</th>\n",
       "      <td>1689.0</td>\n",
       "      <td>1.033156</td>\n",
       "      <td>0.179096</td>\n",
       "      <td>1.0</td>\n",
       "      <td>1.0</td>\n",
       "      <td>1.0</td>\n",
       "      <td>1.0</td>\n",
       "      <td>2.0</td>\n",
       "    </tr>\n",
       "  </tbody>\n",
       "</table>\n",
       "</div>"
      ],
      "text/plain": [
       "        count      mean       std  min  25%  50%  75%  max\n",
       "QSCAT                                                     \n",
       "EDSS   1689.0  1.033156  0.179096  1.0  1.0  1.0  1.0  2.0"
      ]
     },
     "execution_count": 30,
     "metadata": {},
     "output_type": "execute_result"
    }
   ],
   "source": [
    "# Create subsets for different time periods\n",
    "before_study_start = qs[qs['QSDY'] < 1]\n",
    "two_years_after_start = qs[(qs['QSDY'] >= 1) & (qs['QSDY'] <= 730)]\n",
    "four_years_after_start = qs[qs['QSDY'] > 730]\n",
    "\n",
    "# Function to count observations for a given subset\n",
    "def count_observations(subset, title):\n",
    "    filtered_rows = subset[subset['QSCAT'] == 'EDSS']\n",
    "    outcome_measure_counts = filtered_rows.groupby(['QSCAT', 'USUBJID']).size().reset_index(name='Observation_Count')\n",
    "    \n",
    "    print(f\"\\n{title}\")\n",
    "    return outcome_measure_counts.groupby('QSCAT')['Observation_Count'].describe()\n",
    "\n",
    "# Apply the function for each time period\n",
    "count_observations(before_study_start, 'Before Study Start')\n"
   ]
  },
  {
   "cell_type": "code",
   "execution_count": 31,
   "metadata": {},
   "outputs": [
    {
     "name": "stdout",
     "output_type": "stream",
     "text": [
      "\n",
      "2 Years After Study Start\n"
     ]
    },
    {
     "data": {
      "text/html": [
       "<div>\n",
       "<style scoped>\n",
       "    .dataframe tbody tr th:only-of-type {\n",
       "        vertical-align: middle;\n",
       "    }\n",
       "\n",
       "    .dataframe tbody tr th {\n",
       "        vertical-align: top;\n",
       "    }\n",
       "\n",
       "    .dataframe thead th {\n",
       "        text-align: right;\n",
       "    }\n",
       "</style>\n",
       "<table border=\"1\" class=\"dataframe\">\n",
       "  <thead>\n",
       "    <tr style=\"text-align: right;\">\n",
       "      <th></th>\n",
       "      <th>count</th>\n",
       "      <th>mean</th>\n",
       "      <th>std</th>\n",
       "      <th>min</th>\n",
       "      <th>25%</th>\n",
       "      <th>50%</th>\n",
       "      <th>75%</th>\n",
       "      <th>max</th>\n",
       "    </tr>\n",
       "    <tr>\n",
       "      <th>QSCAT</th>\n",
       "      <th></th>\n",
       "      <th></th>\n",
       "      <th></th>\n",
       "      <th></th>\n",
       "      <th></th>\n",
       "      <th></th>\n",
       "      <th></th>\n",
       "      <th></th>\n",
       "    </tr>\n",
       "  </thead>\n",
       "  <tbody>\n",
       "    <tr>\n",
       "      <th>EDSS</th>\n",
       "      <td>1622.0</td>\n",
       "      <td>7.413687</td>\n",
       "      <td>2.72143</td>\n",
       "      <td>1.0</td>\n",
       "      <td>5.0</td>\n",
       "      <td>9.0</td>\n",
       "      <td>9.0</td>\n",
       "      <td>18.0</td>\n",
       "    </tr>\n",
       "  </tbody>\n",
       "</table>\n",
       "</div>"
      ],
      "text/plain": [
       "        count      mean      std  min  25%  50%  75%   max\n",
       "QSCAT                                                     \n",
       "EDSS   1622.0  7.413687  2.72143  1.0  5.0  9.0  9.0  18.0"
      ]
     },
     "execution_count": 31,
     "metadata": {},
     "output_type": "execute_result"
    }
   ],
   "source": [
    "count_observations(two_years_after_start, '2 Years After Study Start')"
   ]
  },
  {
   "cell_type": "code",
   "execution_count": 32,
   "metadata": {},
   "outputs": [
    {
     "name": "stdout",
     "output_type": "stream",
     "text": [
      "\n",
      "4 Years After Study Start\n"
     ]
    },
    {
     "data": {
      "text/html": [
       "<div>\n",
       "<style scoped>\n",
       "    .dataframe tbody tr th:only-of-type {\n",
       "        vertical-align: middle;\n",
       "    }\n",
       "\n",
       "    .dataframe tbody tr th {\n",
       "        vertical-align: top;\n",
       "    }\n",
       "\n",
       "    .dataframe thead th {\n",
       "        text-align: right;\n",
       "    }\n",
       "</style>\n",
       "<table border=\"1\" class=\"dataframe\">\n",
       "  <thead>\n",
       "    <tr style=\"text-align: right;\">\n",
       "      <th></th>\n",
       "      <th>count</th>\n",
       "      <th>mean</th>\n",
       "      <th>std</th>\n",
       "      <th>min</th>\n",
       "      <th>25%</th>\n",
       "      <th>50%</th>\n",
       "      <th>75%</th>\n",
       "      <th>max</th>\n",
       "    </tr>\n",
       "    <tr>\n",
       "      <th>QSCAT</th>\n",
       "      <th></th>\n",
       "      <th></th>\n",
       "      <th></th>\n",
       "      <th></th>\n",
       "      <th></th>\n",
       "      <th></th>\n",
       "      <th></th>\n",
       "      <th></th>\n",
       "    </tr>\n",
       "  </thead>\n",
       "  <tbody>\n",
       "    <tr>\n",
       "      <th>EDSS</th>\n",
       "      <td>647.0</td>\n",
       "      <td>2.629057</td>\n",
       "      <td>1.363485</td>\n",
       "      <td>1.0</td>\n",
       "      <td>2.0</td>\n",
       "      <td>2.0</td>\n",
       "      <td>4.0</td>\n",
       "      <td>8.0</td>\n",
       "    </tr>\n",
       "  </tbody>\n",
       "</table>\n",
       "</div>"
      ],
      "text/plain": [
       "       count      mean       std  min  25%  50%  75%  max\n",
       "QSCAT                                                    \n",
       "EDSS   647.0  2.629057  1.363485  1.0  2.0  2.0  4.0  8.0"
      ]
     },
     "execution_count": 32,
     "metadata": {},
     "output_type": "execute_result"
    }
   ],
   "source": [
    "count_observations(four_years_after_start, '4 Years After Study Start')"
   ]
  },
  {
   "cell_type": "markdown",
   "metadata": {},
   "source": [
    "It doesn't seem to be a good grouping here (discard this, avg number of observations per patient is not relevant for time bin grouping they said!) - but I want to look at maximum EDSS score and not calculate a median or mean so maybe I just track the maximum EDSS each year?"
   ]
  },
  {
   "cell_type": "markdown",
   "metadata": {},
   "source": [
    "**NOTE: we remove all the patients that don't have the time value because they would be put in a separate bin and that's messy so they told us for now to just remove that BUT KEEP IN MIND THAT THIS REMOVES LIKE HALF OF THE EDSS DATA!**"
   ]
  },
  {
   "cell_type": "code",
   "execution_count": 53,
   "metadata": {},
   "outputs": [
    {
     "data": {
      "text/html": [
       "<div>\n",
       "<style scoped>\n",
       "    .dataframe tbody tr th:only-of-type {\n",
       "        vertical-align: middle;\n",
       "    }\n",
       "\n",
       "    .dataframe tbody tr th {\n",
       "        vertical-align: top;\n",
       "    }\n",
       "\n",
       "    .dataframe thead th {\n",
       "        text-align: right;\n",
       "    }\n",
       "</style>\n",
       "<table border=\"1\" class=\"dataframe\">\n",
       "  <thead>\n",
       "    <tr style=\"text-align: right;\">\n",
       "      <th></th>\n",
       "      <th>USUBJID</th>\n",
       "      <th>QSSEQ</th>\n",
       "      <th>QSTEST</th>\n",
       "      <th>QSCAT</th>\n",
       "      <th>QSSCAT</th>\n",
       "      <th>QSORRES</th>\n",
       "      <th>QSSTRESC</th>\n",
       "      <th>QSSTRESN</th>\n",
       "      <th>VISITNUM</th>\n",
       "      <th>VISIT</th>\n",
       "      <th>QSDY</th>\n",
       "      <th>QSEVLINT</th>\n",
       "      <th>QS_PERIOD</th>\n",
       "    </tr>\n",
       "  </thead>\n",
       "  <tbody>\n",
       "    <tr>\n",
       "      <th>205218</th>\n",
       "      <td>MSOAC/0016</td>\n",
       "      <td>1</td>\n",
       "      <td>EDSS01-Expanded Disability Score</td>\n",
       "      <td>EDSS</td>\n",
       "      <td>NaN</td>\n",
       "      <td>6</td>\n",
       "      <td>6</td>\n",
       "      <td>6.0</td>\n",
       "      <td>1.0</td>\n",
       "      <td>SCREENING</td>\n",
       "      <td>-21.0</td>\n",
       "      <td>NaN</td>\n",
       "      <td>before</td>\n",
       "    </tr>\n",
       "    <tr>\n",
       "      <th>214058</th>\n",
       "      <td>MSOAC/0019</td>\n",
       "      <td>1</td>\n",
       "      <td>EDSS01-Expanded Disability Score</td>\n",
       "      <td>EDSS</td>\n",
       "      <td>NaN</td>\n",
       "      <td>4</td>\n",
       "      <td>4</td>\n",
       "      <td>4.0</td>\n",
       "      <td>-3.0</td>\n",
       "      <td>SCREENING -3</td>\n",
       "      <td>-27.0</td>\n",
       "      <td>NaN</td>\n",
       "      <td>before</td>\n",
       "    </tr>\n",
       "    <tr>\n",
       "      <th>45</th>\n",
       "      <td>MSOAC/0019</td>\n",
       "      <td>10</td>\n",
       "      <td>EDSS01-Expanded Disability Score</td>\n",
       "      <td>EDSS</td>\n",
       "      <td>NaN</td>\n",
       "      <td>3.5</td>\n",
       "      <td>3.5</td>\n",
       "      <td>3.5</td>\n",
       "      <td>0.0</td>\n",
       "      <td>BASELINE</td>\n",
       "      <td>1.0</td>\n",
       "      <td>NaN</td>\n",
       "      <td>1y</td>\n",
       "    </tr>\n",
       "    <tr>\n",
       "      <th>168434</th>\n",
       "      <td>MSOAC/0019</td>\n",
       "      <td>55</td>\n",
       "      <td>EDSS01-Expanded Disability Score</td>\n",
       "      <td>EDSS</td>\n",
       "      <td>NaN</td>\n",
       "      <td>3.5</td>\n",
       "      <td>3.5</td>\n",
       "      <td>3.5</td>\n",
       "      <td>3.0</td>\n",
       "      <td>MONTH 3</td>\n",
       "      <td>93.0</td>\n",
       "      <td>NaN</td>\n",
       "      <td>1y</td>\n",
       "    </tr>\n",
       "    <tr>\n",
       "      <th>191059</th>\n",
       "      <td>MSOAC/0019</td>\n",
       "      <td>64</td>\n",
       "      <td>EDSS01-Expanded Disability Score</td>\n",
       "      <td>EDSS</td>\n",
       "      <td>NaN</td>\n",
       "      <td>3</td>\n",
       "      <td>3</td>\n",
       "      <td>3.0</td>\n",
       "      <td>6.0</td>\n",
       "      <td>MONTH 6</td>\n",
       "      <td>184.0</td>\n",
       "      <td>NaN</td>\n",
       "      <td>1y</td>\n",
       "    </tr>\n",
       "    <tr>\n",
       "      <th>...</th>\n",
       "      <td>...</td>\n",
       "      <td>...</td>\n",
       "      <td>...</td>\n",
       "      <td>...</td>\n",
       "      <td>...</td>\n",
       "      <td>...</td>\n",
       "      <td>...</td>\n",
       "      <td>...</td>\n",
       "      <td>...</td>\n",
       "      <td>...</td>\n",
       "      <td>...</td>\n",
       "      <td>...</td>\n",
       "      <td>...</td>\n",
       "    </tr>\n",
       "    <tr>\n",
       "      <th>159592</th>\n",
       "      <td>MSOAC/9998</td>\n",
       "      <td>155</td>\n",
       "      <td>EDSS01-Expanded Disability Score</td>\n",
       "      <td>EDSS</td>\n",
       "      <td>NaN</td>\n",
       "      <td>3.5</td>\n",
       "      <td>3.5</td>\n",
       "      <td>3.5</td>\n",
       "      <td>24.0</td>\n",
       "      <td>MONTH 24</td>\n",
       "      <td>715.0</td>\n",
       "      <td>NaN</td>\n",
       "      <td>2y</td>\n",
       "    </tr>\n",
       "    <tr>\n",
       "      <th>162929</th>\n",
       "      <td>MSOAC/9998</td>\n",
       "      <td>200</td>\n",
       "      <td>EDSS01-Expanded Disability Score</td>\n",
       "      <td>EDSS</td>\n",
       "      <td>NaN</td>\n",
       "      <td>4</td>\n",
       "      <td>4</td>\n",
       "      <td>4.0</td>\n",
       "      <td>27.0</td>\n",
       "      <td>MONTH 27</td>\n",
       "      <td>806.0</td>\n",
       "      <td>NaN</td>\n",
       "      <td>after 2y</td>\n",
       "    </tr>\n",
       "    <tr>\n",
       "      <th>176608</th>\n",
       "      <td>MSOAC/9998</td>\n",
       "      <td>209</td>\n",
       "      <td>EDSS01-Expanded Disability Score</td>\n",
       "      <td>EDSS</td>\n",
       "      <td>NaN</td>\n",
       "      <td>4</td>\n",
       "      <td>4</td>\n",
       "      <td>4.0</td>\n",
       "      <td>30.0</td>\n",
       "      <td>MONTH 30</td>\n",
       "      <td>890.0</td>\n",
       "      <td>NaN</td>\n",
       "      <td>after 2y</td>\n",
       "    </tr>\n",
       "    <tr>\n",
       "      <th>179087</th>\n",
       "      <td>MSOAC/9998</td>\n",
       "      <td>218</td>\n",
       "      <td>EDSS01-Expanded Disability Score</td>\n",
       "      <td>EDSS</td>\n",
       "      <td>NaN</td>\n",
       "      <td>3.5</td>\n",
       "      <td>3.5</td>\n",
       "      <td>3.5</td>\n",
       "      <td>33.0</td>\n",
       "      <td>MONTH 33</td>\n",
       "      <td>981.0</td>\n",
       "      <td>NaN</td>\n",
       "      <td>after 2y</td>\n",
       "    </tr>\n",
       "    <tr>\n",
       "      <th>83482</th>\n",
       "      <td>MSOAC/9998</td>\n",
       "      <td>227</td>\n",
       "      <td>EDSS01-Expanded Disability Score</td>\n",
       "      <td>EDSS</td>\n",
       "      <td>NaN</td>\n",
       "      <td>4</td>\n",
       "      <td>4</td>\n",
       "      <td>4.0</td>\n",
       "      <td>997.0</td>\n",
       "      <td>EARLY/TERMINATION</td>\n",
       "      <td>1072.0</td>\n",
       "      <td>NaN</td>\n",
       "      <td>after 2y</td>\n",
       "    </tr>\n",
       "  </tbody>\n",
       "</table>\n",
       "<p>15471 rows × 13 columns</p>\n",
       "</div>"
      ],
      "text/plain": [
       "           USUBJID  QSSEQ                            QSTEST QSCAT QSSCAT  \\\n",
       "205218  MSOAC/0016      1  EDSS01-Expanded Disability Score  EDSS    NaN   \n",
       "214058  MSOAC/0019      1  EDSS01-Expanded Disability Score  EDSS    NaN   \n",
       "45      MSOAC/0019     10  EDSS01-Expanded Disability Score  EDSS    NaN   \n",
       "168434  MSOAC/0019     55  EDSS01-Expanded Disability Score  EDSS    NaN   \n",
       "191059  MSOAC/0019     64  EDSS01-Expanded Disability Score  EDSS    NaN   \n",
       "...            ...    ...                               ...   ...    ...   \n",
       "159592  MSOAC/9998    155  EDSS01-Expanded Disability Score  EDSS    NaN   \n",
       "162929  MSOAC/9998    200  EDSS01-Expanded Disability Score  EDSS    NaN   \n",
       "176608  MSOAC/9998    209  EDSS01-Expanded Disability Score  EDSS    NaN   \n",
       "179087  MSOAC/9998    218  EDSS01-Expanded Disability Score  EDSS    NaN   \n",
       "83482   MSOAC/9998    227  EDSS01-Expanded Disability Score  EDSS    NaN   \n",
       "\n",
       "       QSORRES QSSTRESC  QSSTRESN  VISITNUM              VISIT    QSDY  \\\n",
       "205218       6        6       6.0       1.0          SCREENING   -21.0   \n",
       "214058       4        4       4.0      -3.0       SCREENING -3   -27.0   \n",
       "45         3.5      3.5       3.5       0.0           BASELINE     1.0   \n",
       "168434     3.5      3.5       3.5       3.0            MONTH 3    93.0   \n",
       "191059       3        3       3.0       6.0            MONTH 6   184.0   \n",
       "...        ...      ...       ...       ...                ...     ...   \n",
       "159592     3.5      3.5       3.5      24.0           MONTH 24   715.0   \n",
       "162929       4        4       4.0      27.0           MONTH 27   806.0   \n",
       "176608       4        4       4.0      30.0           MONTH 30   890.0   \n",
       "179087     3.5      3.5       3.5      33.0           MONTH 33   981.0   \n",
       "83482        4        4       4.0     997.0  EARLY/TERMINATION  1072.0   \n",
       "\n",
       "       QSEVLINT QS_PERIOD  \n",
       "205218      NaN    before  \n",
       "214058      NaN    before  \n",
       "45          NaN        1y  \n",
       "168434      NaN        1y  \n",
       "191059      NaN        1y  \n",
       "...         ...       ...  \n",
       "159592      NaN        2y  \n",
       "162929      NaN  after 2y  \n",
       "176608      NaN  after 2y  \n",
       "179087      NaN  after 2y  \n",
       "83482       NaN  after 2y  \n",
       "\n",
       "[15471 rows x 13 columns]"
      ]
     },
     "execution_count": 53,
     "metadata": {},
     "output_type": "execute_result"
    }
   ],
   "source": [
    "# Filter the DataFrame to include only the specified FTTEST values\n",
    "EDSS_df = EDSS_rows.copy()  # Create a copy to avoid the warning\n",
    "\n",
    "conditions = [\n",
    "    (EDSS_df['QSDY'] <= 0),\n",
    "    ((EDSS_df['QSDY'] > 0) & (EDSS_df['QSDY'] <= 365)),\n",
    "    ((EDSS_df['QSDY'] > 365) & (EDSS_df['QSDY'] <= 730)),\n",
    "    ((EDSS_df['QSDY'] > 730))\n",
    "    #((EDSS_df['QSDY'] > 730) & (EDSS_df['QSDY'] <= 1095)),\n",
    "    #((EDSS_df['QSDY'] > 1095) & (EDSS_df['QSDY'] <= 1460))  # maximal value is 1404\n",
    "]\n",
    "\n",
    "# Define corresponding values for each condition\n",
    "values = ['before', '1y', '2y', 'after 2y']\n",
    "\n",
    "# Create the new column \"FT_PERIOD\"\n",
    "EDSS_df['QS_PERIOD'] = np.select(conditions, values, default='NaN')\n",
    "EDSS_df = EDSS_df.dropna(subset=['QSDY']) #Drop observations for which we don't have time of test\n",
    "EDSS_df.head()"
   ]
  },
  {
   "cell_type": "code",
   "execution_count": 51,
   "metadata": {},
   "outputs": [
    {
     "data": {
      "text/html": [
       "<div>\n",
       "<style scoped>\n",
       "    .dataframe tbody tr th:only-of-type {\n",
       "        vertical-align: middle;\n",
       "    }\n",
       "\n",
       "    .dataframe tbody tr th {\n",
       "        vertical-align: top;\n",
       "    }\n",
       "\n",
       "    .dataframe thead th {\n",
       "        text-align: right;\n",
       "    }\n",
       "</style>\n",
       "<table border=\"1\" class=\"dataframe\">\n",
       "  <thead>\n",
       "    <tr style=\"text-align: right;\">\n",
       "      <th></th>\n",
       "      <th>USUBJID</th>\n",
       "      <th>EDSS_1y</th>\n",
       "      <th>EDSS_2y</th>\n",
       "      <th>EDSS_after 2y</th>\n",
       "      <th>EDSS_before</th>\n",
       "    </tr>\n",
       "  </thead>\n",
       "  <tbody>\n",
       "    <tr>\n",
       "      <th>0</th>\n",
       "      <td>MSOAC/0016</td>\n",
       "      <td>NaN</td>\n",
       "      <td>NaN</td>\n",
       "      <td>NaN</td>\n",
       "      <td>6.0</td>\n",
       "    </tr>\n",
       "    <tr>\n",
       "      <th>1</th>\n",
       "      <td>MSOAC/0019</td>\n",
       "      <td>3.5</td>\n",
       "      <td>3.5</td>\n",
       "      <td>3.0</td>\n",
       "      <td>4.0</td>\n",
       "    </tr>\n",
       "    <tr>\n",
       "      <th>15</th>\n",
       "      <td>MSOAC/0024</td>\n",
       "      <td>4.0</td>\n",
       "      <td>4.0</td>\n",
       "      <td>NaN</td>\n",
       "      <td>4.0</td>\n",
       "    </tr>\n",
       "    <tr>\n",
       "      <th>25</th>\n",
       "      <td>MSOAC/0030</td>\n",
       "      <td>2.0</td>\n",
       "      <td>NaN</td>\n",
       "      <td>NaN</td>\n",
       "      <td>2.0</td>\n",
       "    </tr>\n",
       "    <tr>\n",
       "      <th>30</th>\n",
       "      <td>MSOAC/0031</td>\n",
       "      <td>1.5</td>\n",
       "      <td>1.0</td>\n",
       "      <td>1.5</td>\n",
       "      <td>1.0</td>\n",
       "    </tr>\n",
       "    <tr>\n",
       "      <th>...</th>\n",
       "      <td>...</td>\n",
       "      <td>...</td>\n",
       "      <td>...</td>\n",
       "      <td>...</td>\n",
       "      <td>...</td>\n",
       "    </tr>\n",
       "    <tr>\n",
       "      <th>15422</th>\n",
       "      <td>MSOAC/9980</td>\n",
       "      <td>3.5</td>\n",
       "      <td>NaN</td>\n",
       "      <td>NaN</td>\n",
       "      <td>3.5</td>\n",
       "    </tr>\n",
       "    <tr>\n",
       "      <th>15428</th>\n",
       "      <td>MSOAC/9981</td>\n",
       "      <td>5.0</td>\n",
       "      <td>5.5</td>\n",
       "      <td>NaN</td>\n",
       "      <td>4.0</td>\n",
       "    </tr>\n",
       "    <tr>\n",
       "      <th>15442</th>\n",
       "      <td>MSOAC/9985</td>\n",
       "      <td>4.0</td>\n",
       "      <td>4.0</td>\n",
       "      <td>NaN</td>\n",
       "      <td>4.0</td>\n",
       "    </tr>\n",
       "    <tr>\n",
       "      <th>15452</th>\n",
       "      <td>MSOAC/9986</td>\n",
       "      <td>3.0</td>\n",
       "      <td>NaN</td>\n",
       "      <td>NaN</td>\n",
       "      <td>3.0</td>\n",
       "    </tr>\n",
       "    <tr>\n",
       "      <th>15457</th>\n",
       "      <td>MSOAC/9998</td>\n",
       "      <td>6.5</td>\n",
       "      <td>4.0</td>\n",
       "      <td>4.0</td>\n",
       "      <td>4.5</td>\n",
       "    </tr>\n",
       "  </tbody>\n",
       "</table>\n",
       "<p>1692 rows × 5 columns</p>\n",
       "</div>"
      ],
      "text/plain": [
       "          USUBJID  EDSS_1y  EDSS_2y  EDSS_after 2y  EDSS_before\n",
       "0      MSOAC/0016      NaN      NaN            NaN          6.0\n",
       "1      MSOAC/0019      3.5      3.5            3.0          4.0\n",
       "15     MSOAC/0024      4.0      4.0            NaN          4.0\n",
       "25     MSOAC/0030      2.0      NaN            NaN          2.0\n",
       "30     MSOAC/0031      1.5      1.0            1.5          1.0\n",
       "...           ...      ...      ...            ...          ...\n",
       "15422  MSOAC/9980      3.5      NaN            NaN          3.5\n",
       "15428  MSOAC/9981      5.0      5.5            NaN          4.0\n",
       "15442  MSOAC/9985      4.0      4.0            NaN          4.0\n",
       "15452  MSOAC/9986      3.0      NaN            NaN          3.0\n",
       "15457  MSOAC/9998      6.5      4.0            4.0          4.5\n",
       "\n",
       "[1692 rows x 5 columns]"
      ]
     },
     "execution_count": 51,
     "metadata": {},
     "output_type": "execute_result"
    }
   ],
   "source": [
    "grouped_df = EDSS_df.pivot_table(values='QSSTRESN', index='USUBJID', columns='QS_PERIOD', aggfunc='max', fill_value=None).reset_index()\n",
    "\n",
    "# Rename the columns \n",
    "grouped_df.columns = ['USUBJID'] + [f\"EDSS_{period}\" for period in grouped_df.columns[1:]]\n",
    "\n",
    "# Merge the new DataFrame with the original DataFrame on 'USUBJID'\n",
    "result_EDSS = pd.merge(EDSS_df[['USUBJID']], grouped_df, on='USUBJID', how='left')\n",
    "\n",
    "# Drop duplicate rows to keep only unique rows per patient and period\n",
    "result_EDSS = result_EDSS.drop_duplicates(subset=['USUBJID'])\n",
    "result_EDSS"
   ]
  },
  {
   "cell_type": "code",
   "execution_count": 54,
   "metadata": {},
   "outputs": [
    {
     "data": {
      "image/png": "[encoded data removed]",
      "text/plain": [
       "<Figure size 1000x600 with 1 Axes>"
      ]
     },
     "metadata": {},
     "output_type": "display_data"
    }
   ],
   "source": [
    "#patient_id = 'MSOAC/0053'\n",
    "#patient_id = 'MSOAC/0076'\n",
    "#patient_id = 'MSOAC/0168'\n",
    "patient_id = 'MSOAC/9998'\n",
    "\n",
    "# Filter the DataFrame for the specific patient\n",
    "patient_data = EDSS_rows[EDSS_rows['USUBJID'] == patient_id]\n",
    "\n",
    "# Plot the EDSS score over time\n",
    "plt.figure(figsize=(10, 6))\n",
    "plt.plot(patient_data['QSDY'], patient_data['QSSTRESN'], marker='o')\n",
    "plt.title(f'EDSS Score Over Time for Patient {patient_id}')\n",
    "plt.xlabel('Days from Study Start')\n",
    "plt.ylabel('EDSS Score')\n",
    "plt.grid(True)\n",
    "\n",
    "# Set y-axis ticks in increments of 0.5, starting from the minimal value\n",
    "min_value = patient_data['QSSTRESN'].min()\n",
    "max_value = patient_data['QSSTRESN'].max()\n",
    "plt.yticks([i * 0.5 for i in range(int(min_value * 2), int(max_value * 2) + 1)])\n",
    "\n",
    "# Add vertical lines at specific QSDY values\n",
    "vertical_lines = [0, 365, 730]\n",
    "for line in vertical_lines:\n",
    "    plt.axvline(x=line, color='r', linestyle='--', linewidth=1)\n",
    "plt.show()"
   ]
  },
  {
   "cell_type": "code",
   "execution_count": 41,
   "metadata": {},
   "outputs": [
    {
     "name": "stdout",
     "output_type": "stream",
     "text": [
      "Percentage of missing values for each column in result_EDSS (sorted high to low):\n",
      "EDSS_after 2y    61.761229\n",
      "EDSS_2y          37.706856\n",
      "EDSS_1y           4.137116\n",
      "EDSS_before       0.177305\n",
      "USUBJID           0.000000\n",
      "dtype: float64\n"
     ]
    }
   ],
   "source": [
    "# Calculate the percentage of missing values for each column\n",
    "missing_percentage = result_EDSS.isnull().mean() * 100\n",
    "\n",
    "# Sort columns based on missing percentage in descending order\n",
    "sorted_columns = missing_percentage.sort_values(ascending=False)\n",
    "\n",
    "# Display the result\n",
    "print(\"Percentage of missing values for each column in result_EDSS (sorted high to low):\")\n",
    "print(sorted_columns)"
   ]
  },
  {
   "cell_type": "markdown",
   "metadata": {},
   "source": []
  },
  {
   "cell_type": "markdown",
   "metadata": {},
   "source": [
    "Discard the code below - this was for non disjoint time bins and didnt properly work but for now we work with disjoint time bins to allow for improvement"
   ]
  },
  {
   "cell_type": "code",
   "execution_count": null,
   "metadata": {},
   "outputs": [],
   "source": [
    "# Calculate the maximum value of QSSTRESN for each different value of QS_PERIOD\n",
    "max_EDSS_df = EDSS_df.groupby(['USUBJID', 'QS_PERIOD'])['QSSTRESN'].max().reset_index()\n",
    "\n",
    "# Pivot the table\n",
    "pivot_EDSS_df = max_EDSS_df.pivot_table(index='USUBJID', columns='QS_PERIOD', values='QSSTRESN').reset_index()\n",
    "\n",
    "# Reorganize the columns with the desired naming convention\n",
    "pivot_EDSS_df.columns = [f'EDSS_{col}' if col != 'USUBJID' else col for col in pivot_EDSS_df.columns]\n",
    "\n",
    "# Define the desired column order\n",
    "column_order = ['USUBJID', 'EDSS_before', 'EDSS_1y', 'EDSS_2y', 'EDSS_3y', 'EDSS_4y', 'EDSS_NaN']\n",
    "\n",
    "# Reorder the columns based on column_order\n",
    "pivot_EDSS_df = pivot_EDSS_df[column_order]\n",
    "\n",
    "# Merge the new DataFrame with the original DataFrame on 'USUBJID'\n",
    "result_EDSS = pd.merge(EDSS_df[['USUBJID']], pivot_EDSS_df, on='USUBJID', how='left')\n",
    "\n",
    "# Drop duplicate rows to keep only unique rows per patient\n",
    "result_EDSS = result_EDSS.drop_duplicates(subset='USUBJID')\n",
    "\n",
    "result_EDSS.head(50)"
   ]
  },
  {
   "cell_type": "code",
   "execution_count": null,
   "metadata": {},
   "outputs": [],
   "source": [
    "# Find rows where EDSS_3y is not equal to EDSS_4y and both are non-missing\n",
    "diff_3y_4y = result_EDSS[(result_EDSS['EDSS_3y'].notna()) & (result_EDSS['EDSS_4y'].notna()) & (result_EDSS['EDSS_3y'] != result_EDSS['EDSS_4y'])]\n",
    "\n",
    "# Get the number of rows\n",
    "num_diff_3y_4y = len(diff_3y_4y)\n",
    "print(f\"Number of rows where EDSS_3y is not equal to EDSS_4y and both are non-missing: {num_diff_3y_4y}\")"
   ]
  },
  {
   "cell_type": "markdown",
   "metadata": {},
   "source": [
    "might be better to put 3 & 4y just together based on this i think + also 97% missing (I know having a few hundred obs is still enough but only 3% is like only 80 patients)"
   ]
  },
  {
   "cell_type": "code",
   "execution_count": null,
   "metadata": {},
   "outputs": [],
   "source": [
    "# Calculate the percentage of missing values for each column\n",
    "missing_percentage = result_EDSS.isnull().mean() * 100\n",
    "\n",
    "# Create a DataFrame with missing values and their percentages\n",
    "missing_data = pd.DataFrame({'Column': missing_percentage.index, 'MissingPercentage': missing_percentage.values})\n",
    "\n",
    "# Sort the DataFrame by missing percentage in descending order\n",
    "missing_data_sorted = missing_data.sort_values(by='MissingPercentage', ascending=False)\n",
    "\n",
    "# Print the result\n",
    "print(missing_data_sorted)"
   ]
  },
  {
   "cell_type": "code",
   "execution_count": null,
   "metadata": {},
   "outputs": [],
   "source": []
  },
  {
   "cell_type": "markdown",
   "metadata": {},
   "source": [
    "#### KFSS"
   ]
  },
  {
   "cell_type": "code",
   "execution_count": null,
   "metadata": {},
   "outputs": [],
   "source": [
    "KFSS_qs = qs[qs['QSCAT'] == 'KFSS']\n",
    "KFSS_qs = KFSS_qs.drop(columns=['QSSEQ','VISITNUM','VISIT'])\n",
    "KFSS_qs"
   ]
  },
  {
   "cell_type": "code",
   "execution_count": null,
   "metadata": {},
   "outputs": [],
   "source": [
    "missing_percentage_kfss = (KFSS_qs.isnull().sum() / len(KFSS_qs)) * 100\n",
    "missing_kfss = pd.DataFrame({'Column Name': missing_percentage_kfss.index, 'Missing Percentage': missing_percentage_kfss.values})\n",
    "missing_kfss = missing_kfss.sort_values(by='Missing Percentage', ascending=False)\n",
    "print(missing_kfss)"
   ]
  },
  {
   "cell_type": "code",
   "execution_count": null,
   "metadata": {},
   "outputs": [],
   "source": [
    "KFSS_qs = KFSS_qs.drop(columns=['QSSCAT','QSEVLINT'])"
   ]
  },
  {
   "cell_type": "code",
   "execution_count": null,
   "metadata": {},
   "outputs": [],
   "source": [
    "pivot_table = KFSS_qs.pivot_table(index='QSTEST', columns='QSSTRESN', aggfunc='size', fill_value=0)\n",
    "\n",
    "pivot_table"
   ]
  },
  {
   "cell_type": "markdown",
   "metadata": {},
   "source": [
    "Note: some tests are on a scale 0-5 and others 0-6!!\n",
    "\n",
    "Idea: \n",
    "- sum results of all tests per patient (and normalize)\n",
    "- check change over time (?)"
   ]
  },
  {
   "cell_type": "markdown",
   "metadata": {},
   "source": [
    "#### RAND-36 V1.0"
   ]
  },
  {
   "cell_type": "code",
   "execution_count": null,
   "metadata": {},
   "outputs": [],
   "source": [
    "RAND36_qs = qs[qs['QSCAT'] == 'RAND-36 V1.0']\n",
    "RAND36_qs = RAND36_qs.drop(columns=['QSSEQ','QSSTRESC','VISITNUM','VISIT'])\n",
    "RAND36_qs"
   ]
  },
  {
   "cell_type": "code",
   "execution_count": null,
   "metadata": {},
   "outputs": [],
   "source": [
    "missing_percentage_rand36 = (RAND36_qs.isnull().sum() / len(RAND36_qs)) * 100\n",
    "missing_rand36 = pd.DataFrame({'Column Name': missing_percentage_rand36.index, 'Missing Percentage': missing_percentage_rand36.values})\n",
    "missing_rand36 = missing_rand36.sort_values(by='Missing Percentage', ascending=False)\n",
    "print(missing_rand36)"
   ]
  },
  {
   "cell_type": "code",
   "execution_count": null,
   "metadata": {},
   "outputs": [],
   "source": [
    "QSDY = RAND36_qs['QSDY'].dropna()\n",
    "\n",
    "plt.figure(figsize=(8, 6))\n",
    "sns.histplot(QSDY, kde=False, color='steelblue', bins=30)\n",
    "plt.xlabel('QSDY')\n",
    "plt.ylabel('Count')\n",
    "plt.title('Histogram for study day of collection')\n",
    "plt.show()"
   ]
  },
  {
   "cell_type": "code",
   "execution_count": null,
   "metadata": {},
   "outputs": [],
   "source": [
    "# QSTEST\n",
    "qsscat_counts_qs = RAND36_qs['QSTEST'].value_counts().reset_index()\n",
    "qsscat_counts_qs.columns = ['QSTEST', 'Count']\n",
    "total_count = qsscat_counts_qs['Count'].sum()\n",
    "qsscat_counts_qs['Percentage'] = (qsscat_counts_qs['Count'] / total_count) * 100\n",
    "qsscat_counts_qs"
   ]
  },
  {
   "cell_type": "code",
   "execution_count": null,
   "metadata": {},
   "outputs": [],
   "source": [
    "# QSSCAT\n",
    "qsscat_counts_qs = RAND36_qs['QSSCAT'].value_counts().reset_index()\n",
    "qsscat_counts_qs.columns = ['QSSCAT', 'Count']\n",
    "total_count = qsscat_counts_qs['Count'].sum()\n",
    "qsscat_counts_qs['Percentage'] = (qsscat_counts_qs['Count'] / total_count) * 100\n",
    "qsscat_counts_qs"
   ]
  },
  {
   "cell_type": "markdown",
   "metadata": {},
   "source": [
    "See scale for each category of questionnaire"
   ]
  },
  {
   "cell_type": "code",
   "execution_count": null,
   "metadata": {},
   "outputs": [],
   "source": [
    "# PHYSICAL FUNCTIONING\n",
    "phys_funct = RAND36_qs[RAND36_qs['QSSCAT'] == 'PHYSICAL FUNCTIONING']\n",
    "\n",
    "qsstresn_counts_qs = phys_funct['QSSTRESN'].value_counts().reset_index()\n",
    "qsstresn_counts_qs.columns = ['QSSTRESN', 'Count']\n",
    "total_count = qsstresn_counts_qs['Count'].sum()\n",
    "qsstresn_counts_qs['Percentage'] = (qsstresn_counts_qs['Count'] / total_count) * 100\n",
    "qsstresn_counts_qs"
   ]
  },
  {
   "cell_type": "code",
   "execution_count": null,
   "metadata": {},
   "outputs": [],
   "source": [
    "phys_funct_per_qsteet = phys_funct.groupby('QSTEST')['QSSTRESN'].value_counts().reset_index(name='Count')\n",
    "phys_funct_per_qsteet = phys_funct_per_qsteet.sort_values(by=['QSTEST', 'QSSTRESN'])\n",
    "phys_funct_per_qsteet"
   ]
  },
  {
   "cell_type": "code",
   "execution_count": null,
   "metadata": {},
   "outputs": [],
   "source": [
    "# EMOTIONAL WELL-BEING\n",
    "emotion = RAND36_qs[RAND36_qs['QSSCAT'] == 'EMOTIONAL WELL-BEING']\n",
    "\n",
    "qsstresn_counts_qs = emotion['QSSTRESN'].value_counts().reset_index()\n",
    "qsstresn_counts_qs.columns = ['QSSTRESN', 'Count']\n",
    "total_count = qsstresn_counts_qs['Count'].sum()\n",
    "qsstresn_counts_qs['Percentage'] = (qsstresn_counts_qs['Count'] / total_count) * 100\n",
    "qsstresn_counts_qs"
   ]
  },
  {
   "cell_type": "code",
   "execution_count": null,
   "metadata": {},
   "outputs": [],
   "source": [
    "emotion_per_qsteet = emotion.groupby('QSTEST')['QSSTRESN'].value_counts().reset_index(name='Count')\n",
    "emotion_per_qsteet = emotion_per_qsteet.sort_values(by=['QSTEST', 'QSSTRESN'])\n",
    "emotion_per_qsteet"
   ]
  },
  {
   "cell_type": "code",
   "execution_count": null,
   "metadata": {},
   "outputs": [],
   "source": [
    "# GENERAL HEALTH\n",
    "gen_health = RAND36_qs[RAND36_qs['QSSCAT'] == 'GENERAL HEALTH']\n",
    "\n",
    "qsstresn_counts_qs = gen_health['QSSTRESN'].value_counts().reset_index()\n",
    "qsstresn_counts_qs.columns = ['QSSTRESN', 'Count']\n",
    "total_count = qsstresn_counts_qs['Count'].sum()\n",
    "qsstresn_counts_qs['Percentage'] = (qsstresn_counts_qs['Count'] / total_count) * 100\n",
    "qsstresn_counts_qs"
   ]
  },
  {
   "cell_type": "code",
   "execution_count": null,
   "metadata": {},
   "outputs": [],
   "source": [
    "gen_health_per_qsteet = gen_health.groupby('QSTEST')['QSSTRESN'].value_counts().reset_index(name='Count')\n",
    "gen_health_per_qsteet = gen_health_per_qsteet.sort_values(by=['QSTEST', 'QSSTRESN'])\n",
    "gen_health_per_qsteet"
   ]
  },
  {
   "cell_type": "code",
   "execution_count": null,
   "metadata": {},
   "outputs": [],
   "source": [
    "# ROLE LIMITATIONS DUE TO PHYSICAL HEALTH\n",
    "phys_health = RAND36_qs[RAND36_qs['QSSCAT'] == 'ROLE LIMITATIONS DUE TO PHYSICAL HEALTH']\n",
    "\n",
    "qsstresn_counts_qs = phys_health['QSSTRESN'].value_counts().reset_index()\n",
    "qsstresn_counts_qs.columns = ['QSSTRESN', 'Count']\n",
    "total_count = qsstresn_counts_qs['Count'].sum()\n",
    "qsstresn_counts_qs['Percentage'] = (qsstresn_counts_qs['Count'] / total_count) * 100\n",
    "qsstresn_counts_qs"
   ]
  },
  {
   "cell_type": "code",
   "execution_count": null,
   "metadata": {},
   "outputs": [],
   "source": [
    "phys_health_per_qsteet = phys_health.groupby('QSTEST')['QSSTRESN'].value_counts().reset_index(name='Count')\n",
    "phys_health_per_qsteet = phys_health_per_qsteet.sort_values(by=['QSTEST', 'QSSTRESN'])\n",
    "phys_health_per_qsteet"
   ]
  },
  {
   "cell_type": "code",
   "execution_count": null,
   "metadata": {},
   "outputs": [],
   "source": [
    "# ENERGY/FATIGUE\n",
    "energy_fatigue = RAND36_qs[RAND36_qs['QSSCAT'] == 'ENERGY/FATIGUE']\n",
    "\n",
    "qsstresn_counts_qs = energy_fatigue['QSSTRESN'].value_counts().reset_index()\n",
    "qsstresn_counts_qs.columns = ['QSSTRESN', 'Count']\n",
    "total_count = qsstresn_counts_qs['Count'].sum()\n",
    "qsstresn_counts_qs['Percentage'] = (qsstresn_counts_qs['Count'] / total_count) * 100\n",
    "qsstresn_counts_qs"
   ]
  },
  {
   "cell_type": "code",
   "execution_count": null,
   "metadata": {},
   "outputs": [],
   "source": [
    "energy_fatigue_per_qsteet = energy_fatigue.groupby('QSTEST')['QSSTRESN'].value_counts().reset_index(name='Count')\n",
    "energy_fatigue_per_qsteet = energy_fatigue_per_qsteet.sort_values(by=['QSTEST', 'QSSTRESN'])\n",
    "energy_fatigue_per_qsteet"
   ]
  },
  {
   "cell_type": "code",
   "execution_count": null,
   "metadata": {},
   "outputs": [],
   "source": [
    "# ROLE LIMITATIONS DUE TO EMOTIONAL PROBLEMS\n",
    "emotion_prob = RAND36_qs[RAND36_qs['QSSCAT'] == 'ROLE LIMITATIONS DUE TO EMOTIONAL PROBLEMS']\n",
    "\n",
    "qsstresn_counts_qs = emotion_prob['QSSTRESN'].value_counts().reset_index()\n",
    "qsstresn_counts_qs.columns = ['QSSTRESN', 'Count']\n",
    "total_count = qsstresn_counts_qs['Count'].sum()\n",
    "qsstresn_counts_qs['Percentage'] = (qsstresn_counts_qs['Count'] / total_count) * 100\n",
    "qsstresn_counts_qs"
   ]
  },
  {
   "cell_type": "code",
   "execution_count": null,
   "metadata": {},
   "outputs": [],
   "source": [
    "emotion_prob_per_qsteet = emotion_prob.groupby('QSTEST')['QSSTRESN'].value_counts().reset_index(name='Count')\n",
    "emotion_prob_per_qsteet = emotion_prob_per_qsteet.sort_values(by=['QSTEST', 'QSSTRESN'])\n",
    "emotion_prob_per_qsteet"
   ]
  },
  {
   "cell_type": "code",
   "execution_count": null,
   "metadata": {},
   "outputs": [],
   "source": [
    "# PAIN\n",
    "pain = RAND36_qs[RAND36_qs['QSSCAT'] == 'PAIN']\n",
    "\n",
    "qsstresn_counts_qs = pain['QSSTRESN'].value_counts().reset_index()\n",
    "qsstresn_counts_qs.columns = ['QSSTRESN', 'Count']\n",
    "total_count = qsstresn_counts_qs['Count'].sum()\n",
    "qsstresn_counts_qs['Percentage'] = (qsstresn_counts_qs['Count'] / total_count) * 100\n",
    "qsstresn_counts_qs"
   ]
  },
  {
   "cell_type": "code",
   "execution_count": null,
   "metadata": {},
   "outputs": [],
   "source": [
    "pain_per_qsteet = pain.groupby('QSTEST')['QSSTRESN'].value_counts().reset_index(name='Count')\n",
    "pain_per_qsteet = pain_per_qsteet.sort_values(by=['QSTEST', 'QSSTRESN'])\n",
    "pain_per_qsteet"
   ]
  },
  {
   "cell_type": "code",
   "execution_count": null,
   "metadata": {},
   "outputs": [],
   "source": [
    "# SOCIAL FUNCTIONING\n",
    "social_funct = RAND36_qs[RAND36_qs['QSSCAT'] == 'SOCIAL FUNCTIONING']\n",
    "\n",
    "qsstresn_counts_qs = social_funct['QSSTRESN'].value_counts().reset_index()\n",
    "qsstresn_counts_qs.columns = ['QSSTRESN', 'Count']\n",
    "total_count = qsstresn_counts_qs['Count'].sum()\n",
    "qsstresn_counts_qs['Percentage'] = (qsstresn_counts_qs['Count'] / total_count) * 100\n",
    "qsstresn_counts_qs"
   ]
  },
  {
   "cell_type": "code",
   "execution_count": null,
   "metadata": {},
   "outputs": [],
   "source": [
    "social_funct_per_qsteet = social_funct.groupby('QSTEST')['QSSTRESN'].value_counts().reset_index(name='Count')\n",
    "social_funct_per_qsteet = social_funct_per_qsteet.sort_values(by=['QSTEST', 'QSSTRESN'])\n",
    "social_funct_per_qsteet"
   ]
  },
  {
   "cell_type": "code",
   "execution_count": null,
   "metadata": {},
   "outputs": [],
   "source": [
    "# HEALTH CHANGE\n",
    "health_change = RAND36_qs[RAND36_qs['QSSCAT'] == 'HEALTH CHANGE']\n",
    "\n",
    "qsstresn_counts_qs = health_change['QSSTRESN'].value_counts().reset_index()\n",
    "qsstresn_counts_qs.columns = ['QSSTRESN', 'Count']\n",
    "total_count = qsstresn_counts_qs['Count'].sum()\n",
    "qsstresn_counts_qs['Percentage'] = (qsstresn_counts_qs['Count'] / total_count) * 100\n",
    "qsstresn_counts_qs"
   ]
  },
  {
   "cell_type": "code",
   "execution_count": null,
   "metadata": {},
   "outputs": [],
   "source": [
    "health_change_per_qsteet = health_change.groupby('QSTEST')['QSSTRESN'].value_counts().reset_index(name='Count')\n",
    "health_change_per_qsteet = health_change_per_qsteet.sort_values(by=['QSTEST', 'QSSTRESN'])\n",
    "health_change_per_qsteet"
   ]
  },
  {
   "cell_type": "markdown",
   "metadata": {},
   "source": [
    "*Conclusion:* all questions per QSSCAT use the SAME likert-scale (except for PAIN)"
   ]
  },
  {
   "cell_type": "code",
   "execution_count": null,
   "metadata": {},
   "outputs": [],
   "source": [
    "#pivot_table = RAND36_qs.pivot_table(index='QSTEST', columns='QSSTRESN', values='QSORRES', aggfunc='first')\n",
    "#grouped = RAND36_qs.groupby(['QSTEST', 'QSSTRESN'])['QSORRES'].apply(list).reset_index()\n",
    "filtered = RAND36_qs[RAND36_qs['QSSCAT'] == 'PAIN']\n",
    "grouped = filtered.groupby(['QSTEST', 'QSSTRESN'])['QSORRES'].agg(lambda x: list(set(x))).reset_index()\n",
    "pivot_table = grouped.pivot_table(index='QSTEST', columns='QSSTRESN', values='QSORRES', aggfunc=lambda x: x[0] if isinstance(x, list) and len(x) == 1 else x)\n",
    "pivot_table"
   ]
  },
  {
   "cell_type": "code",
   "execution_count": null,
   "metadata": {},
   "outputs": [],
   "source": [
    "p0019 = RAND36_qs[RAND36_qs['USUBJID'] == 'MSOAC/0041']\n",
    "#p0019 = p0019[p0019['QSTEST'] == 'R3601-I Expect My Health to Get Worse']\n",
    "p0019['QSDY'].unique() \n",
    "#p0019"
   ]
  },
  {
   "cell_type": "code",
   "execution_count": null,
   "metadata": {},
   "outputs": [],
   "source": [
    "negative_values = RAND36_qs[RAND36_qs['QSDY'] < 0]['USUBJID'].unique()\n",
    "\n",
    "print(negative_values)"
   ]
  }
 ],
 "metadata": {
  "kernelspec": {
   "display_name": "Thesis",
   "language": "python",
   "name": "python3"
  },
  "language_info": {
   "codemirror_mode": {
    "name": "ipython",
    "version": 3
   },
   "file_extension": ".py",
   "mimetype": "text/x-python",
   "name": "python",
   "nbconvert_exporter": "python",
   "pygments_lexer": "ipython3",
   "version": "3.9.18"
  }
 },
 "nbformat": 4,
 "nbformat_minor": 2
}
