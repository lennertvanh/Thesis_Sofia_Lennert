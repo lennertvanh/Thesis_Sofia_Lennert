{
 "cells": [
  {
   "cell_type": "markdown",
   "metadata": {},
   "source": [
    "### Questionnaires (qs.csv) - [One record per questionnaire per question per time point per visit per subject]\n",
    "\n",
    "This dataset contains info on:\n",
    "- **EDSS**\n",
    "- FS scores \n",
    "- RAND-36 \n",
    "- SF-12 \n",
    "- BDI-II"
   ]
  },
  {
   "cell_type": "code",
   "execution_count": 2,
   "metadata": {},
   "outputs": [
    {
     "name": "stderr",
     "output_type": "stream",
     "text": [
      "C:\\Users\\lenne\\AppData\\Local\\Temp\\ipykernel_10528\\4250792913.py:16: DtypeWarning: Columns (4,9,16,17) have mixed types. Specify dtype option on import or set low_memory=False.\n",
      "  qs = pd.read_csv(file_path)\n"
     ]
    }
   ],
   "source": [
    "# Imports\n",
    "import pandas as pd\n",
    "import matplotlib.pyplot as plt\n",
    "import seaborn as sns\n",
    "import os\n",
    "\n",
    "possible_paths = [\n",
    "    'C:/Users/lenne/OneDrive/Documenten/Master of Statistics and Data Science/2023-2024/Master thesis/MSOAC Placebo Data',\n",
    "    'C:/Users/anaso/Desktop/SOFIA MENDES/KU Leuven/Master Thesis/MSOAC Placebo dataset/csv files'\n",
    "]\n",
    "\n",
    "file_name = 'qs.csv'\n",
    "file_path = next(f'{path}/{file_name}' for path in possible_paths if os.path.exists(f'{path}/{file_name}'))\n",
    "\n",
    "# Read the CSV file into a DataFrame\n",
    "qs = pd.read_csv(file_path)"
   ]
  },
  {
   "cell_type": "markdown",
   "metadata": {},
   "source": [
    "Check how many missing values we have per column. "
   ]
  },
  {
   "cell_type": "code",
   "execution_count": 3,
   "metadata": {},
   "outputs": [
    {
     "name": "stdout",
     "output_type": "stream",
     "text": [
      "   Column Name  Missing Percentage\n",
      "29    QSRFTDTC          100.000000\n",
      "28    QSTPTREF          100.000000\n",
      "5       QSSPID          100.000000\n",
      "27      QSELTM          100.000000\n",
      "26    QSTPTNUM          100.000000\n",
      "25       QSTPT          100.000000\n",
      "23       QSDTC          100.000000\n",
      "11    QSORRESU          100.000000\n",
      "19      QSEVAL          100.000000\n",
      "18     QSDRVFL          100.000000\n",
      "14    QSSTRESU          100.000000\n",
      "16    QSREASND           99.997550\n",
      "15      QSSTAT           99.643583\n",
      "17      QSBLFL           89.925420\n",
      "22     VISITDY           82.796628\n",
      "4      QSGRPID           80.735645\n",
      "30    QSEVLINT           65.621993\n",
      "9       QSSCAT           59.320312\n",
      "24        QSDY           24.402110\n",
      "13    QSSTRESN            0.578733\n",
      "10     QSORRES            0.476263\n",
      "12    QSSTRESC            0.356417\n",
      "1       DOMAIN            0.000000\n",
      "20    VISITNUM            0.000000\n",
      "21       VISIT            0.000000\n",
      "8        QSCAT            0.000000\n",
      "7       QSTEST            0.000000\n",
      "6     QSTESTCD            0.000000\n",
      "3        QSSEQ            0.000000\n",
      "2      USUBJID            0.000000\n",
      "0      STUDYID            0.000000\n"
     ]
    }
   ],
   "source": [
    "missing_percentage_qs = (qs.isnull().sum() / len(qs)) * 100\n",
    "missing_qs = pd.DataFrame({'Column Name': missing_percentage_qs.index, 'Missing Percentage': missing_percentage_qs.values})\n",
    "missing_qs = missing_qs.sort_values(by='Missing Percentage', ascending=False)\n",
    "print(missing_qs)"
   ]
  },
  {
   "cell_type": "markdown",
   "metadata": {},
   "source": [
    "Remove columns with more than 80% missingness as well as redundant columns."
   ]
  },
  {
   "cell_type": "code",
   "execution_count": 4,
   "metadata": {},
   "outputs": [],
   "source": [
    "# Set the threshold for missing percentage\n",
    "threshold = 80\n",
    "\n",
    "# Filter columns based on missing percentage\n",
    "columns_to_drop = missing_qs[missing_qs['Missing Percentage'] >= threshold]['Column Name']\n",
    "\n",
    "# Drop columns from the DataFrame\n",
    "qs = qs.drop(columns=columns_to_drop)\n",
    "\n",
    "# Remove redundant columns\n",
    "qs = qs.drop(columns=['STUDYID', 'DOMAIN', 'QSTESTCD', 'QSORRES'])"
   ]
  },
  {
   "cell_type": "code",
   "execution_count": 5,
   "metadata": {},
   "outputs": [
    {
     "data": {
      "text/html": [
       "<div>\n",
       "<style scoped>\n",
       "    .dataframe tbody tr th:only-of-type {\n",
       "        vertical-align: middle;\n",
       "    }\n",
       "\n",
       "    .dataframe tbody tr th {\n",
       "        vertical-align: top;\n",
       "    }\n",
       "\n",
       "    .dataframe thead th {\n",
       "        text-align: right;\n",
       "    }\n",
       "</style>\n",
       "<table border=\"1\" class=\"dataframe\">\n",
       "  <thead>\n",
       "    <tr style=\"text-align: right;\">\n",
       "      <th></th>\n",
       "      <th>USUBJID</th>\n",
       "      <th>QSSEQ</th>\n",
       "      <th>QSTEST</th>\n",
       "      <th>QSCAT</th>\n",
       "      <th>QSSCAT</th>\n",
       "      <th>QSSTRESC</th>\n",
       "      <th>QSSTRESN</th>\n",
       "      <th>VISITNUM</th>\n",
       "      <th>VISIT</th>\n",
       "      <th>QSDY</th>\n",
       "      <th>QSEVLINT</th>\n",
       "    </tr>\n",
       "  </thead>\n",
       "  <tbody>\n",
       "    <tr>\n",
       "      <th>216853</th>\n",
       "      <td>MSOAC/0014</td>\n",
       "      <td>1</td>\n",
       "      <td>EDSS01-Expanded Disability Score</td>\n",
       "      <td>EDSS</td>\n",
       "      <td>NaN</td>\n",
       "      <td>1</td>\n",
       "      <td>1.0</td>\n",
       "      <td>1.0</td>\n",
       "      <td>SCREENING D-28 TO -2</td>\n",
       "      <td>NaN</td>\n",
       "      <td>NaN</td>\n",
       "    </tr>\n",
       "    <tr>\n",
       "      <th>216854</th>\n",
       "      <td>MSOAC/0014</td>\n",
       "      <td>2</td>\n",
       "      <td>KFSS1-Pyramidal Functions</td>\n",
       "      <td>KFSS</td>\n",
       "      <td>NaN</td>\n",
       "      <td>1</td>\n",
       "      <td>1.0</td>\n",
       "      <td>1.0</td>\n",
       "      <td>SCREENING D-28 TO -2</td>\n",
       "      <td>NaN</td>\n",
       "      <td>NaN</td>\n",
       "    </tr>\n",
       "    <tr>\n",
       "      <th>216855</th>\n",
       "      <td>MSOAC/0014</td>\n",
       "      <td>3</td>\n",
       "      <td>KFSS1-Cerebellar Functions</td>\n",
       "      <td>KFSS</td>\n",
       "      <td>NaN</td>\n",
       "      <td>0</td>\n",
       "      <td>0.0</td>\n",
       "      <td>1.0</td>\n",
       "      <td>SCREENING D-28 TO -2</td>\n",
       "      <td>NaN</td>\n",
       "      <td>NaN</td>\n",
       "    </tr>\n",
       "    <tr>\n",
       "      <th>216856</th>\n",
       "      <td>MSOAC/0014</td>\n",
       "      <td>4</td>\n",
       "      <td>KFSS1-Brain Stem Functions</td>\n",
       "      <td>KFSS</td>\n",
       "      <td>NaN</td>\n",
       "      <td>0</td>\n",
       "      <td>0.0</td>\n",
       "      <td>1.0</td>\n",
       "      <td>SCREENING D-28 TO -2</td>\n",
       "      <td>NaN</td>\n",
       "      <td>NaN</td>\n",
       "    </tr>\n",
       "    <tr>\n",
       "      <th>216857</th>\n",
       "      <td>MSOAC/0014</td>\n",
       "      <td>5</td>\n",
       "      <td>KFSS1-Sensory Functions</td>\n",
       "      <td>KFSS</td>\n",
       "      <td>NaN</td>\n",
       "      <td>0</td>\n",
       "      <td>0.0</td>\n",
       "      <td>1.0</td>\n",
       "      <td>SCREENING D-28 TO -2</td>\n",
       "      <td>NaN</td>\n",
       "      <td>NaN</td>\n",
       "    </tr>\n",
       "  </tbody>\n",
       "</table>\n",
       "</div>"
      ],
      "text/plain": [
       "           USUBJID  QSSEQ                            QSTEST QSCAT QSSCAT  \\\n",
       "216853  MSOAC/0014      1  EDSS01-Expanded Disability Score  EDSS    NaN   \n",
       "216854  MSOAC/0014      2         KFSS1-Pyramidal Functions  KFSS    NaN   \n",
       "216855  MSOAC/0014      3        KFSS1-Cerebellar Functions  KFSS    NaN   \n",
       "216856  MSOAC/0014      4        KFSS1-Brain Stem Functions  KFSS    NaN   \n",
       "216857  MSOAC/0014      5           KFSS1-Sensory Functions  KFSS    NaN   \n",
       "\n",
       "       QSSTRESC  QSSTRESN  VISITNUM                 VISIT  QSDY QSEVLINT  \n",
       "216853        1       1.0       1.0  SCREENING D-28 TO -2   NaN      NaN  \n",
       "216854        1       1.0       1.0  SCREENING D-28 TO -2   NaN      NaN  \n",
       "216855        0       0.0       1.0  SCREENING D-28 TO -2   NaN      NaN  \n",
       "216856        0       0.0       1.0  SCREENING D-28 TO -2   NaN      NaN  \n",
       "216857        0       0.0       1.0  SCREENING D-28 TO -2   NaN      NaN  "
      ]
     },
     "execution_count": 5,
     "metadata": {},
     "output_type": "execute_result"
    }
   ],
   "source": [
    "qs.sort_values(by=['USUBJID', 'QSSEQ'], inplace=True)\n",
    "qs.head()"
   ]
  },
  {
   "cell_type": "markdown",
   "metadata": {},
   "source": [
    "Overview of all dropped columns:\n",
    "\n",
    "- **STUDYID**: Study Identifier (irrelevant - always the same value)\n",
    "- **DOMAIN**: Domain Abbreviation (irrelevant - always the same value)\n",
    "- **QSTESTCD**: Question Short Name (contains the same info as QSTEST = Question Name)\n",
    "- **QSORRES**: Finding in Original Units (contains the same info as \"QSSTRESC\" = Character Result/Finding in Std Format, except that there can be incosistencies in the values of QSORRES)\n",
    "- **QSRFTDTC, QSTPTREF, QSSPID, QSELTM, QSTPTNUM, QSTPT, QSDTC, QSORRESU, QSEVAL, QSDRVFL, QSSTRESU**: all values missing and not even mentioned in the data dictionary \n",
    "- **QSREASND**: Reason Not Performed (missing for 99.998% of observations)\n",
    "- **QSSTAT**: Completion Status (missing for 99.6% of observations)\n",
    "- **QSBLFL**: Baseline Flag (missing for 89.9% of observations)\n",
    "- **VISITDY**: Visit Day (missing for 82.8% of observations) -- **maybe keep this one since we also keep it for some other datasets**\n",
    "- **QSGRPID**: Group ID (missing for 80.7% of observations)"
   ]
  },
  {
   "cell_type": "code",
   "execution_count": 6,
   "metadata": {},
   "outputs": [
    {
     "name": "stdout",
     "output_type": "stream",
     "text": [
      "Number of unique values in USUBJID: 2465\n"
     ]
    }
   ],
   "source": [
    "unique_usubjid_count = qs['USUBJID'].nunique()\n",
    "print(\"Number of unique values in USUBJID:\", unique_usubjid_count)"
   ]
  },
  {
   "cell_type": "markdown",
   "metadata": {},
   "source": [
    "**We have data on all patients in the dataset for the questionnaires**"
   ]
  },
  {
   "cell_type": "markdown",
   "metadata": {},
   "source": [
    "Which columns are numeric and categorical? (see also SDTM fields in Data Dictionary)"
   ]
  },
  {
   "cell_type": "code",
   "execution_count": 7,
   "metadata": {},
   "outputs": [
    {
     "data": {
      "text/html": [
       "<div>\n",
       "<style scoped>\n",
       "    .dataframe tbody tr th:only-of-type {\n",
       "        vertical-align: middle;\n",
       "    }\n",
       "\n",
       "    .dataframe tbody tr th {\n",
       "        vertical-align: top;\n",
       "    }\n",
       "\n",
       "    .dataframe thead th {\n",
       "        text-align: right;\n",
       "    }\n",
       "</style>\n",
       "<table border=\"1\" class=\"dataframe\">\n",
       "  <thead>\n",
       "    <tr style=\"text-align: right;\">\n",
       "      <th></th>\n",
       "      <th>Column</th>\n",
       "      <th>Type</th>\n",
       "    </tr>\n",
       "  </thead>\n",
       "  <tbody>\n",
       "    <tr>\n",
       "      <th>0</th>\n",
       "      <td>USUBJID</td>\n",
       "      <td>categorical</td>\n",
       "    </tr>\n",
       "    <tr>\n",
       "      <th>1</th>\n",
       "      <td>QSSEQ</td>\n",
       "      <td>numeric</td>\n",
       "    </tr>\n",
       "    <tr>\n",
       "      <th>2</th>\n",
       "      <td>QSTEST</td>\n",
       "      <td>categorical</td>\n",
       "    </tr>\n",
       "    <tr>\n",
       "      <th>3</th>\n",
       "      <td>QSCAT</td>\n",
       "      <td>categorical</td>\n",
       "    </tr>\n",
       "    <tr>\n",
       "      <th>4</th>\n",
       "      <td>QSSCAT</td>\n",
       "      <td>categorical</td>\n",
       "    </tr>\n",
       "    <tr>\n",
       "      <th>5</th>\n",
       "      <td>QSSTRESC</td>\n",
       "      <td>categorical</td>\n",
       "    </tr>\n",
       "    <tr>\n",
       "      <th>6</th>\n",
       "      <td>QSSTRESN</td>\n",
       "      <td>numeric</td>\n",
       "    </tr>\n",
       "    <tr>\n",
       "      <th>7</th>\n",
       "      <td>VISITNUM</td>\n",
       "      <td>numeric</td>\n",
       "    </tr>\n",
       "    <tr>\n",
       "      <th>8</th>\n",
       "      <td>VISIT</td>\n",
       "      <td>categorical</td>\n",
       "    </tr>\n",
       "    <tr>\n",
       "      <th>9</th>\n",
       "      <td>QSDY</td>\n",
       "      <td>numeric</td>\n",
       "    </tr>\n",
       "    <tr>\n",
       "      <th>10</th>\n",
       "      <td>QSEVLINT</td>\n",
       "      <td>categorical</td>\n",
       "    </tr>\n",
       "  </tbody>\n",
       "</table>\n",
       "</div>"
      ],
      "text/plain": [
       "      Column         Type\n",
       "0    USUBJID  categorical\n",
       "1      QSSEQ      numeric\n",
       "2     QSTEST  categorical\n",
       "3      QSCAT  categorical\n",
       "4     QSSCAT  categorical\n",
       "5   QSSTRESC  categorical\n",
       "6   QSSTRESN      numeric\n",
       "7   VISITNUM      numeric\n",
       "8      VISIT  categorical\n",
       "9       QSDY      numeric\n",
       "10  QSEVLINT  categorical"
      ]
     },
     "execution_count": 7,
     "metadata": {},
     "output_type": "execute_result"
    }
   ],
   "source": [
    "# Create an empty list to store column types\n",
    "column_types = []\n",
    "\n",
    "# Iterate through each column\n",
    "for column, dtype in qs.dtypes.items():\n",
    "    # Categorize columns\n",
    "    if dtype == 'object':\n",
    "        column_type = 'categorical'\n",
    "    elif dtype in ['int64', 'float64']:\n",
    "        column_type = 'numeric'\n",
    "    else:\n",
    "        column_type = 'other'\n",
    "\n",
    "    # Append to the list\n",
    "    column_types.append({'Column': column, 'Type': column_type})\n",
    "\n",
    "# Create a DataFrame from the list\n",
    "column_types_df = pd.DataFrame(column_types)\n",
    "\n",
    "# Display the resulting DataFrame\n",
    "column_types_df"
   ]
  },
  {
   "cell_type": "markdown",
   "metadata": {},
   "source": [
    "- Descriptive statistics for numeric variables"
   ]
  },
  {
   "cell_type": "code",
   "execution_count": 8,
   "metadata": {},
   "outputs": [
    {
     "data": {
      "text/html": [
       "<div>\n",
       "<style scoped>\n",
       "    .dataframe tbody tr th:only-of-type {\n",
       "        vertical-align: middle;\n",
       "    }\n",
       "\n",
       "    .dataframe tbody tr th {\n",
       "        vertical-align: top;\n",
       "    }\n",
       "\n",
       "    .dataframe thead th {\n",
       "        text-align: right;\n",
       "    }\n",
       "</style>\n",
       "<table border=\"1\" class=\"dataframe\">\n",
       "  <thead>\n",
       "    <tr style=\"text-align: right;\">\n",
       "      <th></th>\n",
       "      <th>Count</th>\n",
       "      <th>Missing Cases</th>\n",
       "      <th>Missing %</th>\n",
       "      <th>Median</th>\n",
       "      <th>Standard Deviation</th>\n",
       "    </tr>\n",
       "  </thead>\n",
       "  <tbody>\n",
       "    <tr>\n",
       "      <th>QSSEQ</th>\n",
       "      <td>448912</td>\n",
       "      <td>0</td>\n",
       "      <td>0.00</td>\n",
       "      <td>99.0</td>\n",
       "      <td>79.650454</td>\n",
       "    </tr>\n",
       "    <tr>\n",
       "      <th>QSSTRESN</th>\n",
       "      <td>446314</td>\n",
       "      <td>2598</td>\n",
       "      <td>0.58</td>\n",
       "      <td>2.0</td>\n",
       "      <td>1.861824</td>\n",
       "    </tr>\n",
       "    <tr>\n",
       "      <th>VISITNUM</th>\n",
       "      <td>448912</td>\n",
       "      <td>0</td>\n",
       "      <td>0.00</td>\n",
       "      <td>20.0</td>\n",
       "      <td>229.172925</td>\n",
       "    </tr>\n",
       "    <tr>\n",
       "      <th>QSDY</th>\n",
       "      <td>339368</td>\n",
       "      <td>109544</td>\n",
       "      <td>24.40</td>\n",
       "      <td>253.0</td>\n",
       "      <td>315.596324</td>\n",
       "    </tr>\n",
       "  </tbody>\n",
       "</table>\n",
       "</div>"
      ],
      "text/plain": [
       "           Count  Missing Cases  Missing %  Median  Standard Deviation\n",
       "QSSEQ     448912              0       0.00    99.0           79.650454\n",
       "QSSTRESN  446314           2598       0.58     2.0            1.861824\n",
       "VISITNUM  448912              0       0.00    20.0          229.172925\n",
       "QSDY      339368         109544      24.40   253.0          315.596324"
      ]
     },
     "execution_count": 8,
     "metadata": {},
     "output_type": "execute_result"
    }
   ],
   "source": [
    "numeric_columns = ['QSSEQ', 'QSSTRESN', 'VISITNUM', 'QSDY']\n",
    "\n",
    "descriptive_numeric = {\n",
    "    'Count': qs[numeric_columns].count(),\n",
    "    'Missing Cases': qs[numeric_columns].isna().sum(),\n",
    "    'Missing %': round((qs[numeric_columns].isna().sum() / len(qs)) * 100, 2),  \n",
    "    'Median': qs[numeric_columns].median(),\n",
    "    'Standard Deviation': qs[numeric_columns].std()\n",
    "}\n",
    "\n",
    "num_qs = pd.DataFrame(descriptive_numeric)\n",
    "num_qs"
   ]
  },
  {
   "cell_type": "markdown",
   "metadata": {},
   "source": [
    "- QSSEQ (Sequence number)"
   ]
  },
  {
   "cell_type": "code",
   "execution_count": 9,
   "metadata": {},
   "outputs": [
    {
     "data": {
      "image/png": "[encoded data removed]",
      "text/plain": [
       "<Figure size 800x600 with 1 Axes>"
      ]
     },
     "metadata": {},
     "output_type": "display_data"
    }
   ],
   "source": [
    "QSSEQ = qs['QSSEQ'].dropna()\n",
    "\n",
    "plt.figure(figsize=(8, 6))\n",
    "sns.histplot(QSSEQ, kde=False, color='steelblue', bins=30)\n",
    "plt.xlabel('Sequence Number')\n",
    "plt.ylabel('Count')\n",
    "plt.title('Histogram for Sequence Number')\n",
    "plt.show()"
   ]
  },
  {
   "cell_type": "markdown",
   "metadata": {},
   "source": [
    "- QSSTRESN (Numeric Finding in Standard Units)"
   ]
  },
  {
   "cell_type": "code",
   "execution_count": null,
   "metadata": {},
   "outputs": [],
   "source": []
  },
  {
   "cell_type": "code",
   "execution_count": 20,
   "metadata": {},
   "outputs": [
    {
     "data": {
      "text/html": [
       "<div>\n",
       "<style scoped>\n",
       "    .dataframe tbody tr th:only-of-type {\n",
       "        vertical-align: middle;\n",
       "    }\n",
       "\n",
       "    .dataframe tbody tr th {\n",
       "        vertical-align: top;\n",
       "    }\n",
       "\n",
       "    .dataframe thead th {\n",
       "        text-align: right;\n",
       "    }\n",
       "</style>\n",
       "<table border=\"1\" class=\"dataframe\">\n",
       "  <thead>\n",
       "    <tr style=\"text-align: right;\">\n",
       "      <th></th>\n",
       "      <th>QSTEST</th>\n",
       "      <th>USUBJID</th>\n",
       "      <th>Observation_Count</th>\n",
       "    </tr>\n",
       "  </thead>\n",
       "  <tbody>\n",
       "    <tr>\n",
       "      <th>0</th>\n",
       "      <td>EDSS01-Expanded Disability Score</td>\n",
       "      <td>MSOAC/0014</td>\n",
       "      <td>4</td>\n",
       "    </tr>\n",
       "    <tr>\n",
       "      <th>1</th>\n",
       "      <td>EDSS01-Expanded Disability Score</td>\n",
       "      <td>MSOAC/0016</td>\n",
       "      <td>1</td>\n",
       "    </tr>\n",
       "    <tr>\n",
       "      <th>2</th>\n",
       "      <td>EDSS01-Expanded Disability Score</td>\n",
       "      <td>MSOAC/0019</td>\n",
       "      <td>14</td>\n",
       "    </tr>\n",
       "    <tr>\n",
       "      <th>3</th>\n",
       "      <td>EDSS01-Expanded Disability Score</td>\n",
       "      <td>MSOAC/0024</td>\n",
       "      <td>10</td>\n",
       "    </tr>\n",
       "    <tr>\n",
       "      <th>4</th>\n",
       "      <td>EDSS01-Expanded Disability Score</td>\n",
       "      <td>MSOAC/0030</td>\n",
       "      <td>5</td>\n",
       "    </tr>\n",
       "    <tr>\n",
       "      <th>...</th>\n",
       "      <td>...</td>\n",
       "      <td>...</td>\n",
       "      <td>...</td>\n",
       "    </tr>\n",
       "    <tr>\n",
       "      <th>2460</th>\n",
       "      <td>EDSS01-Expanded Disability Score</td>\n",
       "      <td>MSOAC/9986</td>\n",
       "      <td>5</td>\n",
       "    </tr>\n",
       "    <tr>\n",
       "      <th>2461</th>\n",
       "      <td>EDSS01-Expanded Disability Score</td>\n",
       "      <td>MSOAC/9987</td>\n",
       "      <td>16</td>\n",
       "    </tr>\n",
       "    <tr>\n",
       "      <th>2462</th>\n",
       "      <td>EDSS01-Expanded Disability Score</td>\n",
       "      <td>MSOAC/9995</td>\n",
       "      <td>20</td>\n",
       "    </tr>\n",
       "    <tr>\n",
       "      <th>2463</th>\n",
       "      <td>EDSS01-Expanded Disability Score</td>\n",
       "      <td>MSOAC/9998</td>\n",
       "      <td>14</td>\n",
       "    </tr>\n",
       "    <tr>\n",
       "      <th>2464</th>\n",
       "      <td>EDSS01-Expanded Disability Score</td>\n",
       "      <td>MSOAC/9999</td>\n",
       "      <td>13</td>\n",
       "    </tr>\n",
       "  </tbody>\n",
       "</table>\n",
       "<p>2465 rows × 3 columns</p>\n",
       "</div>"
      ],
      "text/plain": [
       "                                QSTEST     USUBJID  Observation_Count\n",
       "0     EDSS01-Expanded Disability Score  MSOAC/0014                  4\n",
       "1     EDSS01-Expanded Disability Score  MSOAC/0016                  1\n",
       "2     EDSS01-Expanded Disability Score  MSOAC/0019                 14\n",
       "3     EDSS01-Expanded Disability Score  MSOAC/0024                 10\n",
       "4     EDSS01-Expanded Disability Score  MSOAC/0030                  5\n",
       "...                                ...         ...                ...\n",
       "2460  EDSS01-Expanded Disability Score  MSOAC/9986                  5\n",
       "2461  EDSS01-Expanded Disability Score  MSOAC/9987                 16\n",
       "2462  EDSS01-Expanded Disability Score  MSOAC/9995                 20\n",
       "2463  EDSS01-Expanded Disability Score  MSOAC/9998                 14\n",
       "2464  EDSS01-Expanded Disability Score  MSOAC/9999                 13\n",
       "\n",
       "[2465 rows x 3 columns]"
      ]
     },
     "execution_count": 20,
     "metadata": {},
     "output_type": "execute_result"
    }
   ],
   "source": [
    "# Filter rows for EDSS\n",
    "filtered_rows = qs[qs['QSTEST']=='EDSS01-Expanded Disability Score']\n",
    "\n",
    "# Group by EDSS and USUBJID, then count the number of rows for each group\n",
    "outcome_measure_counts = filtered_rows.groupby(['QSTEST', 'USUBJID']).size().reset_index(name='Observation_Count')\n",
    "outcome_measure_counts"
   ]
  },
  {
   "cell_type": "code",
   "execution_count": 22,
   "metadata": {},
   "outputs": [
    {
     "data": {
      "text/html": [
       "<div>\n",
       "<style scoped>\n",
       "    .dataframe tbody tr th:only-of-type {\n",
       "        vertical-align: middle;\n",
       "    }\n",
       "\n",
       "    .dataframe tbody tr th {\n",
       "        vertical-align: top;\n",
       "    }\n",
       "\n",
       "    .dataframe thead th {\n",
       "        text-align: right;\n",
       "    }\n",
       "</style>\n",
       "<table border=\"1\" class=\"dataframe\">\n",
       "  <thead>\n",
       "    <tr style=\"text-align: right;\">\n",
       "      <th></th>\n",
       "      <th>count</th>\n",
       "      <th>mean</th>\n",
       "      <th>std</th>\n",
       "      <th>min</th>\n",
       "      <th>25%</th>\n",
       "      <th>50%</th>\n",
       "      <th>75%</th>\n",
       "      <th>max</th>\n",
       "    </tr>\n",
       "    <tr>\n",
       "      <th>QSTEST</th>\n",
       "      <th></th>\n",
       "      <th></th>\n",
       "      <th></th>\n",
       "      <th></th>\n",
       "      <th></th>\n",
       "      <th></th>\n",
       "      <th></th>\n",
       "      <th></th>\n",
       "    </tr>\n",
       "  </thead>\n",
       "  <tbody>\n",
       "    <tr>\n",
       "      <th>EDSS01-Expanded Disability Score</th>\n",
       "      <td>2465.0</td>\n",
       "      <td>10.663286</td>\n",
       "      <td>5.024798</td>\n",
       "      <td>1.0</td>\n",
       "      <td>6.0</td>\n",
       "      <td>11.0</td>\n",
       "      <td>14.0</td>\n",
       "      <td>35.0</td>\n",
       "    </tr>\n",
       "  </tbody>\n",
       "</table>\n",
       "</div>"
      ],
      "text/plain": [
       "                                   count       mean       std  min  25%   50%  \\\n",
       "QSTEST                                                                          \n",
       "EDSS01-Expanded Disability Score  2465.0  10.663286  5.024798  1.0  6.0  11.0   \n",
       "\n",
       "                                   75%   max  \n",
       "QSTEST                                        \n",
       "EDSS01-Expanded Disability Score  14.0  35.0  "
      ]
     },
     "execution_count": 22,
     "metadata": {},
     "output_type": "execute_result"
    }
   ],
   "source": [
    "outcome_measure_counts.groupby('QSTEST')['Observation_Count'].describe()"
   ]
  },
  {
   "cell_type": "code",
   "execution_count": null,
   "metadata": {},
   "outputs": [],
   "source": []
  },
  {
   "cell_type": "markdown",
   "metadata": {},
   "source": [
    "- VISITNUM (Visit Number)"
   ]
  },
  {
   "cell_type": "code",
   "execution_count": 11,
   "metadata": {},
   "outputs": [
    {
     "data": {
      "image/png": "[encoded data removed]",
      "text/plain": [
       "<Figure size 800x600 with 1 Axes>"
      ]
     },
     "metadata": {},
     "output_type": "display_data"
    }
   ],
   "source": [
    "VISITNUM_qs = qs['VISITNUM'].dropna()\n",
    "\n",
    "plt.figure(figsize=(8, 6))\n",
    "sns.histplot(VISITNUM_qs, kde=False, color='steelblue', bins=30)\n",
    "plt.xlabel('Visit Number')\n",
    "plt.ylabel('Count')\n",
    "plt.title('Histogram for Visit Number')\n",
    "plt.show()"
   ]
  },
  {
   "cell_type": "markdown",
   "metadata": {},
   "source": [
    "- QSDY (Study Day of Collection) "
   ]
  },
  {
   "cell_type": "code",
   "execution_count": 12,
   "metadata": {},
   "outputs": [
    {
     "data": {
      "image/png": "[encoded data removed]",
      "text/plain": [
       "<Figure size 800x600 with 1 Axes>"
      ]
     },
     "metadata": {},
     "output_type": "display_data"
    }
   ],
   "source": [
    "QSDY = qs['QSDY'].dropna()\n",
    "\n",
    "plt.figure(figsize=(8, 6))\n",
    "sns.histplot(QSDY, kde=False, color='steelblue', bins=30)\n",
    "plt.xlabel('QSDY')\n",
    "plt.ylabel('Count')\n",
    "plt.title('Histogram for study day of collection')\n",
    "plt.show()"
   ]
  },
  {
   "cell_type": "markdown",
   "metadata": {},
   "source": [
    "- Descriptive statistics for categorical variables"
   ]
  },
  {
   "cell_type": "code",
   "execution_count": null,
   "metadata": {},
   "outputs": [],
   "source": [
    "categorical_columns = ['QSTEST', 'QSCAT', 'QSSCAT', 'QSSTRESC', 'VISIT', 'QSEVLINT']\n",
    "\n",
    "descriptive_categorical = {}\n",
    "for col in categorical_columns:\n",
    "    descriptive_categorical[col] = {\n",
    "        'Count': qs[col].count(),\n",
    "        'Missing Cases': qs[col].isna().sum(),\n",
    "        'Unique Values': qs[col].nunique(),\n",
    "        'Mode': qs[col].mode().values[0],\n",
    "        'Mode Frequency': qs[col].value_counts().max()\n",
    "    }\n",
    "\n",
    "cat_qs = pd.DataFrame(descriptive_categorical).T\n",
    "cat_qs"
   ]
  },
  {
   "cell_type": "markdown",
   "metadata": {},
   "source": [
    "- Number of observations for each QSTEST (Question Name) category"
   ]
  },
  {
   "cell_type": "code",
   "execution_count": 14,
   "metadata": {},
   "outputs": [
    {
     "data": {
      "text/html": [
       "<div>\n",
       "<style scoped>\n",
       "    .dataframe tbody tr th:only-of-type {\n",
       "        vertical-align: middle;\n",
       "    }\n",
       "\n",
       "    .dataframe tbody tr th {\n",
       "        vertical-align: top;\n",
       "    }\n",
       "\n",
       "    .dataframe thead th {\n",
       "        text-align: right;\n",
       "    }\n",
       "</style>\n",
       "<table border=\"1\" class=\"dataframe\">\n",
       "  <thead>\n",
       "    <tr style=\"text-align: right;\">\n",
       "      <th></th>\n",
       "      <th>QSTEST</th>\n",
       "      <th>Count</th>\n",
       "    </tr>\n",
       "  </thead>\n",
       "  <tbody>\n",
       "    <tr>\n",
       "      <th>0</th>\n",
       "      <td>EDSS01-Expanded Disability Score</td>\n",
       "      <td>26285</td>\n",
       "    </tr>\n",
       "    <tr>\n",
       "      <th>1</th>\n",
       "      <td>KFSS1-Sensory Functions</td>\n",
       "      <td>26219</td>\n",
       "    </tr>\n",
       "    <tr>\n",
       "      <th>2</th>\n",
       "      <td>KFSS1-Brain Stem Functions</td>\n",
       "      <td>26218</td>\n",
       "    </tr>\n",
       "    <tr>\n",
       "      <th>3</th>\n",
       "      <td>KFSS1-Bowel and Bladder Functions</td>\n",
       "      <td>26217</td>\n",
       "    </tr>\n",
       "    <tr>\n",
       "      <th>4</th>\n",
       "      <td>KFSS1-Cerebral or Mental Functions</td>\n",
       "      <td>26216</td>\n",
       "    </tr>\n",
       "    <tr>\n",
       "      <th>...</th>\n",
       "      <td>...</td>\n",
       "      <td>...</td>\n",
       "    </tr>\n",
       "    <tr>\n",
       "      <th>77</th>\n",
       "      <td>SF121-Amt Time Interfere Social Activity</td>\n",
       "      <td>1491</td>\n",
       "    </tr>\n",
       "    <tr>\n",
       "      <th>78</th>\n",
       "      <td>SF121-Phys Health: Limit Kind of Work</td>\n",
       "      <td>1490</td>\n",
       "    </tr>\n",
       "    <tr>\n",
       "      <th>79</th>\n",
       "      <td>KFSS1-Other Functions Specify</td>\n",
       "      <td>575</td>\n",
       "    </tr>\n",
       "    <tr>\n",
       "      <th>80</th>\n",
       "      <td>KFSS1-Weakness Interferes With Testing</td>\n",
       "      <td>423</td>\n",
       "    </tr>\n",
       "    <tr>\n",
       "      <th>81</th>\n",
       "      <td>Questionaire</td>\n",
       "      <td>1</td>\n",
       "    </tr>\n",
       "  </tbody>\n",
       "</table>\n",
       "<p>82 rows × 2 columns</p>\n",
       "</div>"
      ],
      "text/plain": [
       "                                      QSTEST  Count\n",
       "0           EDSS01-Expanded Disability Score  26285\n",
       "1                    KFSS1-Sensory Functions  26219\n",
       "2                 KFSS1-Brain Stem Functions  26218\n",
       "3          KFSS1-Bowel and Bladder Functions  26217\n",
       "4         KFSS1-Cerebral or Mental Functions  26216\n",
       "..                                       ...    ...\n",
       "77  SF121-Amt Time Interfere Social Activity   1491\n",
       "78     SF121-Phys Health: Limit Kind of Work   1490\n",
       "79             KFSS1-Other Functions Specify    575\n",
       "80    KFSS1-Weakness Interferes With Testing    423\n",
       "81                              Questionaire      1\n",
       "\n",
       "[82 rows x 2 columns]"
      ]
     },
     "execution_count": 14,
     "metadata": {},
     "output_type": "execute_result"
    }
   ],
   "source": [
    "QSTEST_counts = qs['QSTEST'].value_counts().reset_index()\n",
    "QSTEST_counts.columns = ['QSTEST', 'Count']\n",
    "QSTEST_counts"
   ]
  },
  {
   "cell_type": "markdown",
   "metadata": {},
   "source": [
    "- Number of observations for each QSCAT (Category of Question) category"
   ]
  },
  {
   "cell_type": "code",
   "execution_count": null,
   "metadata": {},
   "outputs": [],
   "source": [
    "QSCAT_counts = qs['QSCAT'].value_counts().reset_index()\n",
    "QSCAT_counts.columns = ['QSCAT', 'Count']\n",
    "QSCAT_counts"
   ]
  },
  {
   "cell_type": "markdown",
   "metadata": {},
   "source": [
    "- Number of observations for each QSSCAT (subcategory for question) category"
   ]
  },
  {
   "cell_type": "code",
   "execution_count": 17,
   "metadata": {},
   "outputs": [
    {
     "data": {
      "text/html": [
       "<div>\n",
       "<style scoped>\n",
       "    .dataframe tbody tr th:only-of-type {\n",
       "        vertical-align: middle;\n",
       "    }\n",
       "\n",
       "    .dataframe tbody tr th {\n",
       "        vertical-align: top;\n",
       "    }\n",
       "\n",
       "    .dataframe thead th {\n",
       "        text-align: right;\n",
       "    }\n",
       "</style>\n",
       "<table border=\"1\" class=\"dataframe\">\n",
       "  <thead>\n",
       "    <tr style=\"text-align: right;\">\n",
       "      <th></th>\n",
       "      <th>QSSCAT</th>\n",
       "      <th>Count</th>\n",
       "    </tr>\n",
       "  </thead>\n",
       "  <tbody>\n",
       "    <tr>\n",
       "      <th>0</th>\n",
       "      <td>PHYSICAL FUNCTIONING</td>\n",
       "      <td>48763</td>\n",
       "    </tr>\n",
       "    <tr>\n",
       "      <th>1</th>\n",
       "      <td>GENERAL HEALTH</td>\n",
       "      <td>24348</td>\n",
       "    </tr>\n",
       "    <tr>\n",
       "      <th>2</th>\n",
       "      <td>EMOTIONAL WELL-BEING</td>\n",
       "      <td>22887</td>\n",
       "    </tr>\n",
       "    <tr>\n",
       "      <th>3</th>\n",
       "      <td>ROLE LIMITATIONS DUE TO PHYSICAL HEALTH</td>\n",
       "      <td>18305</td>\n",
       "    </tr>\n",
       "    <tr>\n",
       "      <th>4</th>\n",
       "      <td>ENERGY/FATIGUE</td>\n",
       "      <td>18304</td>\n",
       "    </tr>\n",
       "    <tr>\n",
       "      <th>5</th>\n",
       "      <td>ROLE LIMITATIONS DUE TO EMOTIONAL PROBLEMS</td>\n",
       "      <td>13718</td>\n",
       "    </tr>\n",
       "    <tr>\n",
       "      <th>6</th>\n",
       "      <td>SOCIAL FUNCTIONING</td>\n",
       "      <td>10630</td>\n",
       "    </tr>\n",
       "    <tr>\n",
       "      <th>7</th>\n",
       "      <td>PAIN</td>\n",
       "      <td>9149</td>\n",
       "    </tr>\n",
       "    <tr>\n",
       "      <th>8</th>\n",
       "      <td>HEALTH CHANGE</td>\n",
       "      <td>4581</td>\n",
       "    </tr>\n",
       "    <tr>\n",
       "      <th>9</th>\n",
       "      <td>ROLE EMOTIONAL</td>\n",
       "      <td>2984</td>\n",
       "    </tr>\n",
       "    <tr>\n",
       "      <th>10</th>\n",
       "      <td>ROLE PHYSICAL</td>\n",
       "      <td>2982</td>\n",
       "    </tr>\n",
       "    <tr>\n",
       "      <th>11</th>\n",
       "      <td>MENTAL HEALTH</td>\n",
       "      <td>2982</td>\n",
       "    </tr>\n",
       "    <tr>\n",
       "      <th>12</th>\n",
       "      <td>BODILY PAIN</td>\n",
       "      <td>1492</td>\n",
       "    </tr>\n",
       "    <tr>\n",
       "      <th>13</th>\n",
       "      <td>VITALITY</td>\n",
       "      <td>1491</td>\n",
       "    </tr>\n",
       "  </tbody>\n",
       "</table>\n",
       "</div>"
      ],
      "text/plain": [
       "                                        QSSCAT  Count\n",
       "0                         PHYSICAL FUNCTIONING  48763\n",
       "1                               GENERAL HEALTH  24348\n",
       "2                         EMOTIONAL WELL-BEING  22887\n",
       "3      ROLE LIMITATIONS DUE TO PHYSICAL HEALTH  18305\n",
       "4                               ENERGY/FATIGUE  18304\n",
       "5   ROLE LIMITATIONS DUE TO EMOTIONAL PROBLEMS  13718\n",
       "6                           SOCIAL FUNCTIONING  10630\n",
       "7                                         PAIN   9149\n",
       "8                                HEALTH CHANGE   4581\n",
       "9                               ROLE EMOTIONAL   2984\n",
       "10                               ROLE PHYSICAL   2982\n",
       "11                               MENTAL HEALTH   2982\n",
       "12                                 BODILY PAIN   1492\n",
       "13                                    VITALITY   1491"
      ]
     },
     "execution_count": 17,
     "metadata": {},
     "output_type": "execute_result"
    }
   ],
   "source": [
    "QSSCAT_counts = qs['QSSCAT'].value_counts().reset_index()\n",
    "QSSCAT_counts.columns = ['QSSCAT', 'Count']\n",
    "QSSCAT_counts"
   ]
  },
  {
   "cell_type": "code",
   "execution_count": null,
   "metadata": {},
   "outputs": [],
   "source": [
    "plt.figure(figsize=(12, 6))\n",
    "ax = qs['QSSCAT'].value_counts().plot(kind='bar', color='steelblue')\n",
    "\n",
    "for p in ax.patches:\n",
    "    ax.text(p.get_x() + p.get_width() / 2., p.get_height(), str(int(p.get_height())), ha='center', va='bottom', fontsize=8)\n",
    "\n",
    "plt.xlabel('QSSCAT')\n",
    "plt.ylabel('Count')\n",
    "plt.title('Bar Chart for Questionnaire Subcategory')\n",
    "plt.xticks(rotation=45, ha='right')  # Rotate x-axis labels for better readability\n",
    "plt.show()"
   ]
  },
  {
   "cell_type": "markdown",
   "metadata": {},
   "source": [
    "- Number of observations for each QSSTRESC (Character Result/Finding in Std Format) category"
   ]
  },
  {
   "cell_type": "code",
   "execution_count": null,
   "metadata": {},
   "outputs": [],
   "source": []
  },
  {
   "cell_type": "markdown",
   "metadata": {},
   "source": [
    "- Number of observations for each VISIT (Visit Name) category "
   ]
  },
  {
   "cell_type": "code",
   "execution_count": null,
   "metadata": {},
   "outputs": [],
   "source": [
    "VISIT_counts = qs['VISIT'].value_counts().reset_index()\n",
    "VISIT_counts.columns = ['VISIT', 'Count']\n",
    "VISIT_counts"
   ]
  },
  {
   "cell_type": "markdown",
   "metadata": {},
   "source": [
    "- Number of observations for each QSEVLINT (Evaluation Interval) category "
   ]
  },
  {
   "cell_type": "code",
   "execution_count": 16,
   "metadata": {},
   "outputs": [
    {
     "data": {
      "text/html": [
       "<div>\n",
       "<style scoped>\n",
       "    .dataframe tbody tr th:only-of-type {\n",
       "        vertical-align: middle;\n",
       "    }\n",
       "\n",
       "    .dataframe tbody tr th {\n",
       "        vertical-align: top;\n",
       "    }\n",
       "\n",
       "    .dataframe thead th {\n",
       "        text-align: right;\n",
       "    }\n",
       "</style>\n",
       "<table border=\"1\" class=\"dataframe\">\n",
       "  <thead>\n",
       "    <tr style=\"text-align: right;\">\n",
       "      <th></th>\n",
       "      <th>QSEVLINT</th>\n",
       "      <th>Count</th>\n",
       "    </tr>\n",
       "  </thead>\n",
       "  <tbody>\n",
       "    <tr>\n",
       "      <th>0</th>\n",
       "      <td>-P4W</td>\n",
       "      <td>104924</td>\n",
       "    </tr>\n",
       "    <tr>\n",
       "      <th>1</th>\n",
       "      <td>-P2W</td>\n",
       "      <td>49403</td>\n",
       "    </tr>\n",
       "  </tbody>\n",
       "</table>\n",
       "</div>"
      ],
      "text/plain": [
       "  QSEVLINT   Count\n",
       "0     -P4W  104924\n",
       "1     -P2W   49403"
      ]
     },
     "execution_count": 16,
     "metadata": {},
     "output_type": "execute_result"
    }
   ],
   "source": [
    "QSEVLINT_counts = qs['QSEVLINT'].value_counts().reset_index()\n",
    "QSEVLINT_counts.columns = ['QSEVLINT', 'Count']\n",
    "QSEVLINT_counts"
   ]
  },
  {
   "cell_type": "code",
   "execution_count": 15,
   "metadata": {},
   "outputs": [
    {
     "data": {
      "image/png": "[encoded data removed]",
      "text/plain": [
       "<Figure size 800x800 with 1 Axes>"
      ]
     },
     "metadata": {},
     "output_type": "display_data"
    }
   ],
   "source": [
    "QSEVLINT_counts = qs['QSEVLINT'].dropna().value_counts()\n",
    "\n",
    "plt.figure(figsize=(8, 8))\n",
    "plt.pie(QSEVLINT_counts, labels=QSEVLINT_counts.index, autopct=lambda p: '{:.1f}%\\n({:.0f})'.format(p, p * sum(QSEVLINT_counts) / 100), startangle=90, colors=['steelblue', 'orange', 'green', 'red', 'purple'])\n",
    "plt.title('Pie Chart for Evaluation Interval')\n",
    "plt.show()"
   ]
  },
  {
   "cell_type": "code",
   "execution_count": null,
   "metadata": {},
   "outputs": [],
   "source": [
    "alleen BDI total score is numeriek, fix mistakes (bv EDSS, inspect all graphs)"
   ]
  }
 ],
 "metadata": {
  "kernelspec": {
   "display_name": "Thesis",
   "language": "python",
   "name": "python3"
  },
  "language_info": {
   "codemirror_mode": {
    "name": "ipython",
    "version": 3
   },
   "file_extension": ".py",
   "mimetype": "text/x-python",
   "name": "python",
   "nbconvert_exporter": "python",
   "pygments_lexer": "ipython3",
   "version": "3.9.18"
  }
 },
 "nbformat": 4,
 "nbformat_minor": 2
}
